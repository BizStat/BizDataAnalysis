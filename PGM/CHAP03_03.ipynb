{
  "cells": [
    {
      "cell_type": "markdown",
      "metadata": {
        "id": "_QCHrEOT2m_t"
      },
      "source": [
        "# 제3장 파이썬을 이용한 GIS 데이터 분석\n",
        "___\n",
        "## 3.3 __GIS 분석 활용 사례__\n"
      ]
    },
    {
      "cell_type": "markdown",
      "metadata": {
        "id": "HAtyJ9c721KK"
      },
      "source": [
        "## __사전설정__\n",
        "---"
      ]
    },
    {
      "cell_type": "markdown",
      "metadata": {
        "id": "uw3-Nvtm249v"
      },
      "source": [
        "(1) 저장소 데이터 가져오기"
      ]
    },
    {
      "cell_type": "code",
      "execution_count": null,
      "metadata": {
        "id": "d5LYq9gPZx8m"
      },
      "outputs": [],
      "source": [
        "!rm -rf /content/BizDataAnalysis/"
      ]
    },
    {
      "cell_type": "code",
      "execution_count": null,
      "metadata": {
        "id": "9APPiXA43PE_"
      },
      "outputs": [],
      "source": [
        "!git clone https://github.com/BizStat/BizDataAnalysis.git"
      ]
    },
    {
      "cell_type": "markdown",
      "metadata": {
        "id": "YCG2Vnoh3IG2"
      },
      "source": [
        "\n",
        "(2) matplotlib 환경에서 한글 사용"
      ]
    },
    {
      "cell_type": "code",
      "execution_count": null,
      "metadata": {
        "id": "f7Kxphw17991"
      },
      "outputs": [],
      "source": [
        "!sudo apt-get install -y fonts-nanum\n",
        "!sudo fc-cache -f -v\n",
        "!rm ~/.cache/matplotlib -rf"
      ]
    },
    {
      "cell_type": "markdown",
      "metadata": {
        "id": "fYnwWvIX46iC"
      },
      "source": [
        "런타임 메뉴에서 '세션 다시 시작' 후 다음의 명령문 실행"
      ]
    },
    {
      "cell_type": "code",
      "execution_count": null,
      "metadata": {
        "id": "T5UHjIvW7SD-"
      },
      "outputs": [],
      "source": [
        "from matplotlib import rc\n",
        "rc('font', family='NanumMyeongjo')\n",
        "rc('axes', unicode_minus=False)"
      ]
    },
    {
      "cell_type": "markdown",
      "metadata": {
        "id": "TaT2a1PB22xv"
      },
      "source": [
        "___"
      ]
    },
    {
      "cell_type": "markdown",
      "metadata": {
        "id": "wOCESXS8-5ux"
      },
      "source": [
        "### __1.__ 수원시에서 가장 면적이 넓은 동네 찾기"
      ]
    },
    {
      "cell_type": "code",
      "source": [
        "import geopandas as gpd"
      ],
      "metadata": {
        "id": "_6wkLxbHYUVn"
      },
      "execution_count": null,
      "outputs": []
    },
    {
      "cell_type": "code",
      "source": [
        "suwon = gpd.read_file('/content/drive/MyDrive/BizDataAnalysis/DATA/suwon.shp')"
      ],
      "metadata": {
        "id": "PsrmpYyKhKn0"
      },
      "execution_count": null,
      "outputs": []
    },
    {
      "cell_type": "code",
      "source": [
        "suwon"
      ],
      "metadata": {
        "id": "IsVplpSphbgd"
      },
      "execution_count": null,
      "outputs": []
    },
    {
      "cell_type": "code",
      "source": [
        "suwon.area.head()"
      ],
      "metadata": {
        "id": "clsl1rI5_ZjC"
      },
      "execution_count": null,
      "outputs": []
    },
    {
      "cell_type": "code",
      "source": [
        "suwon[suwon.area == max(suwon.area)]['EMD_KOR_NM']"
      ],
      "metadata": {
        "id": "xgx3mZ1XiK0A"
      },
      "execution_count": null,
      "outputs": []
    },
    {
      "cell_type": "markdown",
      "source": [
        "* 이의동의 경계면"
      ],
      "metadata": {
        "id": "ritdRJLClCtF"
      }
    },
    {
      "cell_type": "code",
      "source": [
        "suwon[suwon['EMD_KOR_NM']=='이의동'].boundary"
      ],
      "metadata": {
        "id": "fzYTEUE2l-Q7"
      },
      "execution_count": null,
      "outputs": []
    },
    {
      "cell_type": "code",
      "source": [
        "suwon[suwon['EMD_KOR_NM']=='이의동'].boundary.plot()"
      ],
      "metadata": {
        "id": "CzEFyFYok2WO"
      },
      "execution_count": null,
      "outputs": []
    },
    {
      "cell_type": "markdown",
      "source": [
        "* 수원시 읍면동 경계선으로 지도 나타내기"
      ],
      "metadata": {
        "id": "5wFYus4B0KRP"
      }
    },
    {
      "cell_type": "code",
      "source": [
        "suwon.plot()"
      ],
      "metadata": {
        "id": "zDgxjfmsFfHB"
      },
      "execution_count": null,
      "outputs": []
    },
    {
      "cell_type": "code",
      "source": [
        "suwon.boundary.plot(linewidth=1,color='grey')"
      ],
      "metadata": {
        "id": "teQsT9RfFYZ6"
      },
      "execution_count": null,
      "outputs": []
    },
    {
      "cell_type": "code",
      "source": [],
      "metadata": {
        "id": "cckIy-Ho0OHl"
      },
      "execution_count": null,
      "outputs": []
    },
    {
      "cell_type": "markdown",
      "metadata": {
        "id": "v6RymNx0qAi7"
      },
      "source": [
        "### __2.__ 수원시 지도에 면적에 따라 색 농도 변경"
      ]
    },
    {
      "cell_type": "code",
      "source": [
        "import matplotlib.pyplot as plt"
      ],
      "metadata": {
        "id": "Iy2GlQwOqc8c"
      },
      "execution_count": null,
      "outputs": []
    },
    {
      "cell_type": "code",
      "source": [
        "fig, ax = plt.subplots(facecolor='white',figsize=(8,8))\n",
        "ax.axis('off')\n",
        "ax.set_title(\"수원시 읍면동 현황\", fontsize=20)\n",
        "suwon.plot(ax=ax,column=suwon.area,cmap='viridis')\n",
        "suwon.boundary.plot(ax=ax,color='grey',linewidth=1)\n",
        "suwon.centroid.plot(ax=ax,color='red')\n",
        "plt.show()"
      ],
      "metadata": {
        "id": "-_unZeAoqHdF"
      },
      "execution_count": null,
      "outputs": []
    },
    {
      "cell_type": "markdown",
      "metadata": {
        "id": "rdGadNd83cqf"
      },
      "source": [
        "### __3.__ 수원시 내에 지구대(파출소)가 있는 동네만 구분해 표현"
      ]
    },
    {
      "cell_type": "markdown",
      "source": [
        "(1) shape 파일 가져오기"
      ],
      "metadata": {
        "id": "vD-N5Gbg4A5F"
      }
    },
    {
      "cell_type": "code",
      "source": [
        "suwon = gpd.read_file('/content/drive/MyDrive/BizDataAnalysis/DATA/suwon.shp')\n",
        "sw_ps = gpd.read_file('/content/drive/MyDrive/BizDataAnalysis/DATA/sw_ps.shp')"
      ],
      "metadata": {
        "id": "orHMT9ZG4Ftt"
      },
      "execution_count": null,
      "outputs": []
    },
    {
      "cell_type": "markdown",
      "source": [
        "(2) 데이터 결합"
      ],
      "metadata": {
        "id": "vZKMAZUA4guN"
      }
    },
    {
      "cell_type": "code",
      "source": [
        "ps_dong = gpd.sjoin(suwon,sw_ps)"
      ],
      "metadata": {
        "id": "bFSHI8-I4jGU"
      },
      "execution_count": null,
      "outputs": []
    },
    {
      "cell_type": "markdown",
      "source": [
        "(3) 지도 표현"
      ],
      "metadata": {
        "id": "s-lhMDLY4nBY"
      }
    },
    {
      "cell_type": "code",
      "source": [
        "import matplotlib.pyplot as plt\n",
        "\n",
        "fig, ax = plt.subplots(facecolor='white',figsize=(8,8))\n",
        "ax.axis('off')\n",
        "ax.set_title(\"수원시에서 지구대(파출소)가 있는 읍면동 현황\", fontsize=20)\n",
        "suwon.boundary.plot(ax=ax,color='grey',linewidth=1)\n",
        "ps_dong.plot(ax=ax,color='grey')\n",
        "plt.show()"
      ],
      "metadata": {
        "id": "CdZvGBG24op8"
      },
      "execution_count": null,
      "outputs": []
    }
  ],
  "metadata": {
    "colab": {
      "provenance": []
    },
    "kernelspec": {
      "display_name": "Python 3",
      "name": "python3"
    },
    "language_info": {
      "name": "python"
    }
  },
  "nbformat": 4,
  "nbformat_minor": 0
}