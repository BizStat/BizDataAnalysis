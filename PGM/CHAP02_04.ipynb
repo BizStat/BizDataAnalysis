{
  "nbformat": 4,
  "nbformat_minor": 0,
  "metadata": {
    "colab": {
      "provenance": []
    },
    "kernelspec": {
      "name": "python3",
      "display_name": "Python 3"
    },
    "language_info": {
      "name": "python"
    }
  },
  "cells": [
    {
      "cell_type": "markdown",
      "source": [
        "# 제2장 데이터 요약과 시각화 (4)\n",
        "### __데이터 시각화__\n"
      ],
      "metadata": {
        "id": "l8zrsFUpMU1C"
      }
    },
    {
      "cell_type": "markdown",
      "source": [
        "---\n",
        "### 사전 작업\n",
        "\n",
        "\n",
        "\n"
      ],
      "metadata": {
        "id": "CGCu_Pp0cESo"
      }
    },
    {
      "cell_type": "markdown",
      "source": [
        "* 실습에 사용할 데이터를 GitHub 저장소로부터 가져오기 위하여 다음과 같은 명령을 코랩 코드 셀에서 실행"
      ],
      "metadata": {
        "id": "pc_sP2Tz1ztY"
      }
    },
    {
      "cell_type": "code",
      "source": [
        "!git clone https://github.com/BizStat/BizDataAnalysis.git"
      ],
      "metadata": {
        "id": "l6zSIYKN74nY"
      },
      "execution_count": null,
      "outputs": []
    },
    {
      "cell_type": "markdown",
      "source": [
        "* 한글 폰트 설치와 matplotlib 환경 설정"
      ],
      "metadata": {
        "id": "r52FkNAs13gJ"
      }
    },
    {
      "cell_type": "code",
      "source": [
        "!sudo apt-get install -y fonts-nanum\n",
        "!sudo fc-cache -f -v\n",
        "!rm ~/.cache/matplotlib -rf"
      ],
      "metadata": {
        "id": "f7Kxphw17991"
      },
      "execution_count": null,
      "outputs": []
    },
    {
      "cell_type": "markdown",
      "source": [
        "* 한글 그래프 환경 적용을 위해 세션 다시 시작\n",
        "  - 위의 메뉴에서 [런타임] -> [세션 다시 시작] 을 선택하거나 [Control] + M 을 누르면 됨"
      ],
      "metadata": {
        "id": "PPtk1DO6IloU"
      }
    },
    {
      "cell_type": "markdown",
      "source": [
        "* matplotlib에 사용할 한글 폰트 설정\n",
        "  - 앞의 한글 폰트 목록으로부터 자신이 사용하고자 하는 폰트이름을 복사하여 지정"
      ],
      "metadata": {
        "id": "1w-9ilG7rUQH"
      }
    },
    {
      "cell_type": "code",
      "source": [
        "from matplotlib import rc\n",
        "rc('font', family='NanumMyeongjo')\n",
        "rc('axes', unicode_minus=False)"
      ],
      "metadata": {
        "id": "T5UHjIvW7SD-"
      },
      "execution_count": null,
      "outputs": []
    },
    {
      "cell_type": "markdown",
      "source": [
        "* 자주 사용하는 라이브러리 가져오기"
      ],
      "metadata": {
        "id": "I9JnkdBLH6fJ"
      }
    },
    {
      "cell_type": "code",
      "source": [
        "import pandas as pd\n",
        "from matplotlib import pyplot as plt\n",
        "import seaborn as sns"
      ],
      "metadata": {
        "id": "XC5FbOzPH5zR"
      },
      "execution_count": null,
      "outputs": []
    },
    {
      "cell_type": "markdown",
      "source": [
        "___"
      ],
      "metadata": {
        "id": "4wMaD11E3ObW"
      }
    },
    {
      "cell_type": "markdown",
      "source": [
        "(1) 상자도표 그리기"
      ],
      "metadata": {
        "id": "B3MIkgDJ3PnT"
      }
    },
    {
      "cell_type": "markdown",
      "source": [
        "* 서울시 대기오염 데이터에서 각 측정소의 미세먼지 분포를 상자도표를 이용해 살펴보기"
      ],
      "metadata": {
        "id": "2r1KjBmNALBC"
      }
    },
    {
      "cell_type": "code",
      "source": [
        "seoul_air = pd.read_csv('/content/BizDataAnalysis/DATA/AIR_HOUR_2022.csv')"
      ],
      "metadata": {
        "id": "8T1C7sWjAJRQ"
      },
      "execution_count": null,
      "outputs": []
    },
    {
      "cell_type": "code",
      "source": [
        "seoul_air.columns"
      ],
      "metadata": {
        "id": "tE-OoR1p1eWp"
      },
      "execution_count": null,
      "outputs": []
    },
    {
      "cell_type": "code",
      "source": [
        "seoul_air = seoul_air[seoul_air['측정기 상태'] == 0]"
      ],
      "metadata": {
        "id": "s7wtmQSGEHjP"
      },
      "execution_count": null,
      "outputs": []
    },
    {
      "cell_type": "code",
      "source": [
        "seoul_air[seoul_air['측정항목'] == 8].boxplot(column='평균값')"
      ],
      "metadata": {
        "id": "bVeCcuMhHuIT"
      },
      "execution_count": null,
      "outputs": []
    },
    {
      "cell_type": "code",
      "source": [
        "seoul_air[seoul_air['측정항목'] == 8].boxplot(column='평균값',vert=False)"
      ],
      "metadata": {
        "id": "WRETa-mu6aEE"
      },
      "execution_count": null,
      "outputs": []
    },
    {
      "cell_type": "code",
      "source": [
        "seoul_air[seoul_air['측정항목'] == 8][['평균값']].boxplot()"
      ],
      "metadata": {
        "id": "nV4GGm4T2Cu7"
      },
      "execution_count": null,
      "outputs": []
    },
    {
      "cell_type": "code",
      "source": [
        "seoul_air[seoul_air['측정항목'] == 8].boxplot(column='평균값',by='측정소 코드')"
      ],
      "metadata": {
        "id": "tlk1Zorb1GJz"
      },
      "execution_count": null,
      "outputs": []
    },
    {
      "cell_type": "code",
      "source": [
        "seoul_air[seoul_air['측정항목'] == 8].groupby('측정소 코드')[['평균값']].boxplot()"
      ],
      "metadata": {
        "id": "2WmuWgnS1qWQ"
      },
      "execution_count": null,
      "outputs": []
    },
    {
      "cell_type": "markdown",
      "source": [
        "(2) 히스토그램 그리기"
      ],
      "metadata": {
        "id": "aHXJ5pbnzZ5y"
      }
    },
    {
      "cell_type": "markdown",
      "source": [
        "* 서울시 대기오염 데이터에서 미세먼지 측정값의 분포를 히스토그램 그리기"
      ],
      "metadata": {
        "id": "rrEvhuoqzcqJ"
      }
    },
    {
      "cell_type": "code",
      "source": [
        "seoul_air[seoul_air['측정항목'] == 8].hist(column='평균값')"
      ],
      "metadata": {
        "id": "_GSSXGZ1zlLs"
      },
      "execution_count": null,
      "outputs": []
    },
    {
      "cell_type": "code",
      "source": [
        "seoul_air[seoul_air['측정항목'] == 8].hist(column='평균값',by='측정소 코드')\n",
        "plt.show()"
      ],
      "metadata": {
        "id": "7boBa4k1FZHd"
      },
      "execution_count": null,
      "outputs": []
    },
    {
      "cell_type": "code",
      "source": [
        "plt.hist(seoul_air[seoul_air['측정항목'] == 8]['평균값'])"
      ],
      "metadata": {
        "id": "E8t-UcFOA-OA"
      },
      "execution_count": null,
      "outputs": []
    },
    {
      "cell_type": "markdown",
      "source": [
        "* 히스토그램 작성에 사용된 값 가져오기"
      ],
      "metadata": {
        "id": "psbecNo8Lua4"
      }
    },
    {
      "cell_type": "code",
      "source": [
        "hist, bins, _ = plt.hist(seoul_air[seoul_air['측정항목'] == 8]['평균값'])"
      ],
      "metadata": {
        "id": "2Fbm7KjzIsTt"
      },
      "execution_count": null,
      "outputs": []
    },
    {
      "cell_type": "code",
      "source": [
        "for i in range(len(hist)):\n",
        "    print(f\"구간 {i+1}: {bins[i]} <= x < {bins[i+1]} - 빈도수: {hist[i]}\")"
      ],
      "metadata": {
        "id": "JlcAVB5zJY0l"
      },
      "execution_count": null,
      "outputs": []
    },
    {
      "cell_type": "markdown",
      "source": [
        "(3) 산점도"
      ],
      "metadata": {
        "id": "o7X_4NDjRlvc"
      }
    },
    {
      "cell_type": "markdown",
      "source": [
        "* Advertiser.xlsx 파일 가져와 ad_df라는 이름의 데이터프레임 만들기"
      ],
      "metadata": {
        "id": "18T5slb2Rn6y"
      }
    },
    {
      "cell_type": "code",
      "source": [
        "ad_df = pd.read_excel('/content/BizDataAnalysis/DATA/Advertiser.xlsx')"
      ],
      "metadata": {
        "id": "tz8cMLF1Tk7I"
      },
      "execution_count": null,
      "outputs": []
    },
    {
      "cell_type": "code",
      "source": [
        "ad_df.plot('TV','Radio',kind='scatter')"
      ],
      "metadata": {
        "id": "jvZC0NuRR1Da"
      },
      "execution_count": null,
      "outputs": []
    },
    {
      "cell_type": "code",
      "source": [
        "plt.scatter(ad_df['TV'],ad_df['Radio'])"
      ],
      "metadata": {
        "id": "jbpvJLZcStMd"
      },
      "execution_count": null,
      "outputs": []
    },
    {
      "cell_type": "code",
      "source": [
        "sns.scatterplot(x=ad_df['TV'],y=ad_df['Radio'])"
      ],
      "metadata": {
        "id": "gTLzUPSyTs3o"
      },
      "execution_count": null,
      "outputs": []
    },
    {
      "cell_type": "code",
      "source": [
        "sns.scatterplot(data=ad_df,x='TV',y='Radio')"
      ],
      "metadata": {
        "id": "C897x7NLXQmu"
      },
      "execution_count": null,
      "outputs": []
    },
    {
      "cell_type": "markdown",
      "source": [
        "* seaborn 라이브러리의 pairplot을 이용해 여러 변수들의 산점도 한 번에 표현"
      ],
      "metadata": {
        "id": "lKccFNAzXr9m"
      }
    },
    {
      "cell_type": "code",
      "source": [
        "sns.pairplot(data = ad_df,vars = [\"TV\", \"Radio\", \"Magazine\",'Newspaper'])"
      ],
      "metadata": {
        "id": "-3NcOoNjXel_"
      },
      "execution_count": null,
      "outputs": []
    },
    {
      "cell_type": "code",
      "source": [
        "sns.pairplot(data = ad_df,vars = [\"TV\", \"Radio\", \"Magazine\",'Newspaper'],corner=True)"
      ],
      "metadata": {
        "id": "bvKlxOK0WHbE"
      },
      "execution_count": null,
      "outputs": []
    },
    {
      "cell_type": "markdown",
      "source": [
        "(4) 막대 그래프와 파이 그래프"
      ],
      "metadata": {
        "id": "3AN2DKqpidqm"
      }
    },
    {
      "cell_type": "markdown",
      "source": [
        "* 데이터 전처리"
      ],
      "metadata": {
        "id": "Fo1gi6XNigy4"
      }
    },
    {
      "cell_type": "code",
      "source": [
        "seoul_air = pd.read_csv('/content/BizDataAnalysis/DATA/AIR_HOUR_2022.csv')\n",
        "측정소정보 = pd.read_csv('/content/BizDataAnalysis/DATA/서울시 대기오염 측정소 정보.csv',encoding='EUC-KR')\n",
        "측정항목정보 = pd.read_csv('/content/BizDataAnalysis/DATA/서울시 대기오염 측정항목 정보.csv',encoding='EUC-KR')\n",
        "seoul_air = pd.merge(seoul_air,측정소정보,how='left',on='측정소 코드')\n",
        "seoul_air = pd.merge(seoul_air,측정항목정보,how='left',left_on='측정항목', right_on='측정항목 코드')\n",
        "sa1 = seoul_air[(seoul_air['측정소 이름'] == '서대문구') & (seoul_air['측정기 상태'] == 0)]\n",
        "sa1 = sa1[['측정일시','측정항목 명(줄임 명칭)','평균값','국가 기준초과 구분']]\n",
        "sa1.head()"
      ],
      "metadata": {
        "id": "Rk3HtdsRi8ov"
      },
      "execution_count": null,
      "outputs": []
    },
    {
      "cell_type": "markdown",
      "source": [
        "  * 측정항목별 국가 기준초과 횟수를 파이 그래프로 표현"
      ],
      "metadata": {
        "id": "HUUFxs_giwiB"
      }
    },
    {
      "cell_type": "code",
      "source": [
        "tmp1 = sa1.groupby('국가 기준초과 구분')[['평균값']].count()\n",
        "plt.pie(tmp1['평균값'], labels=tmp1.index, autopct='%.1f%%')"
      ],
      "metadata": {
        "id": "6ynfWr0ki1eN"
      },
      "execution_count": null,
      "outputs": []
    },
    {
      "cell_type": "code",
      "source": [
        "tmp2 = sa1.groupby('측정항목 명(줄임 명칭)')[['평균값']].mean()\n",
        "plt.bar(tmp2.index,tmp2['평균값'])"
      ],
      "metadata": {
        "id": "SuudnqxjmrF_"
      },
      "execution_count": null,
      "outputs": []
    },
    {
      "cell_type": "code",
      "source": [
        "plt.bar(tmp2.index,tmp2['평균값'])\n",
        "plt.title(\"막대 그래프 그리기\")\n",
        "plt.xlabel('측정항목')\n",
        "plt.ylabel('빈도')\n",
        "plt.axhline(sa1['평균값'].mean(),color='grey',linestyle='--')\n",
        "plt.show()"
      ],
      "metadata": {
        "id": "WhS1Y9Yy3pQj"
      },
      "execution_count": null,
      "outputs": []
    }
  ]
}