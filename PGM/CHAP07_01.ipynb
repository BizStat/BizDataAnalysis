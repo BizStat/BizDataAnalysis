{
  "nbformat": 4,
  "nbformat_minor": 0,
  "metadata": {
    "colab": {
      "provenance": []
    },
    "kernelspec": {
      "name": "python3",
      "display_name": "Python 3"
    },
    "language_info": {
      "name": "python"
    }
  },
  "cells": [
    {
      "cell_type": "markdown",
      "metadata": {
        "id": "_QCHrEOT2m_t"
      },
      "source": [
        "# 제 7 장 __비지도학습의 이해와 활용__\n",
        "___"
      ]
    },
    {
      "cell_type": "markdown",
      "metadata": {
        "id": "HAtyJ9c721KK"
      },
      "source": [
        "## __사전설정__\n",
        "---"
      ]
    },
    {
      "cell_type": "markdown",
      "metadata": {
        "id": "uw3-Nvtm249v"
      },
      "source": [
        "(1) 저장소 데이터 가져오기"
      ]
    },
    {
      "cell_type": "code",
      "execution_count": null,
      "metadata": {
        "id": "d5LYq9gPZx8m"
      },
      "outputs": [],
      "source": [
        "!rm -rf /content/BizDataAnalysis/"
      ]
    },
    {
      "cell_type": "code",
      "execution_count": null,
      "metadata": {
        "id": "9APPiXA43PE_"
      },
      "outputs": [],
      "source": [
        "!git clone https://github.com/BizStat/BizDataAnalysis.git"
      ]
    },
    {
      "cell_type": "markdown",
      "metadata": {
        "id": "YCG2Vnoh3IG2"
      },
      "source": [
        "\n",
        "(2) matplotlib 환경에서 한글 사용"
      ]
    },
    {
      "cell_type": "code",
      "execution_count": null,
      "metadata": {
        "id": "f7Kxphw17991"
      },
      "outputs": [],
      "source": [
        "!sudo apt-get install -y fonts-nanum\n",
        "!sudo fc-cache -f -v\n",
        "!rm ~/.cache/matplotlib -rf"
      ]
    },
    {
      "cell_type": "markdown",
      "metadata": {
        "id": "fYnwWvIX46iC"
      },
      "source": [
        "런타임 메뉴에서 '세션 다시 시작' 후 다음의 명령문 실행"
      ]
    },
    {
      "cell_type": "code",
      "execution_count": null,
      "metadata": {
        "id": "T5UHjIvW7SD-"
      },
      "outputs": [],
      "source": [
        "from matplotlib import rc\n",
        "rc('font', family='NanumGothicCoding')\n",
        "rc('axes', unicode_minus=False)"
      ]
    },
    {
      "cell_type": "markdown",
      "source": [
        "(3) 구글 드라이브 연결"
      ],
      "metadata": {
        "id": "tPVKIN1vqzjx"
      }
    },
    {
      "cell_type": "code",
      "source": [
        "from google.colab import drive\n",
        "drive.mount('/content/gdrive/')"
      ],
      "metadata": {
        "id": "12BNWJ1Yq10s"
      },
      "execution_count": null,
      "outputs": []
    },
    {
      "cell_type": "markdown",
      "metadata": {
        "id": "TaT2a1PB22xv"
      },
      "source": [
        "___"
      ]
    },
    {
      "cell_type": "markdown",
      "source": [
        "## 7.1 __차원축소의 이해와 활용__"
      ],
      "metadata": {
        "id": "Hqt8GZABOYRF"
      }
    },
    {
      "cell_type": "code",
      "source": [
        "import pandas as pd\n",
        "import matplotlib.pyplot as plt\n",
        "import numpy as np"
      ],
      "metadata": {
        "id": "R8mmOnISLHjj"
      },
      "execution_count": null,
      "outputs": []
    },
    {
      "cell_type": "markdown",
      "source": [
        "### (1) 주성분 분석 사례 : Red Wine Qulaity data"
      ],
      "metadata": {
        "id": "PAxvOm_gSa7u"
      }
    },
    {
      "cell_type": "markdown",
      "source": [
        "* 데이터 가져오기"
      ],
      "metadata": {
        "id": "1XFXrIG-K6LY"
      }
    },
    {
      "cell_type": "code",
      "source": [
        "wine = pd.read_table('/content/BizDataAnalysis/DATA/winequality-red.csv',sep=',')"
      ],
      "metadata": {
        "id": "eC5SMc9vK8gm"
      },
      "execution_count": null,
      "outputs": []
    },
    {
      "cell_type": "code",
      "source": [
        "wine.info()"
      ],
      "metadata": {
        "id": "4A49elkQbwjc"
      },
      "execution_count": null,
      "outputs": []
    },
    {
      "cell_type": "code",
      "source": [
        "wine.head()"
      ],
      "metadata": {
        "id": "PtP9_H74LQrO"
      },
      "execution_count": null,
      "outputs": []
    },
    {
      "cell_type": "code",
      "source": [
        "wine.shape"
      ],
      "metadata": {
        "id": "mZhGiy2oz-hw"
      },
      "execution_count": null,
      "outputs": []
    },
    {
      "cell_type": "markdown",
      "source": [
        "* 데이터 살펴보기"
      ],
      "metadata": {
        "id": "uoM-ZIuX0420"
      }
    },
    {
      "cell_type": "code",
      "source": [
        "import seaborn as sns\n",
        "sns.pairplot(wine.iloc[:,1:], hue=\"quality\")\n",
        "plt.show()"
      ],
      "metadata": {
        "id": "Zu8nuCmr1a5x"
      },
      "execution_count": null,
      "outputs": []
    },
    {
      "cell_type": "markdown",
      "source": [
        "* 분석 데이터"
      ],
      "metadata": {
        "id": "Uw6h88qtNPeD"
      }
    },
    {
      "cell_type": "code",
      "source": [
        "X = wine.iloc[:,0:-1]"
      ],
      "metadata": {
        "id": "m0ibgFUg04GM"
      },
      "execution_count": null,
      "outputs": []
    },
    {
      "cell_type": "code",
      "source": [
        "X.head()"
      ],
      "metadata": {
        "id": "OS_vg42M1OQ6"
      },
      "execution_count": null,
      "outputs": []
    },
    {
      "cell_type": "markdown",
      "source": [
        "* 주성분 수 결정"
      ],
      "metadata": {
        "id": "tWqLv9caNUHw"
      }
    },
    {
      "cell_type": "code",
      "source": [
        "from sklearn.preprocessing import StandardScaler\n",
        "scaler = StandardScaler()\n",
        "scaler.fit(X)"
      ],
      "metadata": {
        "id": "-ZQScHOkNoPL"
      },
      "execution_count": null,
      "outputs": []
    },
    {
      "cell_type": "code",
      "source": [
        "for i in range(0,len(scaler.feature_names_in_)):\n",
        "  print(f'{scaler.feature_names_in_[i]} : {scaler.mean_[i]}')"
      ],
      "metadata": {
        "id": "xuBSoTCbONoU"
      },
      "execution_count": null,
      "outputs": []
    },
    {
      "cell_type": "code",
      "source": [
        "for i in range(0,len(scaler.feature_names_in_)):\n",
        "  print(f'{scaler.feature_names_in_[i]} : {scaler.var_[i]}')"
      ],
      "metadata": {
        "id": "IlKGPEWuOSUf"
      },
      "execution_count": null,
      "outputs": []
    },
    {
      "cell_type": "code",
      "source": [
        "Xt = scaler.transform(X)"
      ],
      "metadata": {
        "id": "72iT3k3-OGXR"
      },
      "execution_count": null,
      "outputs": []
    },
    {
      "cell_type": "code",
      "source": [
        "from sklearn.decomposition import PCA\n",
        "wine_pca = PCA()\n",
        "wine_pca.fit(Xt)"
      ],
      "metadata": {
        "id": "bUzrvAKQPe3L"
      },
      "execution_count": null,
      "outputs": []
    },
    {
      "cell_type": "code",
      "source": [
        "wine_pca.explained_variance_"
      ],
      "metadata": {
        "id": "SNQIAhMkQFMB"
      },
      "execution_count": null,
      "outputs": []
    },
    {
      "cell_type": "code",
      "source": [
        "plt.plot(wine_pca.explained_variance_)\n",
        "plt.show()"
      ],
      "metadata": {
        "id": "O7le8hn4YpJD"
      },
      "execution_count": null,
      "outputs": []
    },
    {
      "cell_type": "markdown",
      "source": [
        "* 주성분 분석 결과 탐색"
      ],
      "metadata": {
        "id": "hu_dPaU5p29X"
      }
    },
    {
      "cell_type": "code",
      "source": [
        "wine_pca.components_"
      ],
      "metadata": {
        "id": "hGUx9COPviD1"
      },
      "execution_count": null,
      "outputs": []
    },
    {
      "cell_type": "code",
      "source": [
        "Xprj = wine_pca.transform(Xt)\n",
        "Xprj.shape"
      ],
      "metadata": {
        "id": "1OC_cV_LoORG"
      },
      "execution_count": null,
      "outputs": []
    },
    {
      "cell_type": "code",
      "source": [
        "Xprj[:,0:2]"
      ],
      "metadata": {
        "id": "naiBdBjUqJD4"
      },
      "execution_count": null,
      "outputs": []
    },
    {
      "cell_type": "code",
      "source": [
        "wine = wine.assign(PC1=Xprj[:,0],PC2=Xprj[:,1])"
      ],
      "metadata": {
        "id": "pv1brapNqbnS"
      },
      "execution_count": null,
      "outputs": []
    },
    {
      "cell_type": "code",
      "source": [
        "plt.scatter(wine['PC1'],wine['PC2'],c=wine['quality'])\n",
        "plt.xlabel(\"주성분1\")\n",
        "plt.ylabel(\"주성분2\")\n",
        "plt.grid()\n",
        "plt.show()"
      ],
      "metadata": {
        "id": "KvPkFkiOtMyX"
      },
      "execution_count": null,
      "outputs": []
    },
    {
      "cell_type": "code",
      "source": [
        "#@title PCA 결과 시각화를 위한 biplot 함수 (출처: https://sukhbinder.wordpress.com/2015/08/05/biplot-with-python/)\n",
        "def biplot(score,coeff,pcax,pcay,labels=None):\n",
        "  pca1=pcax-1\n",
        "  pca2=pcay-1\n",
        "  xs = score[:,pca1]\n",
        "  ys = score[:,pca2]\n",
        "  n=score.shape[1]\n",
        "  scalex = 1.0/(xs.max()- xs.min())\n",
        "  scaley = 1.0/(ys.max()- ys.min())\n",
        "  plt.scatter(xs*scalex,ys*scaley)\n",
        "  for i in range(n):\n",
        "    plt.arrow(0, 0, coeff[i,pca1], coeff[i,pca2],color='r',alpha=0.5)\n",
        "    if labels is None:\n",
        "      plt.text(coeff[i,pca1]* 1.15, coeff[i,pca2] * 1.15, \"Var\"+str(i+1), color='g', ha='center', va='center')\n",
        "    else:\n",
        "      plt.text(coeff[i,pca1]* 1.15, coeff[i,pca2] * 1.15, labels[i], color='g', ha='center', va='center')\n",
        "  plt.xlim(-1,1)\n",
        "  plt.ylim(-1,1)\n",
        "  plt.xlabel(\"주성분{}\".format(pcax))\n",
        "  plt.ylabel(\"주성분{}\".format(pcay))\n",
        "  plt.grid()"
      ],
      "metadata": {
        "id": "MHF18M39jD8c"
      },
      "execution_count": null,
      "outputs": []
    },
    {
      "cell_type": "code",
      "source": [
        "biplot(Xprj, wine_pca.components_, 1, 2, labels=scaler.feature_names_in_)"
      ],
      "metadata": {
        "id": "UGmLk4g3oBTD"
      },
      "execution_count": null,
      "outputs": []
    },
    {
      "cell_type": "markdown",
      "source": [
        "### (2) 주성분 분석 사례 : Boston house-price data"
      ],
      "metadata": {
        "id": "dzo0gyKg5r7x"
      }
    },
    {
      "cell_type": "code",
      "source": [],
      "metadata": {
        "id": "aUCtR6nDorZJ"
      },
      "execution_count": null,
      "outputs": []
    }
  ]
}