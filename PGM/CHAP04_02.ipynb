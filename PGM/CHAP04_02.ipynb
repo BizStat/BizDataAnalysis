{
  "nbformat": 4,
  "nbformat_minor": 0,
  "metadata": {
    "colab": {
      "provenance": [],
      "private_outputs": true
    },
    "kernelspec": {
      "name": "python3",
      "display_name": "Python 3"
    },
    "language_info": {
      "name": "python"
    }
  },
  "cells": [
    {
      "cell_type": "markdown",
      "metadata": {
        "id": "_QCHrEOT2m_t"
      },
      "source": [
        "# 제 4 장 데이터 수집과 정리\n",
        "___"
      ]
    },
    {
      "cell_type": "markdown",
      "metadata": {
        "id": "HAtyJ9c721KK"
      },
      "source": [
        "## __사전설정__\n",
        "---"
      ]
    },
    {
      "cell_type": "markdown",
      "metadata": {
        "id": "uw3-Nvtm249v"
      },
      "source": [
        "(1) 저장소 데이터 가져오기"
      ]
    },
    {
      "cell_type": "code",
      "execution_count": null,
      "metadata": {
        "id": "d5LYq9gPZx8m"
      },
      "outputs": [],
      "source": [
        "!rm -rf /content/BizDataAnalysis/"
      ]
    },
    {
      "cell_type": "code",
      "execution_count": null,
      "metadata": {
        "id": "9APPiXA43PE_"
      },
      "outputs": [],
      "source": [
        "!git clone https://github.com/BizStat/BizDataAnalysis.git"
      ]
    },
    {
      "cell_type": "markdown",
      "metadata": {
        "id": "YCG2Vnoh3IG2"
      },
      "source": [
        "\n",
        "(2) matplotlib 환경에서 한글 사용"
      ]
    },
    {
      "cell_type": "code",
      "execution_count": null,
      "metadata": {
        "id": "f7Kxphw17991"
      },
      "outputs": [],
      "source": [
        "!sudo apt-get install -y fonts-nanum\n",
        "!sudo fc-cache -f -v\n",
        "!rm ~/.cache/matplotlib -rf"
      ]
    },
    {
      "cell_type": "markdown",
      "metadata": {
        "id": "fYnwWvIX46iC"
      },
      "source": [
        "런타임 메뉴에서 '세션 다시 시작' 후 다음의 명령문 실행"
      ]
    },
    {
      "cell_type": "code",
      "execution_count": null,
      "metadata": {
        "id": "T5UHjIvW7SD-"
      },
      "outputs": [],
      "source": [
        "from matplotlib import rc\n",
        "rc('font', family='NanumMyeongjo')\n",
        "rc('axes', unicode_minus=False)"
      ]
    },
    {
      "cell_type": "markdown",
      "metadata": {
        "id": "TaT2a1PB22xv"
      },
      "source": [
        "___"
      ]
    },
    {
      "cell_type": "markdown",
      "source": [
        "## 4.2 __Open API 이용__"
      ],
      "metadata": {
        "id": "DDuLWA04_yFk"
      }
    },
    {
      "cell_type": "code",
      "source": [
        "import requests as req\n",
        "import json\n",
        "import pandas as pd"
      ],
      "metadata": {
        "id": "CSqUSEyER6QS"
      },
      "execution_count": null,
      "outputs": []
    },
    {
      "cell_type": "markdown",
      "source": [
        "(1) 한국은행 Open API"
      ],
      "metadata": {
        "id": "svrzuphiQJs0"
      }
    },
    {
      "cell_type": "markdown",
      "source": [
        "* 홈페이지 : https://ecos.bok.or.kr/api/#/"
      ],
      "metadata": {
        "id": "7D5uf0FNRYMy"
      }
    },
    {
      "cell_type": "markdown",
      "source": [
        "* Open API 인증키 신청 후 [My Page]에서 확인"
      ],
      "metadata": {
        "id": "BwQ1vadOfv5L"
      }
    },
    {
      "cell_type": "code",
      "source": [
        "BOK_KEY = 'N1VG2759HK9V3HDMUG1U'"
      ],
      "metadata": {
        "id": "Q1VKTc77fng6"
      },
      "execution_count": null,
      "outputs": []
    },
    {
      "cell_type": "markdown",
      "source": [
        "* 이용 예시"
      ],
      "metadata": {
        "id": "aMxnIHC6fm3B"
      }
    },
    {
      "cell_type": "code",
      "source": [
        "uri = 'http://ecos.bok.or.kr/api/StatisticTableList/N1VG2759HK9V3HDMUG1U/json/kr/1/10/102Y004'\n",
        "resp = req.get(uri)"
      ],
      "metadata": {
        "id": "2BZefCAMgvC_"
      },
      "execution_count": null,
      "outputs": []
    },
    {
      "cell_type": "code",
      "source": [
        "resp.text"
      ],
      "metadata": {
        "id": "llM-ibNDneuY"
      },
      "execution_count": null,
      "outputs": []
    },
    {
      "cell_type": "code",
      "source": [
        "res1 = json.loads(resp.text)"
      ],
      "metadata": {
        "id": "B7xTOPrPniJi"
      },
      "execution_count": null,
      "outputs": []
    },
    {
      "cell_type": "code",
      "source": [
        "res1"
      ],
      "metadata": {
        "id": "cIcVbwTZoqYN"
      },
      "execution_count": null,
      "outputs": []
    },
    {
      "cell_type": "code",
      "source": [
        "res1['StatisticTableList']"
      ],
      "metadata": {
        "id": "TqtofDSJosuo"
      },
      "execution_count": null,
      "outputs": []
    },
    {
      "cell_type": "code",
      "source": [
        "res1['StatisticTableList']['row']"
      ],
      "metadata": {
        "id": "jPOq28oFo1He"
      },
      "execution_count": null,
      "outputs": []
    },
    {
      "cell_type": "code",
      "source": [
        "df1 = pd.json_normalize(res1['StatisticTableList']['row'])"
      ],
      "metadata": {
        "id": "csqpw9IepFYW"
      },
      "execution_count": null,
      "outputs": []
    },
    {
      "cell_type": "code",
      "source": [
        "df1"
      ],
      "metadata": {
        "id": "HXT7bQ_OpM2S"
      },
      "execution_count": null,
      "outputs": []
    },
    {
      "cell_type": "markdown",
      "source": [
        "* 통계 용어 사전 활용"
      ],
      "metadata": {
        "id": "LB_NUqruR1wR"
      }
    },
    {
      "cell_type": "code",
      "source": [
        "uri = 'http://ecos.bok.or.kr/api/StatisticWord/N1VG2759HK9V3HDMUG1U/json/kr/1/10/'"
      ],
      "metadata": {
        "id": "xyfYYIa3TN6D"
      },
      "execution_count": null,
      "outputs": []
    },
    {
      "cell_type": "code",
      "source": [
        "word = '소비자동향지수'"
      ],
      "metadata": {
        "id": "WgKEOEMCpoiW"
      },
      "execution_count": null,
      "outputs": []
    },
    {
      "cell_type": "code",
      "source": [
        "resp = req.get(uri+word)"
      ],
      "metadata": {
        "id": "GjJ46p4DWHgs"
      },
      "execution_count": null,
      "outputs": []
    },
    {
      "cell_type": "code",
      "source": [
        "resp.status_code"
      ],
      "metadata": {
        "id": "xXTEjBImTXly"
      },
      "execution_count": null,
      "outputs": []
    },
    {
      "cell_type": "code",
      "source": [
        "resp.text"
      ],
      "metadata": {
        "id": "L9d-pfazqCe5"
      },
      "execution_count": null,
      "outputs": []
    },
    {
      "cell_type": "code",
      "source": [
        "res2 = json.loads(resp.text)"
      ],
      "metadata": {
        "id": "8aZCcR_Up1Eh"
      },
      "execution_count": null,
      "outputs": []
    },
    {
      "cell_type": "code",
      "source": [
        "df2 = pd.json_normalize(res2['StatisticWord']['row'])"
      ],
      "metadata": {
        "id": "3JZmcJtJqcLG"
      },
      "execution_count": null,
      "outputs": []
    },
    {
      "cell_type": "code",
      "source": [
        "df2"
      ],
      "metadata": {
        "id": "g6XUpl3qqqPr"
      },
      "execution_count": null,
      "outputs": []
    },
    {
      "cell_type": "markdown",
      "source": [
        "* 최근 3년간의 소비자물가지수(분기별 총지수) 가져오기"
      ],
      "metadata": {
        "id": "wzM0l0-8gmRr"
      }
    },
    {
      "cell_type": "code",
      "source": [
        "uri_fmt = 'http://ecos.bok.or.kr/api/StatisticSearch/{}/json/kr/1/1000/{}/{}/{}/{}/{}'"
      ],
      "metadata": {
        "id": "i2HNTcqXgruu"
      },
      "execution_count": null,
      "outputs": []
    },
    {
      "cell_type": "code",
      "source": [
        "통계코드,작성주기,시작시점,종료시점,항목코드= '901Y009','M','202101','202312','0'"
      ],
      "metadata": {
        "id": "ubqRD718hVhi"
      },
      "execution_count": null,
      "outputs": []
    },
    {
      "cell_type": "code",
      "source": [
        "uri = uri_fmt.format(BOK_KEY,통계코드,작성주기,시작시점,종료시점,항목코드)"
      ],
      "metadata": {
        "id": "zVjKYyv-ivKA"
      },
      "execution_count": null,
      "outputs": []
    },
    {
      "cell_type": "code",
      "source": [
        "resp = req.get(uri)"
      ],
      "metadata": {
        "id": "hzC5JIMzjBx7"
      },
      "execution_count": null,
      "outputs": []
    },
    {
      "cell_type": "code",
      "source": [
        "resp"
      ],
      "metadata": {
        "id": "IZ5bzbFEjJgp"
      },
      "execution_count": null,
      "outputs": []
    },
    {
      "cell_type": "code",
      "source": [
        "tmp = json.loads(resp.text)"
      ],
      "metadata": {
        "id": "usjnfzJRjLDF"
      },
      "execution_count": null,
      "outputs": []
    },
    {
      "cell_type": "code",
      "source": [
        "res = pd.json_normalize(tmp['StatisticSearch']['row'])"
      ],
      "metadata": {
        "id": "AeDTd-2SjWhq"
      },
      "execution_count": null,
      "outputs": []
    },
    {
      "cell_type": "code",
      "source": [
        "res\n"
      ],
      "metadata": {
        "id": "Z2vEbbkhjvDK"
      },
      "execution_count": null,
      "outputs": []
    },
    {
      "cell_type": "markdown",
      "source": [
        "(2) 네이버 검색 API"
      ],
      "metadata": {
        "id": "0fqjKBDKQOha"
      }
    },
    {
      "cell_type": "markdown",
      "source": [
        "* 애플리케이션 등록 후 API 인증 정보"
      ],
      "metadata": {
        "id": "dXc12yfJZ996"
      }
    },
    {
      "cell_type": "code",
      "source": [
        "CLT_ID = 'Q8Pw7CUP8kMmHB51FSGA'\n",
        "CLT_SCR = 'wguPXntry8'"
      ],
      "metadata": {
        "id": "T40vNwxilgke"
      },
      "execution_count": null,
      "outputs": []
    },
    {
      "cell_type": "markdown",
      "source": [
        "* 뉴스 검색"
      ],
      "metadata": {
        "id": "EsBc63CUke2I"
      }
    },
    {
      "cell_type": "code",
      "source": [
        "API_URL = 'https://openapi.naver.com/v1/search/book.json'\n",
        "params = {\n",
        "    'query' : '방탄소년단',\n",
        "    'display' : 100,\n",
        "    'start' : 1,\n",
        "    'sort' : 'date'\n",
        "}\n",
        "headers = {\n",
        "    'X-Naver-Client-Id' : CLT_ID,\n",
        "    'X-Naver-Client-Secret' : CLT_SCR\n",
        "}"
      ],
      "metadata": {
        "id": "mEqnusmbkjWu"
      },
      "execution_count": null,
      "outputs": []
    },
    {
      "cell_type": "code",
      "source": [
        "resp = req.get(API_URL, params=params, headers=headers)"
      ],
      "metadata": {
        "id": "DPYGalrzltRt"
      },
      "execution_count": null,
      "outputs": []
    },
    {
      "cell_type": "code",
      "source": [
        "resp"
      ],
      "metadata": {
        "id": "qQAoyybenQRP"
      },
      "execution_count": null,
      "outputs": []
    },
    {
      "cell_type": "code",
      "source": [
        "resp.status_code"
      ],
      "metadata": {
        "id": "Dwqm4iv_l7A1"
      },
      "execution_count": null,
      "outputs": []
    },
    {
      "cell_type": "code",
      "source": [
        "cnt = resp.json()"
      ],
      "metadata": {
        "id": "qizn1wmao4hl"
      },
      "execution_count": null,
      "outputs": []
    },
    {
      "cell_type": "code",
      "source": [
        "cnt"
      ],
      "metadata": {
        "id": "hYeJMpgmney-"
      },
      "execution_count": null,
      "outputs": []
    },
    {
      "cell_type": "code",
      "source": [
        "cnt['items']"
      ],
      "metadata": {
        "id": "gxjujazEplpJ"
      },
      "execution_count": null,
      "outputs": []
    },
    {
      "cell_type": "code",
      "source": [
        "df1 = pd.json_normalize(cnt['items'])"
      ],
      "metadata": {
        "id": "zZ6HAAj5qJO8"
      },
      "execution_count": null,
      "outputs": []
    },
    {
      "cell_type": "code",
      "source": [
        "df1 = pd.json_normalize((resp.json())['items'])"
      ],
      "metadata": {
        "id": "JAp4fmTyyHW_"
      },
      "execution_count": null,
      "outputs": []
    },
    {
      "cell_type": "code",
      "source": [
        "df1.head()"
      ],
      "metadata": {
        "id": "8U84C_N-qT_8"
      },
      "execution_count": null,
      "outputs": []
    },
    {
      "cell_type": "code",
      "source": [
        "df1.dtypes"
      ],
      "metadata": {
        "id": "yaAmNdb5rjOd"
      },
      "execution_count": null,
      "outputs": []
    },
    {
      "cell_type": "markdown",
      "source": [
        "(3) kakao Karlo API"
      ],
      "metadata": {
        "id": "ltrsuGQq_z50"
      }
    },
    {
      "cell_type": "markdown",
      "source": [
        "* 카카오 앱 사용정보"
      ],
      "metadata": {
        "id": "5CYpLDLrHYFl"
      }
    },
    {
      "cell_type": "code",
      "source": [
        "# [내 애플리케이션] > [앱 키] 에서 확인한 REST API 키 값 입력\n",
        "KAKAO_REST_API_KEY = '81ea39b104eb74d11bf37cfb34b10915'"
      ],
      "metadata": {
        "id": "sv_UKZ-D4o1l"
      },
      "execution_count": null,
      "outputs": []
    },
    {
      "cell_type": "markdown",
      "source": [
        "* 주소를 좌표로 변환하기"
      ],
      "metadata": {
        "id": "bfaiT-3c4kiC"
      }
    },
    {
      "cell_type": "code",
      "source": [
        "address = '경기도 수원시 영통구 광교산로 154-42'"
      ],
      "metadata": {
        "id": "tMC7GS5zIwFi"
      },
      "execution_count": null,
      "outputs": []
    },
    {
      "cell_type": "markdown",
      "source": [
        "- 네이버와 비슷한 형식으로 사용"
      ],
      "metadata": {
        "id": "vngVjsW8oL48"
      }
    },
    {
      "cell_type": "code",
      "source": [
        "API_URL = 'https://dapi.kakao.com/v2/local/search/address.json'\n",
        "params = {\n",
        "    'query' : address\n",
        "}\n",
        "headers = {\n",
        "    'Authorization' : 'KakaoAK ' + KAKAO_REST_API_KEY\n",
        "}"
      ],
      "metadata": {
        "id": "J_NJYPYGoRBV"
      },
      "execution_count": null,
      "outputs": []
    },
    {
      "cell_type": "code",
      "source": [
        "resp = req.get(API_URL, params=params, headers=headers)"
      ],
      "metadata": {
        "id": "9k6iH5U8oo22"
      },
      "execution_count": null,
      "outputs": []
    },
    {
      "cell_type": "code",
      "source": [
        "# 응답 결과 확인\n",
        "resp.json()"
      ],
      "metadata": {
        "id": "-g8bbmddHnUu"
      },
      "execution_count": null,
      "outputs": []
    },
    {
      "cell_type": "code",
      "source": [
        "cnt=resp.json()"
      ],
      "metadata": {
        "id": "gIrJ11BOHkoY"
      },
      "execution_count": null,
      "outputs": []
    },
    {
      "cell_type": "code",
      "source": [
        "cnt\n",
        "#cnt['documents']\n",
        "#cnt['documents'][0]\n",
        "#cnt['documents'][0]['address']"
      ],
      "metadata": {
        "id": "fh8gRbRMRbZz"
      },
      "execution_count": null,
      "outputs": []
    },
    {
      "cell_type": "code",
      "source": [
        "# 위도\n",
        "cnt['documents'][0]['address']['y']"
      ],
      "metadata": {
        "id": "yRd0ABspKBh2"
      },
      "execution_count": null,
      "outputs": []
    },
    {
      "cell_type": "code",
      "source": [
        "# 경도\n",
        "cnt['documents'][0]['address']['x']"
      ],
      "metadata": {
        "id": "4TbzxtwSMOkM"
      },
      "execution_count": null,
      "outputs": []
    }
  ]
}