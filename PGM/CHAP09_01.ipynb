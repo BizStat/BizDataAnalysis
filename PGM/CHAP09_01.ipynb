{
  "nbformat": 4,
  "nbformat_minor": 0,
  "metadata": {
    "colab": {
      "provenance": []
    },
    "kernelspec": {
      "name": "python3",
      "display_name": "Python 3"
    },
    "language_info": {
      "name": "python"
    }
  },
  "cells": [
    {
      "cell_type": "markdown",
      "metadata": {
        "id": "_QCHrEOT2m_t"
      },
      "source": [
        "# 제 9 장 __인공신경망의 이해와 활용__ (2)\n",
        "___"
      ]
    },
    {
      "cell_type": "markdown",
      "metadata": {
        "id": "HAtyJ9c721KK"
      },
      "source": [
        "## __사전설정__\n",
        "---"
      ]
    },
    {
      "cell_type": "markdown",
      "metadata": {
        "id": "uw3-Nvtm249v"
      },
      "source": [
        "(1) 저장소 데이터 가져오기"
      ]
    },
    {
      "cell_type": "code",
      "execution_count": null,
      "metadata": {
        "id": "d5LYq9gPZx8m"
      },
      "outputs": [],
      "source": [
        "!rm -rf /content/BizDataAnalysis/"
      ]
    },
    {
      "cell_type": "code",
      "execution_count": null,
      "metadata": {
        "id": "9APPiXA43PE_"
      },
      "outputs": [],
      "source": [
        "!git clone https://github.com/BizStat/BizDataAnalysis.git"
      ]
    },
    {
      "cell_type": "markdown",
      "metadata": {
        "id": "YCG2Vnoh3IG2"
      },
      "source": [
        "\n",
        "(2) matplotlib 환경에서 한글 사용"
      ]
    },
    {
      "cell_type": "code",
      "execution_count": null,
      "metadata": {
        "id": "f7Kxphw17991"
      },
      "outputs": [],
      "source": [
        "!sudo apt-get install -y fonts-nanum\n",
        "!sudo fc-cache -f -v\n",
        "!rm ~/.cache/matplotlib -rf"
      ]
    },
    {
      "cell_type": "markdown",
      "metadata": {
        "id": "fYnwWvIX46iC"
      },
      "source": [
        "런타임 메뉴에서 '세션 다시 시작' 후 다음의 명령문 실행"
      ]
    },
    {
      "cell_type": "code",
      "execution_count": null,
      "metadata": {
        "id": "T5UHjIvW7SD-"
      },
      "outputs": [],
      "source": [
        "from matplotlib import rc\n",
        "rc('font', family='NanumGothicCoding')\n",
        "rc('axes', unicode_minus=False)"
      ]
    },
    {
      "cell_type": "markdown",
      "source": [
        "(3) 구글 드라이브 연결"
      ],
      "metadata": {
        "id": "tPVKIN1vqzjx"
      }
    },
    {
      "cell_type": "code",
      "source": [
        "from google.colab import drive\n",
        "drive.mount('/content/gdrive/')"
      ],
      "metadata": {
        "id": "12BNWJ1Yq10s"
      },
      "execution_count": null,
      "outputs": []
    },
    {
      "cell_type": "markdown",
      "metadata": {
        "id": "TaT2a1PB22xv"
      },
      "source": [
        "___"
      ]
    },
    {
      "cell_type": "markdown",
      "source": [
        "## 9.1 __비지도 학습을 위한 인공신경망 모형__"
      ],
      "metadata": {
        "id": "Hqt8GZABOYRF"
      }
    },
    {
      "cell_type": "markdown",
      "source": [
        "### (1) 오토인코더 사례"
      ],
      "metadata": {
        "id": "PAxvOm_gSa7u"
      }
    },
    {
      "cell_type": "markdown",
      "source": [
        "__1.  데이터 전처리__"
      ],
      "metadata": {
        "id": "IZ2ZlxZ06HxV"
      }
    },
    {
      "cell_type": "markdown",
      "source": [
        "* Red Wine Quality 데이터 가져오기"
      ],
      "metadata": {
        "id": "mu7XIhObI6eS"
      }
    },
    {
      "cell_type": "code",
      "source": [
        "import pandas as pd\n",
        "import numpy as np\n",
        "import matplotlib.pyplot as plt"
      ],
      "metadata": {
        "id": "-9B7dOwZJDuT"
      },
      "execution_count": null,
      "outputs": []
    },
    {
      "cell_type": "code",
      "source": [
        "wine = pd.read_table('/content/BizDataAnalysis/DATA/winequality-red.csv',sep=',')"
      ],
      "metadata": {
        "id": "jKrdu9nKJESa"
      },
      "execution_count": null,
      "outputs": []
    },
    {
      "cell_type": "code",
      "source": [
        "wine.head()"
      ],
      "metadata": {
        "id": "3SrgNK0uJaql"
      },
      "execution_count": null,
      "outputs": []
    },
    {
      "cell_type": "markdown",
      "source": [
        "* 분석 데이터의 추출과 표준화"
      ],
      "metadata": {
        "id": "iDUs46Uu5DVz"
      }
    },
    {
      "cell_type": "code",
      "source": [
        "X = wine.iloc[:,0:-1]"
      ],
      "metadata": {
        "id": "wXMPnDCd5Gv5"
      },
      "execution_count": null,
      "outputs": []
    },
    {
      "cell_type": "code",
      "source": [
        "from sklearn.preprocessing import StandardScaler\n",
        "scaler = StandardScaler()\n",
        "scaler.fit(X)"
      ],
      "metadata": {
        "id": "3rZYLP0Y5NhR"
      },
      "execution_count": null,
      "outputs": []
    },
    {
      "cell_type": "code",
      "source": [
        "Xt = scaler.transform(X)"
      ],
      "metadata": {
        "id": "6n9xSi8h5bvl"
      },
      "execution_count": null,
      "outputs": []
    },
    {
      "cell_type": "markdown",
      "source": [
        "__2.  분석에 사용할 신경망 모형 설정__"
      ],
      "metadata": {
        "id": "SHYp1bWhKsPG"
      }
    },
    {
      "cell_type": "code",
      "source": [
        "from tensorflow.keras.models import Sequential\n",
        "from tensorflow.keras.layers import Dense"
      ],
      "metadata": {
        "id": "cRATFUN4K9dN"
      },
      "execution_count": null,
      "outputs": []
    },
    {
      "cell_type": "code",
      "source": [
        "encoder = Sequential([Dense(2,input_dim=11)])\n",
        "decoder = Sequential([Dense(11)])"
      ],
      "metadata": {
        "id": "Ma3OjeMD6lYR"
      },
      "execution_count": null,
      "outputs": []
    },
    {
      "cell_type": "code",
      "source": [
        "wine_ae_mod = Sequential([encoder, decoder],name='Wine_AE_Model')"
      ],
      "metadata": {
        "id": "EmoQLtuxLA4H"
      },
      "execution_count": null,
      "outputs": []
    },
    {
      "cell_type": "code",
      "source": [
        "wine_ae_mod.summary()"
      ],
      "metadata": {
        "id": "b71Dmb-S7cgL"
      },
      "execution_count": null,
      "outputs": []
    },
    {
      "cell_type": "code",
      "source": [
        "from tensorflow.keras.utils import plot_model\n",
        "plot_model(wine_ae_mod, show_shapes=True)"
      ],
      "metadata": {
        "id": "QIK7EHUmkzlG"
      },
      "execution_count": null,
      "outputs": []
    },
    {
      "cell_type": "markdown",
      "source": [
        "__3. 오토인코더 모형 컴파일__"
      ],
      "metadata": {
        "id": "hCTwa3QPOzy6"
      }
    },
    {
      "cell_type": "code",
      "source": [
        "wine_ae_mod.compile(optimizer='adam', loss='mse',metrics=['mse'])"
      ],
      "metadata": {
        "id": "8VbWBJcp8OFF"
      },
      "execution_count": null,
      "outputs": []
    },
    {
      "cell_type": "markdown",
      "source": [
        "__4.  오토인코더 모형 학습__"
      ],
      "metadata": {
        "id": "6uq84jzl8G61"
      }
    },
    {
      "cell_type": "code",
      "source": [
        "history = wine_ae_mod.fit(\n",
        "  Xt, Xt,\n",
        "  validation_split = 0.2,\n",
        "  epochs=100\n",
        ")"
      ],
      "metadata": {
        "id": "-4U0JqDO8XT7"
      },
      "execution_count": null,
      "outputs": []
    },
    {
      "cell_type": "code",
      "source": [
        "hist = pd.DataFrame(history.history)\n",
        "hist['epoch'] = history.epoch\n",
        "hist.tail()"
      ],
      "metadata": {
        "id": "_puBOhimcj5u"
      },
      "execution_count": null,
      "outputs": []
    },
    {
      "cell_type": "code",
      "source": [
        "plt.xlabel('Epoch')\n",
        "plt.ylabel('Mean Squared Error')\n",
        "plt.plot(hist['epoch'], hist['mse'],label='Train Error')\n",
        "plt.plot(hist['epoch'], hist['val_mse'],label = 'Test Error')\n",
        "#  plt.ylim([0,5])\n",
        "plt.legend()\n",
        "plt.show()\n"
      ],
      "metadata": {
        "id": "h5UAzi2f02xv"
      },
      "execution_count": null,
      "outputs": []
    },
    {
      "cell_type": "markdown",
      "source": [
        "__5.  오토인코더 모형의 예측결과 살펴보기__"
      ],
      "metadata": {
        "id": "21GMfp1KUncR"
      }
    },
    {
      "cell_type": "markdown",
      "source": [
        "* 신경망을 구성하는 특정 층의 가중치 출력"
      ],
      "metadata": {
        "id": "hQQIhZOACoPC"
      }
    },
    {
      "cell_type": "code",
      "source": [
        "encoder.get_weights()"
      ],
      "metadata": {
        "id": "j2Uf4XaZBRVU"
      },
      "execution_count": null,
      "outputs": []
    },
    {
      "cell_type": "code",
      "source": [
        "en_parm = encoder.get_weights()[0]"
      ],
      "metadata": {
        "id": "gltpr9-kCyox"
      },
      "execution_count": null,
      "outputs": []
    },
    {
      "cell_type": "code",
      "source": [
        "plt.scatter(en_parm[:,0], en_parm[:,1])\n",
        "plt.title('인코더의 연결망 가중값')\n",
        "plt.xlabel('주성분 1')\n",
        "plt.ylabel('주성분 2')\n",
        "plt.show()"
      ],
      "metadata": {
        "id": "A9dpV0DPDF49"
      },
      "execution_count": null,
      "outputs": []
    },
    {
      "cell_type": "markdown",
      "source": [
        "* 신경망을 구성하는 특정 층의 예측값 출력"
      ],
      "metadata": {
        "id": "PGG2BG8jC81b"
      }
    },
    {
      "cell_type": "code",
      "source": [
        "encoder.predict(Xt)"
      ],
      "metadata": {
        "id": "a3wIj4FG9yRH"
      },
      "execution_count": null,
      "outputs": []
    },
    {
      "cell_type": "code",
      "source": [
        "ae_res = encoder.predict(Xt)"
      ],
      "metadata": {
        "id": "-wnzC6Vs-obP"
      },
      "execution_count": null,
      "outputs": []
    },
    {
      "cell_type": "code",
      "source": [
        "plt.scatter(ae_res[:,0], ae_res[:,1])\n",
        "plt.title('축소된 데이터의 산포도')\n",
        "plt.xlabel('주성분 1')\n",
        "plt.ylabel('주성분 2')\n",
        "plt.show()"
      ],
      "metadata": {
        "id": "F9NUJ3YmVPDs"
      },
      "execution_count": null,
      "outputs": []
    },
    {
      "cell_type": "code",
      "source": [
        "#@title PCA 결과 시각화를 위한 biplot 함수 (출처: https://sukhbinder.wordpress.com/2015/08/05/biplot-with-python/)\n",
        "def biplot(score,coeff,pcax,pcay,labels=None):\n",
        "  pca1=pcax-1\n",
        "  pca2=pcay-1\n",
        "  xs = score[:,pca1]\n",
        "  ys = score[:,pca2]\n",
        "  n=coeff.shape[0] # 수정\n",
        "  scalex = 1.0/(xs.max()- xs.min())\n",
        "  scaley = 1.0/(ys.max()- ys.min())\n",
        "  plt.scatter(xs*scalex,ys*scaley)\n",
        "  for i in range(n):\n",
        "    plt.arrow(0, 0, coeff[i,pca1], coeff[i,pca2],color='r',alpha=0.5)\n",
        "    if labels is None:\n",
        "      plt.text(coeff[i,pca1]* 1.15, coeff[i,pca2] * 1.15, \"Var\"+str(i+1), color='g', ha='center', va='center')\n",
        "    else:\n",
        "      plt.text(coeff[i,pca1]* 1.15, coeff[i,pca2] * 1.15, labels[i], color='black', ha='center', va='center') # 글자색 수정\n",
        "  plt.xlim(-1,1)\n",
        "  plt.ylim(-1,1)\n",
        "  plt.xlabel(\"주성분{}\".format(pcax))\n",
        "  plt.ylabel(\"주성분{}\".format(pcay))\n",
        "  plt.grid()"
      ],
      "metadata": {
        "id": "MHF18M39jD8c"
      },
      "execution_count": null,
      "outputs": []
    },
    {
      "cell_type": "code",
      "source": [
        "biplot(ae_res,en_parm,1,2,labels=scaler.feature_names_in_)"
      ],
      "metadata": {
        "id": "KgEdmiLmGlzX"
      },
      "execution_count": null,
      "outputs": []
    },
    {
      "cell_type": "markdown",
      "source": [
        "---"
      ],
      "metadata": {
        "id": "r1qVKFiMRY9S"
      }
    },
    {
      "cell_type": "markdown",
      "source": [
        "## 9.2 __순차적 데이터 분석을 위한 인공 신경망 모형__"
      ],
      "metadata": {
        "id": "2S1wevm7sfge"
      }
    },
    {
      "cell_type": "markdown",
      "source": [
        "### (1) 순환신경망을 이용한 삼성전자 주가 예측"
      ],
      "metadata": {
        "id": "iQQIKEVwsxuF"
      }
    },
    {
      "cell_type": "markdown",
      "source": [
        "__1.  데이터 전처리__"
      ],
      "metadata": {
        "id": "ZkRYsAn9aNNQ"
      }
    },
    {
      "cell_type": "markdown",
      "source": [
        "* 데이터 가져오기"
      ],
      "metadata": {
        "id": "fN0A8d02stZ1"
      }
    },
    {
      "cell_type": "code",
      "source": [
        "sec = pd.read_table('/content/BizDataAnalysis/DATA/삼성전자일일종가.csv',sep=',')"
      ],
      "metadata": {
        "id": "WLFSiqQhaRz6"
      },
      "execution_count": null,
      "outputs": []
    },
    {
      "cell_type": "markdown",
      "source": [
        "* 데이터 살펴보기"
      ],
      "metadata": {
        "id": "Js9oRJpiadgL"
      }
    },
    {
      "cell_type": "code",
      "source": [
        "sec.head()"
      ],
      "metadata": {
        "id": "iEo0PFH-alEh"
      },
      "execution_count": null,
      "outputs": []
    },
    {
      "cell_type": "code",
      "source": [
        "sec.info()"
      ],
      "metadata": {
        "id": "eEKFC1yLapT8"
      },
      "execution_count": null,
      "outputs": []
    },
    {
      "cell_type": "code",
      "source": [
        "# * 시간 데이터의 형식 변경\n",
        "sec['DATE'] = pd.to_datetime(sec['yyyymmdd'], format='%Y-%m-%d')\n",
        "\n",
        "# * 날짜를 인덱스로 설정\n",
        "sec.set_index('DATE', inplace=True)\n",
        "\n",
        "# * '종가'만 추출\n",
        "price_data = sec['price']\n",
        "\n",
        "# * 종가 시계열 그래프\n",
        "plt.figure(figsize=(12, 6))\n",
        "plt.plot(price_data)\n",
        "plt.title('2025년 삼성전자 주가')\n",
        "plt.xlabel('날짜')\n",
        "plt.ylabel('종가')\n",
        "# plt.grid(True)\n",
        "plt.show()"
      ],
      "metadata": {
        "id": "aK0BQiOPbS61"
      },
      "execution_count": null,
      "outputs": []
    },
    {
      "cell_type": "markdown",
      "source": [
        "* 입력층과 출력층 분리"
      ],
      "metadata": {
        "id": "ceijsHo1cKAK"
      }
    },
    {
      "cell_type": "code",
      "source": [
        "tmp = sec.iloc[:,1].values.tolist()"
      ],
      "metadata": {
        "id": "dFk6gU-EdmTW"
      },
      "execution_count": null,
      "outputs": []
    },
    {
      "cell_type": "code",
      "source": [
        "win_size = 5\n",
        "X = []\n",
        "Y = []\n",
        "for i in range(len(tmp) - win_size):\n",
        "    X.append(tmp[i:i+win_size])\n",
        "    Y.append(tmp[i+win_size])"
      ],
      "metadata": {
        "id": "Dogzp2oQcqQ4"
      },
      "execution_count": null,
      "outputs": []
    },
    {
      "cell_type": "code",
      "source": [
        "print(X)"
      ],
      "metadata": {
        "id": "D6ujNn-ddGFv"
      },
      "execution_count": null,
      "outputs": []
    },
    {
      "cell_type": "code",
      "source": [
        "print(Y)"
      ],
      "metadata": {
        "id": "daem5NETez3o"
      },
      "execution_count": null,
      "outputs": []
    },
    {
      "cell_type": "code",
      "source": [
        "X[0]"
      ],
      "metadata": {
        "id": "ZbQfMvQlfRJe"
      },
      "execution_count": null,
      "outputs": []
    },
    {
      "cell_type": "code",
      "source": [
        "Y[0]"
      ],
      "metadata": {
        "id": "ylIA-329fTov"
      },
      "execution_count": null,
      "outputs": []
    },
    {
      "cell_type": "code",
      "source": [
        "len(X)"
      ],
      "metadata": {
        "id": "a0wWmDqUfeai"
      },
      "execution_count": null,
      "outputs": []
    },
    {
      "cell_type": "code",
      "source": [
        "len(Y)"
      ],
      "metadata": {
        "id": "KzW9pVVefhqD"
      },
      "execution_count": null,
      "outputs": []
    },
    {
      "cell_type": "code",
      "source": [
        "Xt = np.array(X)\n",
        "Yt = np.array(Y)"
      ],
      "metadata": {
        "id": "dNPIc1x6frxE"
      },
      "execution_count": null,
      "outputs": []
    },
    {
      "cell_type": "markdown",
      "source": [
        "__2.  분석에 사용할 신경망 모형 설정__"
      ],
      "metadata": {
        "id": "qh_nFrVsf_Ae"
      }
    },
    {
      "cell_type": "code",
      "source": [
        "from tensorflow.keras.models import Sequential\n",
        "from tensorflow.keras.layers import Dense, LSTM"
      ],
      "metadata": {
        "id": "8C8xM3CAgOc_"
      },
      "execution_count": null,
      "outputs": []
    },
    {
      "cell_type": "code",
      "source": [
        "sec_model = Sequential([\n",
        "    LSTM(15, activation='relu', input_shape=(win_size,1)),\n",
        "    Dense(1)\n",
        "])"
      ],
      "metadata": {
        "id": "TutbZ2pHgbOh"
      },
      "execution_count": null,
      "outputs": []
    },
    {
      "cell_type": "code",
      "source": [
        "sec_model.summary()"
      ],
      "metadata": {
        "id": "AVHvIbW1glys"
      },
      "execution_count": null,
      "outputs": []
    },
    {
      "cell_type": "markdown",
      "source": [
        "__3. 모형의 컴파일과 학습__"
      ],
      "metadata": {
        "id": "S5tWurzMg1cR"
      }
    },
    {
      "cell_type": "code",
      "source": [
        "sec_model.compile(optimizer='adam', loss='mse', metrics=['mse'])"
      ],
      "metadata": {
        "id": "ETrXptxXg79K"
      },
      "execution_count": null,
      "outputs": []
    },
    {
      "cell_type": "code",
      "source": [
        "history = sec_model.fit(\n",
        "  Xt, Yt,\n",
        "  validation_split = 0.2,\n",
        "  epochs=200,\n",
        "  batch_size=20,\n",
        "  verbose=1\n",
        ")"
      ],
      "metadata": {
        "id": "gn0EQAGghXul"
      },
      "execution_count": null,
      "outputs": []
    },
    {
      "cell_type": "code",
      "source": [
        "hist = pd.DataFrame(history.history)\n",
        "hist['epoch'] = history.epoch\n",
        "hist.tail()"
      ],
      "metadata": {
        "id": "sAKedyaailMI"
      },
      "execution_count": null,
      "outputs": []
    },
    {
      "cell_type": "code",
      "source": [
        "plt.xlabel('Epoch')\n",
        "plt.ylabel('Mean Squared Error')\n",
        "plt.plot(hist['epoch'], hist['mse'],label='Train Error')\n",
        "plt.plot(hist['epoch'], hist['val_mse'],label = 'Test Error')\n",
        "#  plt.ylim([0,5])\n",
        "plt.legend()\n",
        "plt.show()\n"
      ],
      "metadata": {
        "id": "p5pLnUIliuOP"
      },
      "execution_count": null,
      "outputs": []
    },
    {
      "cell_type": "markdown",
      "source": [
        "__4. 주가 예측 결과__"
      ],
      "metadata": {
        "id": "TsGJiyNjj0g0"
      }
    },
    {
      "cell_type": "code",
      "source": [
        "pred_y = sec_model.predict(Xt)"
      ],
      "metadata": {
        "id": "Pb39pryPj8tw"
      },
      "execution_count": null,
      "outputs": []
    },
    {
      "cell_type": "code",
      "source": [
        "plt.figure()\n",
        "plt.plot(Yt, color='red', label='실제값')\n",
        "plt.plot(pred_y, color='blue', label='예측값')\n",
        "plt.title('삼성전자 주가 예측 결과')\n",
        "plt.xlabel('날짜')\n",
        "plt.ylabel('가격')\n",
        "plt.legend()\n",
        "plt.show()"
      ],
      "metadata": {
        "id": "pkoqliGmkErK"
      },
      "execution_count": null,
      "outputs": []
    },
    {
      "cell_type": "markdown",
      "source": [
        "*"
      ],
      "metadata": {
        "id": "h9gP-RspgC28"
      }
    }
  ]
}