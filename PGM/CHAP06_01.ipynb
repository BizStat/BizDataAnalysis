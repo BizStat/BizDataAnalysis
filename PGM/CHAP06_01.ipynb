{
  "nbformat": 4,
  "nbformat_minor": 0,
  "metadata": {
    "colab": {
      "provenance": [],
      "private_outputs": true
    },
    "kernelspec": {
      "name": "python3",
      "display_name": "Python 3"
    },
    "language_info": {
      "name": "python"
    }
  },
  "cells": [
    {
      "cell_type": "markdown",
      "metadata": {
        "id": "_QCHrEOT2m_t"
      },
      "source": [
        "# 제 6 장 __지도학습의 이해__\n",
        "___"
      ]
    },
    {
      "cell_type": "markdown",
      "metadata": {
        "id": "HAtyJ9c721KK"
      },
      "source": [
        "## __사전설정__\n",
        "---"
      ]
    },
    {
      "cell_type": "markdown",
      "metadata": {
        "id": "uw3-Nvtm249v"
      },
      "source": [
        "(1) 저장소 데이터 가져오기"
      ]
    },
    {
      "cell_type": "code",
      "execution_count": null,
      "metadata": {
        "id": "d5LYq9gPZx8m"
      },
      "outputs": [],
      "source": [
        "!rm -rf /content/BizDataAnalysis/"
      ]
    },
    {
      "cell_type": "code",
      "execution_count": null,
      "metadata": {
        "id": "9APPiXA43PE_"
      },
      "outputs": [],
      "source": [
        "!git clone https://github.com/BizStat/BizDataAnalysis.git"
      ]
    },
    {
      "cell_type": "markdown",
      "metadata": {
        "id": "YCG2Vnoh3IG2"
      },
      "source": [
        "\n",
        "(2) matplotlib 환경에서 한글 사용"
      ]
    },
    {
      "cell_type": "code",
      "execution_count": null,
      "metadata": {
        "id": "f7Kxphw17991"
      },
      "outputs": [],
      "source": [
        "!sudo apt-get install -y fonts-nanum\n",
        "!sudo fc-cache -f -v\n",
        "!rm ~/.cache/matplotlib -rf"
      ]
    },
    {
      "cell_type": "markdown",
      "metadata": {
        "id": "fYnwWvIX46iC"
      },
      "source": [
        "런타임 메뉴에서 '세션 다시 시작' 후 다음의 명령문 실행"
      ]
    },
    {
      "cell_type": "code",
      "execution_count": null,
      "metadata": {
        "id": "T5UHjIvW7SD-"
      },
      "outputs": [],
      "source": [
        "from matplotlib import rc\n",
        "rc('font', family='NanumMyeongjo')\n",
        "rc('axes', unicode_minus=False)"
      ]
    },
    {
      "cell_type": "markdown",
      "source": [
        "(3) 구글 드라이브 연결"
      ],
      "metadata": {
        "id": "tPVKIN1vqzjx"
      }
    },
    {
      "cell_type": "code",
      "source": [
        "from google.colab import drive\n",
        "drive.mount('/content/gdrive/')"
      ],
      "metadata": {
        "id": "12BNWJ1Yq10s"
      },
      "execution_count": null,
      "outputs": []
    },
    {
      "cell_type": "markdown",
      "metadata": {
        "id": "TaT2a1PB22xv"
      },
      "source": [
        "___"
      ]
    },
    {
      "cell_type": "markdown",
      "source": [
        "## 6.2 __예측모형의 이해와 활용__"
      ],
      "metadata": {
        "id": "Hqt8GZABOYRF"
      }
    },
    {
      "cell_type": "markdown",
      "source": [
        "### (1) Boston house-price 데이터"
      ],
      "metadata": {
        "id": "PAxvOm_gSa7u"
      }
    },
    {
      "cell_type": "markdown",
      "source": [
        "* 데이터 가져오기"
      ],
      "metadata": {
        "id": "1XFXrIG-K6LY"
      }
    },
    {
      "cell_type": "code",
      "source": [
        "import pandas as pd\n",
        "import matplotlib.pyplot as plt"
      ],
      "metadata": {
        "id": "R8mmOnISLHjj"
      },
      "execution_count": null,
      "outputs": []
    },
    {
      "cell_type": "code",
      "source": [
        "boston = pd.read_table('/content/BizDataAnalysis/DATA/Boston.txt', sep='\\s+')"
      ],
      "metadata": {
        "id": "eC5SMc9vK8gm"
      },
      "execution_count": null,
      "outputs": []
    },
    {
      "cell_type": "code",
      "source": [
        "boston"
      ],
      "metadata": {
        "id": "PtP9_H74LQrO"
      },
      "execution_count": null,
      "outputs": []
    },
    {
      "cell_type": "markdown",
      "source": [
        "* 데이터 살펴보기"
      ],
      "metadata": {
        "id": "6Y4x1qVoMJZw"
      }
    },
    {
      "cell_type": "code",
      "source": [
        "boston.describe()"
      ],
      "metadata": {
        "id": "1aJWiR5LGfDC"
      },
      "execution_count": null,
      "outputs": []
    },
    {
      "cell_type": "code",
      "source": [
        "boston.hist(bins=15)"
      ],
      "metadata": {
        "id": "yi8dsyvUMLU7"
      },
      "execution_count": null,
      "outputs": []
    },
    {
      "cell_type": "code",
      "source": [
        "import seaborn as sns"
      ],
      "metadata": {
        "id": "T__XgaDUqEaO"
      },
      "execution_count": null,
      "outputs": []
    },
    {
      "cell_type": "code",
      "source": [
        "sns.pairplot(data=boston)"
      ],
      "metadata": {
        "id": "Xilm6yArqQNx"
      },
      "execution_count": null,
      "outputs": []
    },
    {
      "cell_type": "markdown",
      "source": [
        "* 데이터 분할 : 학습데이터와 평가데이터"
      ],
      "metadata": {
        "id": "letUDQhvL4bU"
      }
    },
    {
      "cell_type": "code",
      "source": [
        "boston.iloc[:,[-1]]"
      ],
      "metadata": {
        "id": "6IklmBuVrZNA"
      },
      "execution_count": null,
      "outputs": []
    },
    {
      "cell_type": "code",
      "source": [
        "boston.iloc[:,-1]"
      ],
      "metadata": {
        "id": "RmnMdfIMBDgI"
      },
      "execution_count": null,
      "outputs": []
    },
    {
      "cell_type": "code",
      "source": [
        "boston.iloc[:,0:13]"
      ],
      "metadata": {
        "id": "GMb4wtkFBKRQ"
      },
      "execution_count": null,
      "outputs": []
    },
    {
      "cell_type": "code",
      "source": [
        "X = boston.iloc[:,0:13]\n",
        "y = boston.iloc[:,[-1]]"
      ],
      "metadata": {
        "id": "iNBQG1JWsku4"
      },
      "execution_count": null,
      "outputs": []
    },
    {
      "cell_type": "code",
      "source": [
        "from sklearn.model_selection import train_test_split"
      ],
      "metadata": {
        "id": "vh1ESgTLsUhQ"
      },
      "execution_count": null,
      "outputs": []
    },
    {
      "cell_type": "code",
      "source": [
        "X_train, X_test, y_train, y_test = train_test_split(X,y)"
      ],
      "metadata": {
        "id": "WrLe76eMDMwV"
      },
      "execution_count": null,
      "outputs": []
    },
    {
      "cell_type": "code",
      "source": [
        "y_train.mean()"
      ],
      "metadata": {
        "id": "TG_ysffDDO1C"
      },
      "execution_count": null,
      "outputs": []
    },
    {
      "cell_type": "code",
      "source": [
        "X_train, X_test, y_train, y_test = train_test_split(X,y,random_state=3)"
      ],
      "metadata": {
        "id": "REY1G4aYsg7n"
      },
      "execution_count": null,
      "outputs": []
    },
    {
      "cell_type": "code",
      "source": [
        "X_train, X_test, y_train, y_test = train_test_split(X,y,random_state=3,train_size=0.7)"
      ],
      "metadata": {
        "id": "RHDGcTOqFCdF"
      },
      "execution_count": null,
      "outputs": []
    },
    {
      "cell_type": "code",
      "source": [
        "X_train"
      ],
      "metadata": {
        "id": "ghfKyiyVsuf5"
      },
      "execution_count": null,
      "outputs": []
    },
    {
      "cell_type": "markdown",
      "source": [
        "---\n",
        "__선형회귀 알고리즘 설명__"
      ],
      "metadata": {
        "id": "fdq0RIoNrdop"
      }
    },
    {
      "cell_type": "code",
      "source": [
        "from sklearn.linear_model import LinearRegression"
      ],
      "metadata": {
        "id": "FGZLlXnotH-S"
      },
      "execution_count": null,
      "outputs": []
    },
    {
      "cell_type": "code",
      "source": [
        "boston['LSTAT']"
      ],
      "metadata": {
        "id": "P9Cb208x0Z5X"
      },
      "execution_count": null,
      "outputs": []
    },
    {
      "cell_type": "code",
      "source": [
        "import numpy as np\n",
        "tmp = np.arange(10)\n",
        "tmp"
      ],
      "metadata": {
        "id": "P_FFLAKMP81O"
      },
      "execution_count": null,
      "outputs": []
    },
    {
      "cell_type": "code",
      "source": [
        "tmp.reshape(2,5)"
      ],
      "metadata": {
        "id": "6bMoZ7uNQiNw"
      },
      "execution_count": null,
      "outputs": []
    },
    {
      "cell_type": "code",
      "source": [
        "tmp.reshape(10,1)"
      ],
      "metadata": {
        "id": "vJPg3JB2QmXX"
      },
      "execution_count": null,
      "outputs": []
    },
    {
      "cell_type": "code",
      "source": [
        "tmp.reshape(-1,1)"
      ],
      "metadata": {
        "id": "XZc5-5zOQRAC"
      },
      "execution_count": null,
      "outputs": []
    },
    {
      "cell_type": "code",
      "source": [
        "indVar = np.array(boston['LSTAT']).reshape(-1,1)\n",
        "depVar = np.array(boston['MEDV'])\n",
        "plt.scatter(indVar,depVar,color=\"darkgrey\")\n",
        "plt.title('지역별 하위계층비율(LSTAT)과 주택가격(MEDV)의 산점도')\n",
        "plt.xlabel('LSAT')\n",
        "plt.ylabel('MEDV')\n",
        "plt.show()"
      ],
      "metadata": {
        "id": "A1rV7QRzwQJp"
      },
      "execution_count": null,
      "outputs": []
    },
    {
      "cell_type": "code",
      "source": [
        "SLR = LinearRegression(fit_intercept=True) # 절편 포함\n",
        "SLR.fit(indVar,depVar)\n",
        "fitVal = SLR.predict(indVar)"
      ],
      "metadata": {
        "id": "ce4sj52kwqHq"
      },
      "execution_count": null,
      "outputs": []
    },
    {
      "cell_type": "code",
      "source": [
        "plt.scatter(indVar[:,0],depVar,color=\"darkgrey\",label='실제값')\n",
        "plt.plot(indVar[:,0],fitVal,color='black',label='예측값')\n",
        "plt.title('지역별 하위계층비율(LSTAT)과 주택가격(MEDV)의 산점도와 단순선형회귀적합 결과')\n",
        "plt.xlabel('LSAT')\n",
        "plt.ylabel('MEDV')\n",
        "plt.legend()\n",
        "plt.show()"
      ],
      "metadata": {
        "id": "_jCDxaYCyRn1"
      },
      "execution_count": null,
      "outputs": []
    },
    {
      "cell_type": "code",
      "source": [
        "SLR = LinearRegression(fit_intercept=False) # 절편 = 0\n",
        "SLR.fit(indVar,depVar)\n",
        "fitVal1 = SLR.predict(indVar)"
      ],
      "metadata": {
        "id": "tG4uRAD4KVgm"
      },
      "execution_count": null,
      "outputs": []
    },
    {
      "cell_type": "code",
      "source": [
        "plt.scatter(indVar[:,0],depVar,color=\"darkgrey\",label='실제값')\n",
        "plt.plot(indVar[:,0],fitVal,color='black',label='절편을 포함한 예측값')\n",
        "plt.plot(indVar[:,0],fitVal1,color='darkorange',label='절편이 0인 경우의 예측값')\n",
        "# plt.title('지역별 하위계층비율(LSTAT)과 주택가격(MEDV)의 산점도와 단순선형회귀적합 결과')\n",
        "plt.xlabel('LSAT')\n",
        "plt.ylabel('MEDV')\n",
        "plt.legend()\n",
        "plt.show()"
      ],
      "metadata": {
        "id": "gLyDAyEmLAmY"
      },
      "execution_count": null,
      "outputs": []
    },
    {
      "cell_type": "code",
      "source": [
        "SLR.intercept_ # 절편의 추정결과"
      ],
      "metadata": {
        "id": "bP0dmsFq-DQU"
      },
      "execution_count": null,
      "outputs": []
    },
    {
      "cell_type": "code",
      "source": [
        "SLR.coef_"
      ],
      "metadata": {
        "id": "ZKtC799196DO"
      },
      "execution_count": null,
      "outputs": []
    },
    {
      "cell_type": "markdown",
      "source": [
        "* 선형회귀모형 학습 및 평가"
      ],
      "metadata": {
        "id": "qUoI-ysrtEhb"
      }
    },
    {
      "cell_type": "code",
      "source": [
        "LR = LinearRegression(fit_intercept=True)\n",
        "LR.fit(X_train, y_train)"
      ],
      "metadata": {
        "id": "o5WwqzvftXdB"
      },
      "execution_count": null,
      "outputs": []
    },
    {
      "cell_type": "code",
      "source": [
        "LR.intercept_"
      ],
      "metadata": {
        "id": "KRGFN1kBtjIt"
      },
      "execution_count": null,
      "outputs": []
    },
    {
      "cell_type": "code",
      "source": [
        "LR.coef_"
      ],
      "metadata": {
        "id": "zLmUqi-Ttoi7"
      },
      "execution_count": null,
      "outputs": []
    },
    {
      "cell_type": "code",
      "source": [
        "LR.predict(X_train)"
      ],
      "metadata": {
        "id": "SeeZoa0-t2jN"
      },
      "execution_count": null,
      "outputs": []
    },
    {
      "cell_type": "code",
      "source": [
        "LR.predict(X_test)"
      ],
      "metadata": {
        "id": "Yivxrf-cuIV2"
      },
      "execution_count": null,
      "outputs": []
    },
    {
      "cell_type": "code",
      "source": [
        "LR.score(X_train, y_train)"
      ],
      "metadata": {
        "id": "3HGQRLsBunHC"
      },
      "execution_count": null,
      "outputs": []
    },
    {
      "cell_type": "code",
      "source": [
        "LR.score(X_test, y_test)"
      ],
      "metadata": {
        "id": "4GM_SQGous-X"
      },
      "execution_count": null,
      "outputs": []
    },
    {
      "cell_type": "markdown",
      "source": [
        "---\n",
        "__kNN 회귀 알고리즘 설명__"
      ],
      "metadata": {
        "id": "MI8IuWHAqjFU"
      }
    },
    {
      "cell_type": "code",
      "source": [
        "from sklearn.neighbors import KNeighborsRegressor"
      ],
      "metadata": {
        "id": "GKS9iXYswUJK"
      },
      "execution_count": null,
      "outputs": []
    },
    {
      "cell_type": "code",
      "source": [
        "SKR = KNeighborsRegressor(n_neighbors=5)"
      ],
      "metadata": {
        "id": "6NDlVejGY32S"
      },
      "execution_count": null,
      "outputs": []
    },
    {
      "cell_type": "code",
      "source": [
        "SKR = KNeighborsRegressor(n_neighbors=5,weights='uniform')"
      ],
      "metadata": {
        "id": "XiaDs9ACbUVw"
      },
      "execution_count": null,
      "outputs": []
    },
    {
      "cell_type": "code",
      "source": [
        "SKR = KNeighborsRegressor(n_neighbors=30,weights='uniform')"
      ],
      "metadata": {
        "id": "9M3mhgJkcukD"
      },
      "execution_count": null,
      "outputs": []
    },
    {
      "cell_type": "code",
      "source": [
        "SKR = KNeighborsRegressor(n_neighbors=30,weights='distance')"
      ],
      "metadata": {
        "id": "nT0WYFvCdkpk"
      },
      "execution_count": null,
      "outputs": []
    },
    {
      "cell_type": "code",
      "source": [
        "SKR.fit(indVar,depVar)"
      ],
      "metadata": {
        "id": "86QJ1bvSbSn2"
      },
      "execution_count": null,
      "outputs": []
    },
    {
      "cell_type": "code",
      "source": [
        "indVar.min()"
      ],
      "metadata": {
        "id": "CmFceWKCZUj_"
      },
      "execution_count": null,
      "outputs": []
    },
    {
      "cell_type": "code",
      "source": [
        "indVar.max()"
      ],
      "metadata": {
        "id": "z66EHSjYZYJw"
      },
      "execution_count": null,
      "outputs": []
    },
    {
      "cell_type": "code",
      "source": [
        "term = np.linspace(indVar.min(), indVar.max(), 100)[:, np.newaxis]\n",
        "term"
      ],
      "metadata": {
        "id": "hI51K5ojZkyL"
      },
      "execution_count": null,
      "outputs": []
    },
    {
      "cell_type": "code",
      "source": [
        "fitVal = SKR.predict(term)"
      ],
      "metadata": {
        "id": "zEkgFipsZ6iF"
      },
      "execution_count": null,
      "outputs": []
    },
    {
      "cell_type": "code",
      "source": [
        "plt.scatter(indVar[:,0],depVar,color=\"darkgrey\",label='실제값')\n",
        "plt.plot(term,fitVal,color='black',label='예측값')\n",
        "# plt.title('지역별 하위계층비율(LSTAT)과 주택가격(MEDV)의 산점도와 kNN회귀 적합 결과')\n",
        "plt.xlabel('LSAT')\n",
        "plt.ylabel('MEDV')\n",
        "plt.legend()\n",
        "plt.show()"
      ],
      "metadata": {
        "id": "DWGRHnvtZJd5"
      },
      "execution_count": null,
      "outputs": []
    },
    {
      "cell_type": "code",
      "source": [
        "for k in range(1, 100):\n",
        "    SKR = KNeighborsRegressor(n_neighbors=k)\n",
        "    SKR.fit(indVar,depVar)\n",
        "    print(f'Score for k={k}: {SKR.score(indVar,depVar)}')"
      ],
      "metadata": {
        "id": "4XxmUbBqh9sV"
      },
      "execution_count": null,
      "outputs": []
    },
    {
      "cell_type": "code",
      "source": [
        "optVal = np.zeros((100,2))"
      ],
      "metadata": {
        "id": "64IoRr37i6ko"
      },
      "execution_count": null,
      "outputs": []
    },
    {
      "cell_type": "code",
      "source": [
        "for k in range(1, 101):\n",
        "    SKR = KNeighborsRegressor(n_neighbors=k)\n",
        "    SKR.fit(indVar,depVar)\n",
        "    optVal[k-1,0] = k\n",
        "    optVal[k-1,1] = SKR.score(indVar,depVar)"
      ],
      "metadata": {
        "id": "s6mNwSdxjOqP"
      },
      "execution_count": null,
      "outputs": []
    },
    {
      "cell_type": "code",
      "source": [
        "plt.plot(optVal[:,0],optVal[:,1],color='black')\n",
        "# plt.title('n_neighbors 값의 변화에 따른 적합결과 변화')\n",
        "plt.xlabel('n_neighbors')\n",
        "plt.ylabel('R^2')\n",
        "plt.show()"
      ],
      "metadata": {
        "id": "xGyu5yY4l31o"
      },
      "execution_count": null,
      "outputs": []
    },
    {
      "cell_type": "markdown",
      "source": [
        "* kNN 회귀모형 학습 및 평가"
      ],
      "metadata": {
        "id": "pVh75dOcwMql"
      }
    },
    {
      "cell_type": "code",
      "source": [
        "KR = KNeighborsRegressor(n_neighbors=5)\n",
        "KR.fit(X_train,y_train)"
      ],
      "metadata": {
        "id": "-2I4nREqwdA2"
      },
      "execution_count": null,
      "outputs": []
    },
    {
      "cell_type": "code",
      "source": [
        "for k in range(1, 20):\n",
        "    KR = KNeighborsRegressor(n_neighbors=k)\n",
        "    KR.fit(X_train, y_train)\n",
        "    print(f'Score for k={k}: {KR.score(X_train, y_train)}')"
      ],
      "metadata": {
        "id": "9cxjiJ0SzKb8"
      },
      "execution_count": null,
      "outputs": []
    },
    {
      "cell_type": "code",
      "source": [
        "niter = 100\n",
        "wgt_nm = 'distance'\n",
        "optVal = np.zeros((niter,3))\n",
        "for k in range(1, niter+1):\n",
        "    KR = KNeighborsRegressor(n_neighbors=k,weights=wgt_nm)\n",
        "    KR.fit(X_train, y_train)\n",
        "    optVal[k-1,0] = k\n",
        "    optVal[k-1,1] = KR.score(X_train, y_train)\n",
        "    optVal[k-1,2] = KR.score(X_test, y_test)"
      ],
      "metadata": {
        "id": "547xC6ipo0bU"
      },
      "execution_count": null,
      "outputs": []
    },
    {
      "cell_type": "code",
      "source": [
        "optVal"
      ],
      "metadata": {
        "id": "VOkoVJoNrtrf"
      },
      "execution_count": null,
      "outputs": []
    },
    {
      "cell_type": "code",
      "source": [
        "plt.plot(optVal[:,0],optVal[:,1],color='navy',label='학습데이터')\n",
        "plt.plot(optVal[:,0],optVal[:,2],color='darkorange',label='검증데이터')\n",
        "plt.title('n_neighbors 값의 변화에 따른 적합결과 변화')\n",
        "plt.xlabel('n_neighbors')\n",
        "plt.ylabel('R^2')\n",
        "plt.legend()\n",
        "plt.show()"
      ],
      "metadata": {
        "id": "VZb0jkTZpV7M"
      },
      "execution_count": null,
      "outputs": []
    },
    {
      "cell_type": "code",
      "source": [
        "KR.predict(X_train)"
      ],
      "metadata": {
        "id": "Q9i9z644w0dv"
      },
      "execution_count": null,
      "outputs": []
    },
    {
      "cell_type": "code",
      "source": [
        "KR.score(X_train, y_train)"
      ],
      "metadata": {
        "id": "WdMPtB9Iw9lN"
      },
      "execution_count": null,
      "outputs": []
    },
    {
      "cell_type": "code",
      "source": [
        "KR.score(X_test, y_test)"
      ],
      "metadata": {
        "id": "3Ej5r4zLxC41"
      },
      "execution_count": null,
      "outputs": []
    },
    {
      "cell_type": "code",
      "source": [
        "for k in range(1, 20):\n",
        "    KR = KNeighborsRegressor(n_neighbors=k)\n",
        "    KR.fit(X_train, y_train)\n",
        "    print(f'Score for k={k}: {KR.score(X_test, y_test)}')"
      ],
      "metadata": {
        "id": "pjbap_3qyPXc"
      },
      "execution_count": null,
      "outputs": []
    },
    {
      "cell_type": "markdown",
      "source": [
        "* 회귀나무"
      ],
      "metadata": {
        "id": "8gYR8Ngo2-FS"
      }
    },
    {
      "cell_type": "code",
      "source": [
        "from sklearn.tree import DecisionTreeRegressor"
      ],
      "metadata": {
        "id": "ixmOo4HT3AyL"
      },
      "execution_count": null,
      "outputs": []
    },
    {
      "cell_type": "code",
      "source": [
        "TR = DecisionTreeRegressor(\n",
        "            criterion = 'squared_error', ## “squared_error”, “friedman_mse”, “absolute_error”, “poisson”\n",
        "            splitter='best', ## 'random'\n",
        "            max_depth=3, ## '최대 깊이'\n",
        "            min_samples_leaf=10, ## 최소 끝마디 샘플 수\n",
        "            random_state=100\n",
        "        )\n",
        "TR.fit(X_train, y_train)"
      ],
      "metadata": {
        "id": "RD3t41gA3Kp6"
      },
      "execution_count": null,
      "outputs": []
    },
    {
      "cell_type": "code",
      "source": [
        "for i, col in enumerate(X.columns):\n",
        "    print(f'{col} 중요도 : {TR.feature_importances_[i]}')"
      ],
      "metadata": {
        "id": "2UXWDfdN4bdq"
      },
      "execution_count": null,
      "outputs": []
    },
    {
      "cell_type": "code",
      "source": [
        "TR.predict(X_train)"
      ],
      "metadata": {
        "id": "QkzeOO4b3ckn"
      },
      "execution_count": null,
      "outputs": []
    },
    {
      "cell_type": "code",
      "source": [
        "TR.score(X_train, y_train)"
      ],
      "metadata": {
        "id": "cxHHhyCD3mtj"
      },
      "execution_count": null,
      "outputs": []
    },
    {
      "cell_type": "code",
      "source": [
        "TR.score(X_test, y_test)"
      ],
      "metadata": {
        "id": "g77BBxmO3pAK"
      },
      "execution_count": null,
      "outputs": []
    },
    {
      "cell_type": "code",
      "source": [
        "from sklearn.tree import plot_tree\n",
        "fig = plt.figure(figsize=(15, 10), facecolor='white')\n",
        "plot_tree(TR, feature_names=X.columns)\n",
        "plt.show()"
      ],
      "metadata": {
        "id": "R8xkq1qG3zdq"
      },
      "execution_count": null,
      "outputs": []
    }
  ]
}