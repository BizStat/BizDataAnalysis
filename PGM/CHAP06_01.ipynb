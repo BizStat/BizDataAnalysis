{
  "nbformat": 4,
  "nbformat_minor": 0,
  "metadata": {
    "colab": {
      "provenance": [],
      "private_outputs": true
    },
    "kernelspec": {
      "name": "python3",
      "display_name": "Python 3"
    },
    "language_info": {
      "name": "python"
    }
  },
  "cells": [
    {
      "cell_type": "markdown",
      "metadata": {
        "id": "_QCHrEOT2m_t"
      },
      "source": [
        "# 제 6 장 __지도학습의 이해__\n",
        "___"
      ]
    },
    {
      "cell_type": "markdown",
      "metadata": {
        "id": "HAtyJ9c721KK"
      },
      "source": [
        "## __사전설정__\n",
        "---"
      ]
    },
    {
      "cell_type": "markdown",
      "metadata": {
        "id": "uw3-Nvtm249v"
      },
      "source": [
        "(1) 저장소 데이터 가져오기"
      ]
    },
    {
      "cell_type": "code",
      "execution_count": null,
      "metadata": {
        "id": "d5LYq9gPZx8m"
      },
      "outputs": [],
      "source": [
        "!rm -rf /content/BizDataAnalysis/"
      ]
    },
    {
      "cell_type": "code",
      "execution_count": null,
      "metadata": {
        "id": "9APPiXA43PE_"
      },
      "outputs": [],
      "source": [
        "!git clone https://github.com/BizStat/BizDataAnalysis.git"
      ]
    },
    {
      "cell_type": "markdown",
      "metadata": {
        "id": "YCG2Vnoh3IG2"
      },
      "source": [
        "\n",
        "(2) matplotlib 환경에서 한글 사용"
      ]
    },
    {
      "cell_type": "code",
      "execution_count": null,
      "metadata": {
        "id": "f7Kxphw17991"
      },
      "outputs": [],
      "source": [
        "!sudo apt-get install -y fonts-nanum\n",
        "!sudo fc-cache -f -v\n",
        "!rm ~/.cache/matplotlib -rf"
      ]
    },
    {
      "cell_type": "markdown",
      "metadata": {
        "id": "fYnwWvIX46iC"
      },
      "source": [
        "런타임 메뉴에서 '세션 다시 시작' 후 다음의 명령문 실행"
      ]
    },
    {
      "cell_type": "code",
      "execution_count": null,
      "metadata": {
        "id": "T5UHjIvW7SD-"
      },
      "outputs": [],
      "source": [
        "from matplotlib import rc\n",
        "rc('font', family='NanumGothicCoding')\n",
        "rc('axes', unicode_minus=False)"
      ]
    },
    {
      "cell_type": "markdown",
      "source": [
        "(3) 구글 드라이브 연결"
      ],
      "metadata": {
        "id": "tPVKIN1vqzjx"
      }
    },
    {
      "cell_type": "code",
      "source": [
        "from google.colab import drive\n",
        "drive.mount('/content/gdrive/')"
      ],
      "metadata": {
        "id": "12BNWJ1Yq10s"
      },
      "execution_count": null,
      "outputs": []
    },
    {
      "cell_type": "markdown",
      "metadata": {
        "id": "TaT2a1PB22xv"
      },
      "source": [
        "___"
      ]
    },
    {
      "cell_type": "markdown",
      "source": [
        "## 6.2 __예측모형의 이해와 활용__"
      ],
      "metadata": {
        "id": "Hqt8GZABOYRF"
      }
    },
    {
      "cell_type": "markdown",
      "source": [
        "### (1) Boston house-price 데이터"
      ],
      "metadata": {
        "id": "PAxvOm_gSa7u"
      }
    },
    {
      "cell_type": "markdown",
      "source": [
        "* 데이터 가져오기"
      ],
      "metadata": {
        "id": "1XFXrIG-K6LY"
      }
    },
    {
      "cell_type": "code",
      "source": [
        "import pandas as pd\n",
        "import matplotlib.pyplot as plt"
      ],
      "metadata": {
        "id": "R8mmOnISLHjj"
      },
      "execution_count": null,
      "outputs": []
    },
    {
      "cell_type": "code",
      "source": [
        "boston = pd.read_table('/content/BizDataAnalysis/DATA/Boston.txt', sep='\\s+')"
      ],
      "metadata": {
        "id": "eC5SMc9vK8gm"
      },
      "execution_count": null,
      "outputs": []
    },
    {
      "cell_type": "code",
      "source": [
        "boston"
      ],
      "metadata": {
        "id": "PtP9_H74LQrO"
      },
      "execution_count": null,
      "outputs": []
    },
    {
      "cell_type": "markdown",
      "source": [
        "* 데이터 살펴보기"
      ],
      "metadata": {
        "id": "6Y4x1qVoMJZw"
      }
    },
    {
      "cell_type": "code",
      "source": [
        "boston.describe()"
      ],
      "metadata": {
        "id": "1aJWiR5LGfDC"
      },
      "execution_count": null,
      "outputs": []
    },
    {
      "cell_type": "code",
      "source": [
        "boston.hist(bins=20)"
      ],
      "metadata": {
        "id": "yi8dsyvUMLU7"
      },
      "execution_count": null,
      "outputs": []
    },
    {
      "cell_type": "code",
      "source": [
        "import seaborn as sns"
      ],
      "metadata": {
        "id": "T__XgaDUqEaO"
      },
      "execution_count": null,
      "outputs": []
    },
    {
      "cell_type": "code",
      "source": [
        "sns.pairplot(data=boston)"
      ],
      "metadata": {
        "id": "Xilm6yArqQNx"
      },
      "execution_count": null,
      "outputs": []
    },
    {
      "cell_type": "markdown",
      "source": [
        "* 데이터 분할 : 학습데이터와 평가데이터"
      ],
      "metadata": {
        "id": "letUDQhvL4bU"
      }
    },
    {
      "cell_type": "code",
      "source": [
        "boston.iloc[:,[-1]]"
      ],
      "metadata": {
        "id": "6IklmBuVrZNA"
      },
      "execution_count": null,
      "outputs": []
    },
    {
      "cell_type": "code",
      "source": [
        "boston.iloc[:,-1]"
      ],
      "metadata": {
        "id": "RmnMdfIMBDgI"
      },
      "execution_count": null,
      "outputs": []
    },
    {
      "cell_type": "code",
      "source": [
        "boston.iloc[:,0:13]"
      ],
      "metadata": {
        "id": "GMb4wtkFBKRQ"
      },
      "execution_count": null,
      "outputs": []
    },
    {
      "cell_type": "code",
      "source": [
        "X = boston.iloc[:,0:13]\n",
        "y = boston.iloc[:,[-1]]"
      ],
      "metadata": {
        "id": "iNBQG1JWsku4"
      },
      "execution_count": null,
      "outputs": []
    },
    {
      "cell_type": "code",
      "source": [
        "from sklearn.model_selection import train_test_split"
      ],
      "metadata": {
        "id": "vh1ESgTLsUhQ"
      },
      "execution_count": null,
      "outputs": []
    },
    {
      "cell_type": "code",
      "source": [
        "X_train, X_test, y_train, y_test = train_test_split(X,y)"
      ],
      "metadata": {
        "id": "WrLe76eMDMwV"
      },
      "execution_count": null,
      "outputs": []
    },
    {
      "cell_type": "code",
      "source": [
        "y_train.mean()"
      ],
      "metadata": {
        "id": "TG_ysffDDO1C"
      },
      "execution_count": null,
      "outputs": []
    },
    {
      "cell_type": "code",
      "source": [
        "X_train, X_test, y_train, y_test = train_test_split(X,y,random_state=3)"
      ],
      "metadata": {
        "id": "REY1G4aYsg7n"
      },
      "execution_count": null,
      "outputs": []
    },
    {
      "cell_type": "code",
      "source": [
        "X_train, X_test, y_train, y_test = train_test_split(X,y,random_state=3,train_size=0.7)"
      ],
      "metadata": {
        "id": "RHDGcTOqFCdF"
      },
      "execution_count": null,
      "outputs": []
    },
    {
      "cell_type": "code",
      "source": [
        "X_train"
      ],
      "metadata": {
        "id": "ghfKyiyVsuf5"
      },
      "execution_count": null,
      "outputs": []
    },
    {
      "cell_type": "markdown",
      "source": [
        "---\n",
        "__선형회귀 알고리즘 설명__"
      ],
      "metadata": {
        "id": "fdq0RIoNrdop"
      }
    },
    {
      "cell_type": "code",
      "source": [
        "from sklearn.linear_model import LinearRegression"
      ],
      "metadata": {
        "id": "FGZLlXnotH-S"
      },
      "execution_count": null,
      "outputs": []
    },
    {
      "cell_type": "code",
      "source": [
        "boston['LSTAT']"
      ],
      "metadata": {
        "id": "P9Cb208x0Z5X"
      },
      "execution_count": null,
      "outputs": []
    },
    {
      "cell_type": "code",
      "source": [
        "import numpy as np"
      ],
      "metadata": {
        "id": "P_FFLAKMP81O"
      },
      "execution_count": null,
      "outputs": []
    },
    {
      "cell_type": "code",
      "source": [
        "tmp = np.arange(10)\n",
        "tmp"
      ],
      "metadata": {
        "id": "QhwIGfKNNYs3"
      },
      "execution_count": null,
      "outputs": []
    },
    {
      "cell_type": "code",
      "source": [
        "tmp.reshape(2,5)"
      ],
      "metadata": {
        "id": "6bMoZ7uNQiNw"
      },
      "execution_count": null,
      "outputs": []
    },
    {
      "cell_type": "code",
      "source": [
        "tmp.reshape(10,1)"
      ],
      "metadata": {
        "id": "vJPg3JB2QmXX"
      },
      "execution_count": null,
      "outputs": []
    },
    {
      "cell_type": "code",
      "source": [
        "tmp.reshape(-1,1)"
      ],
      "metadata": {
        "id": "XZc5-5zOQRAC"
      },
      "execution_count": null,
      "outputs": []
    },
    {
      "cell_type": "code",
      "source": [
        "indVar = np.array(boston['LSTAT']).reshape(-1,1)\n",
        "depVar = np.array(boston['MEDV'])"
      ],
      "metadata": {
        "id": "A1rV7QRzwQJp"
      },
      "execution_count": null,
      "outputs": []
    },
    {
      "cell_type": "code",
      "source": [
        "plt.scatter(indVar,depVar,color=\"darkgrey\")\n",
        "plt.title('지역별 하위계층비율(LSTAT)과 주택가격(MEDV)의 산점도')\n",
        "plt.xlabel('LSAT')\n",
        "plt.ylabel('MEDV')\n",
        "plt.show()"
      ],
      "metadata": {
        "id": "2105gMy6XOXg"
      },
      "execution_count": null,
      "outputs": []
    },
    {
      "cell_type": "code",
      "source": [
        "SLR = LinearRegression(fit_intercept=True) # 절편 포함\n",
        "SLR.fit(indVar,depVar)\n",
        "fitVal = SLR.predict(indVar)"
      ],
      "metadata": {
        "id": "ce4sj52kwqHq"
      },
      "execution_count": null,
      "outputs": []
    },
    {
      "cell_type": "code",
      "source": [
        "SLR.score(indVar,depVar)"
      ],
      "metadata": {
        "id": "T-Qm5aq6_YPW"
      },
      "execution_count": null,
      "outputs": []
    },
    {
      "cell_type": "code",
      "source": [
        "a = np.array([[10]])\n",
        "SLR.predict(a)"
      ],
      "metadata": {
        "id": "AHcZtyRVpyD2"
      },
      "execution_count": null,
      "outputs": []
    },
    {
      "cell_type": "code",
      "source": [
        "plt.scatter(indVar[:,0],depVar,color=\"darkgrey\",label='실제값')\n",
        "plt.plot(indVar[:,0],fitVal,color='black',label='예측값')\n",
        "plt.title('지역별 하위계층비율(LSTAT)과 주택가격(MEDV)의 산점도와 단순선형회귀적합 결과')\n",
        "plt.xlabel('LSAT')\n",
        "plt.ylabel('MEDV')\n",
        "plt.legend()\n",
        "plt.show()"
      ],
      "metadata": {
        "id": "_jCDxaYCyRn1"
      },
      "execution_count": null,
      "outputs": []
    },
    {
      "cell_type": "code",
      "source": [
        "SLR = LinearRegression(fit_intercept=False) # 절편 = 0\n",
        "SLR.fit(indVar,depVar)\n",
        "fitVal1 = SLR.predict(indVar)"
      ],
      "metadata": {
        "id": "tG4uRAD4KVgm"
      },
      "execution_count": null,
      "outputs": []
    },
    {
      "cell_type": "code",
      "source": [
        "plt.scatter(indVar[:,0],depVar,color=\"darkgrey\",label='실제값')\n",
        "plt.plot(indVar[:,0],fitVal,color='black',label='절편을 포함한 예측값')\n",
        "plt.plot(indVar[:,0],fitVal1,color='darkorange',label='절편이 0인 경우의 예측값')\n",
        "# plt.title('지역별 하위계층비율(LSTAT)과 주택가격(MEDV)의 산점도와 단순선형회귀적합 결과')\n",
        "plt.xlabel('LSAT')\n",
        "plt.ylabel('MEDV')\n",
        "plt.legend()\n",
        "plt.show()"
      ],
      "metadata": {
        "id": "gLyDAyEmLAmY"
      },
      "execution_count": null,
      "outputs": []
    },
    {
      "cell_type": "code",
      "source": [
        "SLR.intercept_ # 절편의 추정결과"
      ],
      "metadata": {
        "id": "bP0dmsFq-DQU"
      },
      "execution_count": null,
      "outputs": []
    },
    {
      "cell_type": "code",
      "source": [
        "SLR.coef_"
      ],
      "metadata": {
        "id": "ZKtC799196DO"
      },
      "execution_count": null,
      "outputs": []
    },
    {
      "cell_type": "markdown",
      "source": [
        "* 선형회귀모형 학습 및 평가"
      ],
      "metadata": {
        "id": "qUoI-ysrtEhb"
      }
    },
    {
      "cell_type": "code",
      "source": [
        "LR = LinearRegression()\n",
        "LR.fit(X_train, y_train)"
      ],
      "metadata": {
        "id": "o5WwqzvftXdB"
      },
      "execution_count": null,
      "outputs": []
    },
    {
      "cell_type": "code",
      "source": [
        "LR.intercept_"
      ],
      "metadata": {
        "id": "KRGFN1kBtjIt"
      },
      "execution_count": null,
      "outputs": []
    },
    {
      "cell_type": "code",
      "source": [
        "LR.coef_"
      ],
      "metadata": {
        "id": "zLmUqi-Ttoi7"
      },
      "execution_count": null,
      "outputs": []
    },
    {
      "cell_type": "code",
      "source": [
        "LR.rank_"
      ],
      "metadata": {
        "id": "-cAHmS2MfmM-"
      },
      "execution_count": null,
      "outputs": []
    },
    {
      "cell_type": "code",
      "source": [
        "LR.singular_"
      ],
      "metadata": {
        "id": "YrIcGzkFftn1"
      },
      "execution_count": null,
      "outputs": []
    },
    {
      "cell_type": "code",
      "source": [
        "LR.feature_names_in_"
      ],
      "metadata": {
        "id": "ZRoq-Mttf5GV"
      },
      "execution_count": null,
      "outputs": []
    },
    {
      "cell_type": "code",
      "source": [
        "len(LR.feature_names_in_)"
      ],
      "metadata": {
        "id": "e0cpvzbQKonK"
      },
      "execution_count": null,
      "outputs": []
    },
    {
      "cell_type": "code",
      "source": [
        "enumerate(LR.feature_names_in_)"
      ],
      "metadata": {
        "id": "bcsSI3jVKxEG"
      },
      "execution_count": null,
      "outputs": []
    },
    {
      "cell_type": "code",
      "source": [
        "for i in range(0,len(LR.feature_names_in_)+1):\n",
        "  if i == 0 :\n",
        "    print(f'절편 : {LR.intercept_[0]}')\n",
        "  else :\n",
        "    print(f'{LR.feature_names_in_[i-1]} : {LR.coef_[0,i-1]}')"
      ],
      "metadata": {
        "id": "YvG9ml4sI1_W"
      },
      "execution_count": null,
      "outputs": []
    },
    {
      "cell_type": "code",
      "source": [
        "LR.predict(X_train)"
      ],
      "metadata": {
        "id": "SeeZoa0-t2jN"
      },
      "execution_count": null,
      "outputs": []
    },
    {
      "cell_type": "code",
      "source": [
        "LR.predict(X_test)"
      ],
      "metadata": {
        "id": "Yivxrf-cuIV2"
      },
      "execution_count": null,
      "outputs": []
    },
    {
      "cell_type": "code",
      "source": [
        "LR.score(X_train, y_train)"
      ],
      "metadata": {
        "id": "3HGQRLsBunHC"
      },
      "execution_count": null,
      "outputs": []
    },
    {
      "cell_type": "code",
      "source": [
        "LR.score(X_test, y_test)"
      ],
      "metadata": {
        "id": "4GM_SQGous-X"
      },
      "execution_count": null,
      "outputs": []
    },
    {
      "cell_type": "markdown",
      "source": [
        "---\n",
        "__kNN 회귀 알고리즘 설명__"
      ],
      "metadata": {
        "id": "MI8IuWHAqjFU"
      }
    },
    {
      "cell_type": "code",
      "source": [
        "from sklearn.neighbors import KNeighborsRegressor"
      ],
      "metadata": {
        "id": "GKS9iXYswUJK"
      },
      "execution_count": null,
      "outputs": []
    },
    {
      "cell_type": "code",
      "source": [
        "SKR = KNeighborsRegressor(n_neighbors=5)"
      ],
      "metadata": {
        "id": "6NDlVejGY32S"
      },
      "execution_count": null,
      "outputs": []
    },
    {
      "cell_type": "code",
      "source": [
        "SKR = KNeighborsRegressor(n_neighbors=5,weights='uniform')"
      ],
      "metadata": {
        "id": "XiaDs9ACbUVw"
      },
      "execution_count": null,
      "outputs": []
    },
    {
      "cell_type": "code",
      "source": [
        "SKR = KNeighborsRegressor(n_neighbors=30,weights='uniform')"
      ],
      "metadata": {
        "id": "9M3mhgJkcukD"
      },
      "execution_count": null,
      "outputs": []
    },
    {
      "cell_type": "code",
      "source": [
        "SKR = KNeighborsRegressor(n_neighbors=30,weights='distance')"
      ],
      "metadata": {
        "id": "nT0WYFvCdkpk"
      },
      "execution_count": null,
      "outputs": []
    },
    {
      "cell_type": "code",
      "source": [
        "SKR.fit(indVar,depVar)"
      ],
      "metadata": {
        "id": "86QJ1bvSbSn2"
      },
      "execution_count": null,
      "outputs": []
    },
    {
      "cell_type": "code",
      "source": [
        "indVar.min()"
      ],
      "metadata": {
        "id": "CmFceWKCZUj_"
      },
      "execution_count": null,
      "outputs": []
    },
    {
      "cell_type": "code",
      "source": [
        "indVar.max()"
      ],
      "metadata": {
        "id": "z66EHSjYZYJw"
      },
      "execution_count": null,
      "outputs": []
    },
    {
      "cell_type": "code",
      "source": [
        "term = np.linspace(indVar.min(), indVar.max(), 100)[:, np.newaxis]\n",
        "term"
      ],
      "metadata": {
        "id": "hI51K5ojZkyL"
      },
      "execution_count": null,
      "outputs": []
    },
    {
      "cell_type": "code",
      "source": [
        "fitVal = SKR.predict(term)\n",
        "#fitVal = SKR.predict(indVar)"
      ],
      "metadata": {
        "id": "zEkgFipsZ6iF"
      },
      "execution_count": null,
      "outputs": []
    },
    {
      "cell_type": "code",
      "source": [
        "plt.scatter(indVar[:,0],depVar,color=\"darkgrey\",label='실제값')\n",
        "plt.plot(term,fitVal,color='black',label='예측값')\n",
        "#plt.plot(indVar[:,0],fitVal,color='black',label='예측값')\n",
        "# plt.title('지역별 하위계층비율(LSTAT)과 주택가격(MEDV)의 산점도와 kNN회귀 적합 결과')\n",
        "plt.xlabel('LSAT')\n",
        "plt.ylabel('MEDV')\n",
        "plt.legend()\n",
        "plt.show()"
      ],
      "metadata": {
        "id": "DWGRHnvtZJd5"
      },
      "execution_count": null,
      "outputs": []
    },
    {
      "cell_type": "code",
      "source": [
        "for k in range(1, 100):\n",
        "    SKR = KNeighborsRegressor(n_neighbors=k)\n",
        "    SKR.fit(indVar,depVar)\n",
        "    print(f'Score for k={k}: {SKR.score(indVar,depVar)}')"
      ],
      "metadata": {
        "id": "4XxmUbBqh9sV"
      },
      "execution_count": null,
      "outputs": []
    },
    {
      "cell_type": "code",
      "source": [
        "optVal = np.zeros((100,2))"
      ],
      "metadata": {
        "id": "64IoRr37i6ko"
      },
      "execution_count": null,
      "outputs": []
    },
    {
      "cell_type": "code",
      "source": [
        "for k in range(1, 101):\n",
        "    SKR = KNeighborsRegressor(n_neighbors=k)\n",
        "    SKR.fit(indVar,depVar)\n",
        "    optVal[k-1,0] = k\n",
        "    optVal[k-1,1] = SKR.score(indVar,depVar)"
      ],
      "metadata": {
        "id": "s6mNwSdxjOqP"
      },
      "execution_count": null,
      "outputs": []
    },
    {
      "cell_type": "code",
      "source": [
        "plt.plot(optVal[:,0],optVal[:,1],color='black')\n",
        "# plt.title('n_neighbors 값의 변화에 따른 적합결과 변화')\n",
        "plt.xlabel('n_neighbors')\n",
        "plt.ylabel('R^2')\n",
        "plt.show()"
      ],
      "metadata": {
        "id": "xGyu5yY4l31o"
      },
      "execution_count": null,
      "outputs": []
    },
    {
      "cell_type": "markdown",
      "source": [
        "* kNN 회귀모형 학습 및 평가"
      ],
      "metadata": {
        "id": "pVh75dOcwMql"
      }
    },
    {
      "cell_type": "code",
      "source": [
        "KR = KNeighborsRegressor(n_neighbors=5)\n",
        "KR.fit(X_train,y_train)"
      ],
      "metadata": {
        "id": "-2I4nREqwdA2"
      },
      "execution_count": null,
      "outputs": []
    },
    {
      "cell_type": "code",
      "source": [
        "for k in range(1, 20):\n",
        "    KR = KNeighborsRegressor(n_neighbors=k)\n",
        "    KR.fit(X_train, y_train)\n",
        "    print(f'Score for k={k}: {KR.score(X_train, y_train)}')"
      ],
      "metadata": {
        "id": "9cxjiJ0SzKb8"
      },
      "execution_count": null,
      "outputs": []
    },
    {
      "cell_type": "code",
      "source": [
        "niter = 100\n",
        "# wgt_nm = 'distance'\n",
        "wgt_nm = 'uniform'\n",
        "optVal = np.zeros((niter,3))\n",
        "for k in range(1, niter+1):\n",
        "    KR = KNeighborsRegressor(n_neighbors=k,weights=wgt_nm)\n",
        "    KR.fit(X_train, y_train)\n",
        "    optVal[k-1,0] = k\n",
        "    optVal[k-1,1] = KR.score(X_train, y_train)\n",
        "    optVal[k-1,2] = KR.score(X_test, y_test)"
      ],
      "metadata": {
        "id": "547xC6ipo0bU"
      },
      "execution_count": null,
      "outputs": []
    },
    {
      "cell_type": "code",
      "source": [
        "plt.plot(optVal[:,0],optVal[:,1],color='navy',label='학습데이터')\n",
        "plt.plot(optVal[:,0],optVal[:,2],color='darkorange',label='평가데이터')\n",
        "plt.title('n_neighbors 값의 변화에 따른 적합결과 변화')\n",
        "plt.xlabel('n_neighbors')\n",
        "plt.ylabel('R^2')\n",
        "plt.legend()\n",
        "plt.show()"
      ],
      "metadata": {
        "id": "VZb0jkTZpV7M"
      },
      "execution_count": null,
      "outputs": []
    },
    {
      "cell_type": "code",
      "source": [
        "optVal[optVal[:,2] == max(optVal[:,2]),]"
      ],
      "metadata": {
        "id": "VOkoVJoNrtrf"
      },
      "execution_count": null,
      "outputs": []
    },
    {
      "cell_type": "code",
      "source": [
        "KR.predict(X_train)"
      ],
      "metadata": {
        "id": "Q9i9z644w0dv"
      },
      "execution_count": null,
      "outputs": []
    },
    {
      "cell_type": "code",
      "source": [
        "KR.score(X_train, y_train)"
      ],
      "metadata": {
        "id": "WdMPtB9Iw9lN"
      },
      "execution_count": null,
      "outputs": []
    },
    {
      "cell_type": "code",
      "source": [
        "KR.score(X_test, y_test)"
      ],
      "metadata": {
        "id": "3Ej5r4zLxC41"
      },
      "execution_count": null,
      "outputs": []
    },
    {
      "cell_type": "code",
      "source": [
        "for k in range(1, 20):\n",
        "    KR = KNeighborsRegressor(n_neighbors=k)\n",
        "    KR.fit(X_train, y_train)\n",
        "    print(f'Score for k={k}: {KR.score(X_test, y_test)}')"
      ],
      "metadata": {
        "id": "pjbap_3qyPXc"
      },
      "execution_count": null,
      "outputs": []
    },
    {
      "cell_type": "markdown",
      "source": [
        "---\n",
        "__회귀나무 알고리즘 설명__"
      ],
      "metadata": {
        "id": "mpr-O3y3F818"
      }
    },
    {
      "cell_type": "code",
      "source": [
        "# @title 회귀나무 분석에 필요한 기본 라이브러리\n",
        "from sklearn.tree import DecisionTreeRegressor\n",
        "from sklearn import tree"
      ],
      "metadata": {
        "id": "4kzIguFjGAY4"
      },
      "execution_count": null,
      "outputs": []
    },
    {
      "cell_type": "code",
      "source": [
        "RT = DecisionTreeRegressor(max_depth=5)\n",
        "RT.fit(indVar,depVar)\n",
        "fitVal = RT.predict(indVar)\n",
        "RT.score(indVar, depVar)"
      ],
      "metadata": {
        "id": "w0mOwYocHzyX"
      },
      "execution_count": null,
      "outputs": []
    },
    {
      "cell_type": "code",
      "source": [
        "term = np.linspace(indVar.min(), indVar.max(), 100)[:, np.newaxis]"
      ],
      "metadata": {
        "id": "WNouRiKKIsOz"
      },
      "execution_count": null,
      "outputs": []
    },
    {
      "cell_type": "code",
      "source": [
        "fitVal = RT.predict(term)"
      ],
      "metadata": {
        "id": "g26AvqrxIwJJ"
      },
      "execution_count": null,
      "outputs": []
    },
    {
      "cell_type": "code",
      "source": [
        "plt.scatter(indVar[:,0],depVar,color=\"darkgrey\",label='실제값')\n",
        "plt.plot(term,fitVal,color='black',label='예측값')\n",
        "# plt.title('지역별 하위계층비율(LSTAT)과 주택가격(MEDV)의 산점도와 회귀나무 적합 결과')\n",
        "plt.xlabel('LSAT')\n",
        "plt.ylabel('MEDV')\n",
        "plt.legend()\n",
        "plt.show()"
      ],
      "metadata": {
        "id": "ltHL4tw5I1vp"
      },
      "execution_count": null,
      "outputs": []
    },
    {
      "cell_type": "code",
      "source": [
        "# RT = DecisionTreeRegressor()\n",
        "# RT = DecisionTreeRegressor(max_depth=None,min_samples_split=0.1)\n",
        "# RT = DecisionTreeRegressor(max_depth=None,min_samples_split=0.1)\n",
        "RT = DecisionTreeRegressor(max_depth=None,min_samples_leaf=5)\n",
        "# RT = DecisionTreeRegressor(max_depth=None,min_samples_split=0.1,min_samples_leaf=5)\n",
        "RT.fit(indVar,depVar)\n",
        "fitVal = RT.predict(term)\n",
        "# RT.tree_.value"
      ],
      "metadata": {
        "id": "HN_4pFZMSosl"
      },
      "execution_count": null,
      "outputs": []
    },
    {
      "cell_type": "code",
      "source": [
        "tree.plot_tree(RT)\n",
        "plt.show()"
      ],
      "metadata": {
        "id": "_pTgX3mZUb6N"
      },
      "execution_count": null,
      "outputs": []
    },
    {
      "cell_type": "code",
      "source": [
        "plt.scatter(indVar[:,0],depVar, color=\"grey\", label=\"실제값\")\n",
        "plt.plot(term,fitVal, color=\"red\", label=\"예측값\")\n",
        "plt.show()"
      ],
      "metadata": {
        "id": "fZREPQX-VVQL"
      },
      "execution_count": null,
      "outputs": []
    },
    {
      "cell_type": "code",
      "source": [
        "RT.score(indVar,depVar)"
      ],
      "metadata": {
        "id": "_UemmEKnbuES"
      },
      "execution_count": null,
      "outputs": []
    },
    {
      "cell_type": "code",
      "source": [
        "plt.figure(figsize=(8,8))\n",
        "for i in range(1,7):\n",
        "    RT = DecisionTreeRegressor(max_depth=i)\n",
        "    fitVal = RT.fit(indVar,depVar).predict(term)\n",
        "    plt.subplot(3, 2, i)\n",
        "    plt.scatter(indVar[:,0],depVar, color=\"grey\", label=\"실제값\")\n",
        "    plt.plot(term,fitVal, color=\"red\", label=\"예측값\")\n",
        "    plt.axis(\"tight\")\n",
        "    plt.legend()\n",
        "    plt.title(\"max_depth = {}\".format(i))\n",
        "\n",
        "plt.tight_layout()\n",
        "plt.show()"
      ],
      "metadata": {
        "id": "yLtroFZyMJCO"
      },
      "execution_count": null,
      "outputs": []
    },
    {
      "cell_type": "code",
      "source": [
        "for k in range(1, 20):\n",
        "    RT = DecisionTreeRegressor(max_depth=k)\n",
        "    RT.fit(indVar,depVar)\n",
        "    print(f'Score for k={k}: {RT.score(indVar,depVar)}')"
      ],
      "metadata": {
        "id": "NNvJSxDvZXTv"
      },
      "execution_count": null,
      "outputs": []
    },
    {
      "cell_type": "code",
      "source": [
        "plt.figure(figsize=(8,8))\n",
        "for i in range(1,7):\n",
        "    RT = DecisionTreeRegressor(max_depth=i)\n",
        "    fitVal = RT.fit(indVar,depVar).predict(term)\n",
        "    plt.subplot(3, 2, i)\n",
        "    plt.scatter(indVar[:,0],depVar, color=\"grey\", label=\"실제값\")\n",
        "    plt.plot(term,fitVal, color=\"red\", label=\"예측값\")\n",
        "    plt.axis(\"tight\")\n",
        "    plt.legend()\n",
        "    plt.title(\"max_depth = {}\".format(i))\n",
        "\n",
        "plt.tight_layout()\n",
        "plt.show()"
      ],
      "metadata": {
        "id": "xj2-B9CZZCkD"
      },
      "execution_count": null,
      "outputs": []
    },
    {
      "cell_type": "code",
      "source": [
        "for k in range(2, 100):\n",
        "    RT = DecisionTreeRegressor(min_samples_split=k)\n",
        "    RT.fit(indVar,depVar)\n",
        "    print(f'Score for k={k}: {RT.score(indVar,depVar)}')"
      ],
      "metadata": {
        "id": "TJ8LW9OIlNxk"
      },
      "execution_count": null,
      "outputs": []
    },
    {
      "cell_type": "code",
      "source": [
        "optVal = np.zeros((99,2))\n",
        "for k in range(2, 101):\n",
        "    RT = DecisionTreeRegressor(min_samples_split=k)\n",
        "    RT.fit(indVar,depVar)\n",
        "    optVal[k-2,0] = k\n",
        "    optVal[k-2,1] = RT.score(indVar,depVar)"
      ],
      "metadata": {
        "id": "8zE6otKklj2F"
      },
      "execution_count": null,
      "outputs": []
    },
    {
      "cell_type": "code",
      "source": [
        "plt.plot(optVal[:,0],optVal[:,1],color='black')\n",
        "# plt.title('min_samples_split 값의 변화에 따른 적합결과 변화')\n",
        "plt.xlabel('min_samples_split')\n",
        "plt.ylabel('R^2')\n",
        "plt.show()"
      ],
      "metadata": {
        "id": "yBX7L0JLmA_v"
      },
      "execution_count": null,
      "outputs": []
    },
    {
      "cell_type": "markdown",
      "source": [
        "* 회귀나무 학습 및 평가"
      ],
      "metadata": {
        "id": "8gYR8Ngo2-FS"
      }
    },
    {
      "cell_type": "code",
      "source": [
        "from sklearn.tree import DecisionTreeRegressor"
      ],
      "metadata": {
        "id": "ixmOo4HT3AyL"
      },
      "execution_count": null,
      "outputs": []
    },
    {
      "cell_type": "code",
      "source": [
        "# @title 기본값을 이용한 회귀나무의 적합 결과\n",
        "RT = DecisionTreeRegressor(random_state=3)\n",
        "RT.fit(X_train, y_train)"
      ],
      "metadata": {
        "id": "c-afRr9movse"
      },
      "execution_count": null,
      "outputs": []
    },
    {
      "cell_type": "code",
      "source": [
        "RT.score(X_train, y_train)"
      ],
      "metadata": {
        "id": "cbdEOBvno9Z-"
      },
      "execution_count": null,
      "outputs": []
    },
    {
      "cell_type": "code",
      "source": [
        "RT.score(X_test, y_test)"
      ],
      "metadata": {
        "id": "JkwQh2Uio-Eu"
      },
      "execution_count": null,
      "outputs": []
    },
    {
      "cell_type": "code",
      "source": [
        "# @title 최적모형의 적합력\n",
        "print(f\"- 학습데이터 : {RT.score(X_train, y_train)} \\n- 평가데이터 : {RT.score(X_test, y_test)}\")"
      ],
      "metadata": {
        "id": "oDPUA38Wq-pn"
      },
      "execution_count": null,
      "outputs": []
    },
    {
      "cell_type": "code",
      "source": [
        "# @title 최적모형의 모습\n",
        "tree.plot_tree(RT)\n",
        "plt.show()"
      ],
      "metadata": {
        "id": "MykQpq-rpk9F"
      },
      "execution_count": null,
      "outputs": []
    },
    {
      "cell_type": "code",
      "source": [
        "# @title 회귀나무에 사용된 독립변수의 중요도\n",
        "plt.bar(RT.feature_names_in_,RT.feature_importances_)\n",
        "plt.show()"
      ],
      "metadata": {
        "id": "8KxjCyu0qupP"
      },
      "execution_count": null,
      "outputs": []
    },
    {
      "cell_type": "code",
      "source": [
        "for i, col in enumerate(RT.feature_names_in_):\n",
        "    print(f'{col} 중요도 : {RT.feature_importances_[i]}')"
      ],
      "metadata": {
        "id": "hD3r8hpmvp9R"
      },
      "execution_count": null,
      "outputs": []
    },
    {
      "cell_type": "code",
      "source": [
        "# @title max_depth 변화에 따른 회귀나무의 성능 비교\n",
        "niter = 20\n",
        "optVal = np.zeros((niter,3))\n",
        "for k in range(2, niter+2):\n",
        "    RT = DecisionTreeRegressor(max_depth=k,random_state=3)\n",
        "    RT.fit(X_train, y_train)\n",
        "    optVal[k-2,0] = k\n",
        "    optVal[k-2,1] = RT.score(X_train, y_train)\n",
        "    optVal[k-2,2] = RT.score(X_test, y_test)\n",
        "\n",
        "plt.plot(optVal[:,0],optVal[:,1],color='navy',label='학습데이터')\n",
        "plt.plot(optVal[:,0],optVal[:,2],color='darkorange',label='평가데이터')\n",
        "plt.title('min_samples_leaf 값의 변화에 따른 적합결과 변화')\n",
        "plt.xlabel('max_depth')\n",
        "plt.ylabel('R^2')\n",
        "plt.legend()\n",
        "plt.show()"
      ],
      "metadata": {
        "id": "l8Z-xQCcmgTo"
      },
      "execution_count": null,
      "outputs": []
    },
    {
      "cell_type": "code",
      "source": [
        "optVal[optVal[:,2] == max(optVal[:,2]),]"
      ],
      "metadata": {
        "id": "3itn2ZfDmx_Y"
      },
      "execution_count": null,
      "outputs": []
    },
    {
      "cell_type": "code",
      "source": [
        "# @title 최적모형의 적합력\n",
        "RT = DecisionTreeRegressor(max_depth=8,random_state=3)\n",
        "RT.fit(X_train, y_train)\n",
        "print(f\"- 학습데이터 : {RT.score(X_train, y_train)} \\n- 평가데이터 : {RT.score(X_test, y_test)}\")"
      ],
      "metadata": {
        "id": "TFG7QgpRsmKn"
      },
      "execution_count": null,
      "outputs": []
    },
    {
      "cell_type": "code",
      "source": [
        "# @title 최적모형의 모습\n",
        "tree.plot_tree(RT)\n",
        "plt.show()"
      ],
      "metadata": {
        "id": "pYpF6wvXpHBH"
      },
      "execution_count": null,
      "outputs": []
    },
    {
      "cell_type": "code",
      "source": [
        "# @title 회귀나무에 사용된 독립변수의 중요도\n",
        "plt.bar(RT.feature_names_in_,RT.feature_importances_)\n",
        "plt.show()"
      ],
      "metadata": {
        "id": "bPN5XPWptadi"
      },
      "execution_count": null,
      "outputs": []
    },
    {
      "cell_type": "code",
      "source": [
        "# @title min_samples_leaf 변화에 따른 회귀나무의 성능 비교\n",
        "niter = 50\n",
        "optVal = np.zeros((niter,3))\n",
        "for k in range(2, niter+2):\n",
        "    RT = DecisionTreeRegressor(min_samples_leaf=k,random_state=3)\n",
        "    RT.fit(X_train, y_train)\n",
        "    optVal[k-2,0] = k\n",
        "    optVal[k-2,1] = RT.score(X_train, y_train)\n",
        "    optVal[k-2,2] = RT.score(X_test, y_test)\n",
        "\n",
        "plt.plot(optVal[:,0],optVal[:,1],color='navy',label='학습데이터')\n",
        "plt.plot(optVal[:,0],optVal[:,2],color='darkorange',label='평가데이터')\n",
        "plt.title('min_samples_leaf 값의 변화에 따른 적합결과 변화')\n",
        "plt.xlabel('min_samples_leaf')\n",
        "plt.ylabel('R^2')\n",
        "plt.legend()\n",
        "plt.show()"
      ],
      "metadata": {
        "id": "q2jamw0hiXVI"
      },
      "execution_count": null,
      "outputs": []
    },
    {
      "cell_type": "code",
      "source": [
        "optVal[optVal[:,2] == max(optVal[:,2]),]"
      ],
      "metadata": {
        "id": "ZwxXxXz_kisd"
      },
      "execution_count": null,
      "outputs": []
    },
    {
      "cell_type": "code",
      "source": [
        "# @title 최적모형의 적합력\n",
        "RT = DecisionTreeRegressor(min_samples_leaf=4,random_state=3)\n",
        "RT.fit(X_train, y_train)\n",
        "print(f\"- 학습데이터 : {RT.score(X_train, y_train)} \\n- 평가데이터 : {RT.score(X_test, y_test)}\")"
      ],
      "metadata": {
        "id": "gMV8rfl-uBjH"
      },
      "execution_count": null,
      "outputs": []
    },
    {
      "cell_type": "code",
      "source": [
        "# @title 최적모형의 모습\n",
        "tree.plot_tree(RT)\n",
        "plt.show()"
      ],
      "metadata": {
        "id": "dqYbWipJuQgx"
      },
      "execution_count": null,
      "outputs": []
    },
    {
      "cell_type": "code",
      "source": [
        "# @title 회귀나무에 사용된 독립변수의 중요도\n",
        "plt.bar(RT.feature_names_in_,RT.feature_importances_)\n",
        "plt.show()"
      ],
      "metadata": {
        "id": "iL53PIwTuWX6"
      },
      "execution_count": null,
      "outputs": []
    },
    {
      "cell_type": "code",
      "source": [
        "# @title min_samples_split 변화에 따른 회귀나무의 성능 비교\n",
        "niter = 50\n",
        "optVal = np.zeros((niter,3))\n",
        "for k in range(2, niter+2):\n",
        "    RT = DecisionTreeRegressor(min_samples_split=k,random_state=3)\n",
        "    RT.fit(X_train, y_train)\n",
        "    optVal[k-2,0] = k\n",
        "    optVal[k-2,1] = RT.score(X_train, y_train)\n",
        "    optVal[k-2,2] = RT.score(X_test, y_test)\n",
        "\n",
        "plt.plot(optVal[:,0],optVal[:,1],color='navy',label='학습데이터')\n",
        "plt.plot(optVal[:,0],optVal[:,2],color='darkorange',label='평가데이터')\n",
        "plt.title('min_samples_split 값의 변화에 따른 적합결과 변화')\n",
        "plt.xlabel('min_samples_split')\n",
        "plt.ylabel('R^2')\n",
        "plt.legend()\n",
        "plt.show()"
      ],
      "metadata": {
        "id": "-HmavrlukL30"
      },
      "execution_count": null,
      "outputs": []
    },
    {
      "cell_type": "code",
      "source": [
        "optVal[optVal[:,2] == max(optVal[:,2]),]"
      ],
      "metadata": {
        "id": "tUOxJlXWm8BX"
      },
      "execution_count": null,
      "outputs": []
    },
    {
      "cell_type": "code",
      "source": [
        "# @title 최적모형의 적합력\n",
        "RT = DecisionTreeRegressor(min_samples_split=21,random_state=3)\n",
        "RT.fit(X_train, y_train)\n",
        "print(f\"- 학습데이터 : {RT.score(X_train, y_train)} \\n- 평가데이터 : {RT.score(X_test, y_test)}\")"
      ],
      "metadata": {
        "id": "jmxm25_Ourb-"
      },
      "execution_count": null,
      "outputs": []
    },
    {
      "cell_type": "code",
      "source": [
        "# @title 최적모형의 모습\n",
        "tree.plot_tree(RT)\n",
        "plt.show()"
      ],
      "metadata": {
        "id": "j8_lm4d8vXB6"
      },
      "execution_count": null,
      "outputs": []
    },
    {
      "cell_type": "code",
      "source": [
        "# @title 회귀나무에 사용된 독립변수의 중요도\n",
        "plt.bar(RT.feature_names_in_,RT.feature_importances_)\n",
        "plt.show()"
      ],
      "metadata": {
        "id": "4KxEgZZivfRs"
      },
      "execution_count": null,
      "outputs": []
    },
    {
      "cell_type": "markdown",
      "source": [
        "---\n",
        "### (2) 신용카드 채무 데이터"
      ],
      "metadata": {
        "id": "8do4jTl3xR0c"
      }
    },
    {
      "cell_type": "markdown",
      "source": [
        "* 새롭게 시작할 경우 사용해야 할 라이브러리 가져오기"
      ],
      "metadata": {
        "id": "Gb2cuB0WEjsD"
      }
    },
    {
      "cell_type": "code",
      "source": [
        "import pandas as pd\n",
        "import matplotlib.pyplot as plt\n",
        "import numpy as np\n",
        "from sklearn import tree"
      ],
      "metadata": {
        "id": "x23_WkS-Eor8"
      },
      "execution_count": null,
      "outputs": []
    },
    {
      "cell_type": "code",
      "source": [
        "# @title 신용카드 채무 데이터 가져오기\n",
        "balance = pd.read_csv('/content/BizDataAnalysis/DATA/Balance.csv')"
      ],
      "metadata": {
        "id": "w78ZR3WcymIs"
      },
      "execution_count": null,
      "outputs": []
    },
    {
      "cell_type": "markdown",
      "source": [
        "* 데이터 탐색"
      ],
      "metadata": {
        "id": "6QDpKGh_4TgF"
      }
    },
    {
      "cell_type": "code",
      "source": [
        "balance.head()"
      ],
      "metadata": {
        "id": "_Rj0URinzFMP"
      },
      "execution_count": null,
      "outputs": []
    },
    {
      "cell_type": "code",
      "source": [
        "balance.describe()"
      ],
      "metadata": {
        "id": "haiEhAeszR_X"
      },
      "execution_count": null,
      "outputs": []
    },
    {
      "cell_type": "code",
      "source": [
        "balance.groupby(['Gender','Student','Married','Ethnicity'])['Balance'].agg('mean')"
      ],
      "metadata": {
        "id": "IJD6fVp8zwBS"
      },
      "execution_count": null,
      "outputs": []
    },
    {
      "cell_type": "code",
      "source": [
        "balance.groupby(['Gender','Student','Married','Ethnicity'])['Balance'].agg(**{'Mean':'mean'})"
      ],
      "metadata": {
        "id": "Kmnuu6v3F0_t"
      },
      "execution_count": null,
      "outputs": []
    },
    {
      "cell_type": "code",
      "source": [
        "balance.groupby(['Gender','Student','Married','Ethnicity'])['Balance'].agg(**{'N':'count','Mean':'mean','STD':'std'})"
      ],
      "metadata": {
        "id": "XJB5dOJDF2oU"
      },
      "execution_count": null,
      "outputs": []
    },
    {
      "cell_type": "markdown",
      "source": [
        "* 데이터의 분리"
      ],
      "metadata": {
        "id": "TUabrrNi4vxG"
      }
    },
    {
      "cell_type": "code",
      "source": [
        "X = balance.iloc[:,1:-1]\n",
        "y = balance.iloc[:,[-1]]"
      ],
      "metadata": {
        "id": "_XHoiNdQFTiq"
      },
      "execution_count": null,
      "outputs": []
    },
    {
      "cell_type": "code",
      "source": [
        "# @title 가변수 만들기\n",
        "X = pd.get_dummies(X,drop_first=True,dtype=int)\n",
        "# X = pd.get_dummies(X,dtype=int)"
      ],
      "metadata": {
        "id": "yx8o7oLDFZ16"
      },
      "execution_count": null,
      "outputs": []
    },
    {
      "cell_type": "code",
      "source": [
        "X.head()"
      ],
      "metadata": {
        "id": "fJwozSCbhOWR"
      },
      "execution_count": null,
      "outputs": []
    },
    {
      "cell_type": "code",
      "source": [
        "# @markdown 난수초기값을 3으로 설정하고 전체의 70%를 무작위 추출하여 학습데이터 사용\n",
        "from sklearn.model_selection import train_test_split\n",
        "X_train, X_test, y_train, y_test = train_test_split(X,y,random_state=3,train_size=0.7)"
      ],
      "metadata": {
        "id": "wogbe1zK4uQ6"
      },
      "execution_count": null,
      "outputs": []
    },
    {
      "cell_type": "markdown",
      "source": [
        "* 선형회귀모형"
      ],
      "metadata": {
        "id": "Hl5WdWOXGViS"
      }
    },
    {
      "cell_type": "code",
      "source": [
        "from sklearn.linear_model import LinearRegression"
      ],
      "metadata": {
        "id": "sh07pO4NGUpQ"
      },
      "execution_count": null,
      "outputs": []
    },
    {
      "cell_type": "code",
      "source": [
        "LR = LinearRegression()\n",
        "LR.fit(X_train,y_train)"
      ],
      "metadata": {
        "id": "AytD-HGi6UXu"
      },
      "execution_count": null,
      "outputs": []
    },
    {
      "cell_type": "code",
      "source": [
        "# @title 모형의 적합력\n",
        "# print(f\"- 학습데이터 : {LR.score(X_train, y_train)} \\n- 평가데이터 : {LR.score(X_test, y_test)}\")\n",
        "print(f\"- 학습데이터 : {np.round(LR.score(X_train, y_train),3)} \\n- 평가데이터 : {np.round(LR.score(X_test, y_test),3)}\")"
      ],
      "metadata": {
        "id": "rJ4QJv9ZTjXi"
      },
      "execution_count": null,
      "outputs": []
    },
    {
      "cell_type": "code",
      "source": [
        "for i in range(0,len(LR.feature_names_in_)+1):\n",
        "  if i == 0 :\n",
        "    print(f'절편 : {np.round(LR.intercept_[0],3)}')\n",
        "  else :\n",
        "    print(f'{LR.feature_names_in_[i-1]} : {np.round(LR.coef_[0,i-1],3)}')"
      ],
      "metadata": {
        "id": "PIAXNORGIdK0"
      },
      "execution_count": null,
      "outputs": []
    },
    {
      "cell_type": "markdown",
      "source": [
        "* kNN 회귀"
      ],
      "metadata": {
        "id": "g4dxqik1L_wR"
      }
    },
    {
      "cell_type": "code",
      "source": [
        "from sklearn.neighbors import KNeighborsRegressor"
      ],
      "metadata": {
        "id": "eDSqp7RjMZbZ"
      },
      "execution_count": null,
      "outputs": []
    },
    {
      "cell_type": "code",
      "source": [
        "# @title kNN 회귀의 최적 모형 탐색\n",
        "niter = 100\n",
        "wgt_nm = 'uniform'\n",
        "optVal = np.zeros((niter,3))\n",
        "for k in range(1, niter+1):\n",
        "    KR = KNeighborsRegressor(n_neighbors=k,weights=wgt_nm)\n",
        "    KR.fit(X_train, y_train)\n",
        "    optVal[k-1,0] = k\n",
        "    optVal[k-1,1] = KR.score(X_train, y_train)\n",
        "    optVal[k-1,2] = KR.score(X_test, y_test)\n",
        "plt.plot(optVal[:,0],optVal[:,1],color='navy',label='학습데이터')\n",
        "plt.plot(optVal[:,0],optVal[:,2],color='darkorange',label='평가데이터')\n",
        "plt.title('n_neighbors 값의 변화에 따른 적합결과 변화')\n",
        "plt.xlabel('n_neighbors')\n",
        "plt.ylabel('R^2')\n",
        "plt.legend()\n",
        "plt.show()"
      ],
      "metadata": {
        "id": "TDcvPfqxMlIV"
      },
      "execution_count": null,
      "outputs": []
    },
    {
      "cell_type": "code",
      "source": [
        "# @title 최적모형\n",
        "optVal[optVal[:,2] == max(optVal[:,2]),]"
      ],
      "metadata": {
        "id": "Hj5i4k6HNw5f"
      },
      "execution_count": null,
      "outputs": []
    },
    {
      "cell_type": "markdown",
      "source": [
        "* 회귀나무"
      ],
      "metadata": {
        "id": "ti4_HLF84rV7"
      }
    },
    {
      "cell_type": "code",
      "source": [
        "from sklearn.tree import DecisionTreeRegressor"
      ],
      "metadata": {
        "id": "1LO_Aa45uF8m"
      },
      "execution_count": null,
      "outputs": []
    },
    {
      "cell_type": "code",
      "source": [
        "# @title 기본값을 이용한 회귀나무의 적합 결과\n",
        "RT = DecisionTreeRegressor(random_state=3)\n",
        "RT.fit(X_train, y_train)"
      ],
      "metadata": {
        "id": "TZu0IAZp6faQ"
      },
      "execution_count": null,
      "outputs": []
    },
    {
      "cell_type": "code",
      "source": [
        "# @title 모형의 적합력\n",
        "print(f\"- 학습데이터 : {RT.score(X_train, y_train)} \\n- 평가데이터 : {RT.score(X_test, y_test)}\")"
      ],
      "metadata": {
        "id": "0ko31BXT6rYo"
      },
      "execution_count": null,
      "outputs": []
    },
    {
      "cell_type": "code",
      "source": [
        "tree.plot_tree(RT)\n",
        "plt.show()"
      ],
      "metadata": {
        "id": "_8xoKRXBuwIf"
      },
      "execution_count": null,
      "outputs": []
    },
    {
      "cell_type": "code",
      "source": [
        "# @title min_samples_split 변화에 따른 회귀나무의 성능 비교\n",
        "niter = 50\n",
        "optVal = np.zeros((niter,3))\n",
        "for k in range(2, niter+2):\n",
        "    RT = DecisionTreeRegressor(min_samples_split=k,random_state=3)\n",
        "    RT.fit(X_train, y_train)\n",
        "    optVal[k-2,0] = k\n",
        "    optVal[k-2,1] = RT.score(X_train, y_train)\n",
        "    optVal[k-2,2] = RT.score(X_test, y_test)\n",
        "\n",
        "plt.plot(optVal[:,0],optVal[:,1],color='navy',label='학습데이터')\n",
        "plt.plot(optVal[:,0],optVal[:,2],color='darkorange',label='평가데이터')\n",
        "plt.title('min_samples_split 값의 변화에 따른 적합결과 변화')\n",
        "plt.xlabel('min_samples_split')\n",
        "plt.ylabel('R^2')\n",
        "plt.legend()\n",
        "plt.show()"
      ],
      "metadata": {
        "id": "Zc9C1L2fOSKl"
      },
      "execution_count": null,
      "outputs": []
    },
    {
      "cell_type": "code",
      "source": [
        "# @title 최적모형\n",
        "optVal[optVal[:,2] == max(optVal[:,2]),]"
      ],
      "metadata": {
        "id": "nmYUq1ZMObUY"
      },
      "execution_count": null,
      "outputs": []
    },
    {
      "cell_type": "code",
      "source": [
        "# @title 최적모형의 적합력\n",
        "RT = DecisionTreeRegressor(min_samples_split=7,random_state=3)\n",
        "RT.fit(X_train, y_train)\n",
        "print(f\"- 학습데이터 : {RT.score(X_train, y_train)} \\n- 평가데이터 : {RT.score(X_test, y_test)}\")"
      ],
      "metadata": {
        "id": "bspmuxISUP7N"
      },
      "execution_count": null,
      "outputs": []
    },
    {
      "cell_type": "code",
      "source": [
        "# @title 최적모형의 모습\n",
        "tree.plot_tree(RT)\n",
        "plt.show()"
      ],
      "metadata": {
        "id": "oRnrof_uUCho"
      },
      "execution_count": null,
      "outputs": []
    },
    {
      "cell_type": "code",
      "source": [
        "# @title 회귀나무에 사용된 독립변수의 중요도\n",
        "plt.figure(figsize=(18,6))\n",
        "plt.bar(RT.feature_names_in_,RT.feature_importances_)\n",
        "plt.show()"
      ],
      "metadata": {
        "id": "AsWBMpxgUoH0"
      },
      "execution_count": null,
      "outputs": []
    },
    {
      "cell_type": "code",
      "source": [
        "for i, col in enumerate(RT.feature_names_in_):\n",
        "    print(f'{col} 중요도 : {RT.feature_importances_[i]}')"
      ],
      "metadata": {
        "id": "UJZ_rDNkUyu2"
      },
      "execution_count": null,
      "outputs": []
    },
    {
      "cell_type": "code",
      "source": [
        "# @title min_samples_leaf 변화에 따른 회귀나무의 성능 비교\n",
        "niter = 50\n",
        "optVal = np.zeros((niter,3))\n",
        "for k in range(2, niter+2):\n",
        "    RT = DecisionTreeRegressor(min_samples_leaf=k,random_state=3)\n",
        "    RT.fit(X_train, y_train)\n",
        "    optVal[k-2,0] = k\n",
        "    optVal[k-2,1] = RT.score(X_train, y_train)\n",
        "    optVal[k-2,2] = RT.score(X_test, y_test)\n",
        "\n",
        "plt.plot(optVal[:,0],optVal[:,1],color='navy',label='학습데이터')\n",
        "plt.plot(optVal[:,0],optVal[:,2],color='darkorange',label='평가데이터')\n",
        "plt.title('min_samples_leaf 값의 변화에 따른 적합결과 변화')\n",
        "plt.xlabel('min_samples_leaf')\n",
        "plt.ylabel('R^2')\n",
        "plt.legend()\n",
        "plt.show()"
      ],
      "metadata": {
        "id": "4QdrHjpISCen"
      },
      "execution_count": null,
      "outputs": []
    },
    {
      "cell_type": "code",
      "source": [
        "# @title 최적모형\n",
        "optVal[optVal[:,2] == max(optVal[:,2]),]"
      ],
      "metadata": {
        "id": "Oxn5ICaySKWa"
      },
      "execution_count": null,
      "outputs": []
    },
    {
      "cell_type": "code",
      "source": [
        "# @title 최적모형의 적합력\n",
        "RT = DecisionTreeRegressor(min_samples_split=7,random_state=3)\n",
        "RT.fit(X_train, y_train)\n",
        "print(f\"- 학습데이터 : {RT.score(X_train, y_train)} \\n- 평가데이터 : {RT.score(X_test, y_test)}\")"
      ],
      "metadata": {
        "id": "WVhp22ApKMO_"
      },
      "execution_count": null,
      "outputs": []
    },
    {
      "cell_type": "code",
      "source": [
        "# @title 최적모형의 모습\n",
        "tree.plot_tree(RT)\n",
        "plt.show()"
      ],
      "metadata": {
        "id": "TuASduZzKQK6"
      },
      "execution_count": null,
      "outputs": []
    },
    {
      "cell_type": "code",
      "source": [
        "# @title 회귀나무에 사용된 독립변수의 중요도\n",
        "plt.bar(RT.feature_names_in_,RT.feature_importances_)\n",
        "plt.show()"
      ],
      "metadata": {
        "id": "x5X-6_rjKSN7",
        "cellView": "form"
      },
      "execution_count": null,
      "outputs": []
    },
    {
      "cell_type": "code",
      "source": [
        "for i, col in enumerate(RT.feature_names_in_):\n",
        "    print(f'{col} 중요도 : {RT.feature_importances_[i]}')"
      ],
      "metadata": {
        "id": "fE7PJbAOKo24"
      },
      "execution_count": null,
      "outputs": []
    },
    {
      "cell_type": "code",
      "source": [
        "# @title 회귀나무 분리 규칙 출력\n",
        "print(tree.export_text(RT,feature_names=RT.feature_names_in_.tolist()))"
      ],
      "metadata": {
        "id": "x01M9orV2wj5"
      },
      "execution_count": null,
      "outputs": []
    },
    {
      "cell_type": "markdown",
      "source": [
        "---\n",
        "### __예측모형의 적합 결과 활용__"
      ],
      "metadata": {
        "id": "8pFG-Hnl6fZi"
      }
    },
    {
      "cell_type": "markdown",
      "source": [
        "* 예측하고자 하는 데이터 생성 : 2차원 배열의 형태"
      ],
      "metadata": {
        "id": "SXswPvBox5O0"
      }
    },
    {
      "cell_type": "code",
      "source": [
        "X_new = [[150,10000,850,6,60,16,1,0,1,1,0]]"
      ],
      "metadata": {
        "id": "-Pwl4pqeyLCG"
      },
      "execution_count": null,
      "outputs": []
    },
    {
      "cell_type": "code",
      "source": [
        "RT.predict(X_new)"
      ],
      "metadata": {
        "id": "xWZhxGPByRYC"
      },
      "execution_count": null,
      "outputs": []
    },
    {
      "cell_type": "code",
      "source": [
        "X_new = [[150,10000,850,6,60,16,1,0,1,1,0],[50,3000,450,2,60,16,1,0,1,1,0]]\n",
        "RT.predict(X_new)"
      ],
      "metadata": {
        "id": "HcB6AOdYzL_q"
      },
      "execution_count": null,
      "outputs": []
    }
  ]
}