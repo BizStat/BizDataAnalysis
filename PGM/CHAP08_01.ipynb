{
  "nbformat": 4,
  "nbformat_minor": 0,
  "metadata": {
    "colab": {
      "provenance": []
    },
    "kernelspec": {
      "name": "python3",
      "display_name": "Python 3"
    },
    "language_info": {
      "name": "python"
    }
  },
  "cells": [
    {
      "cell_type": "markdown",
      "metadata": {
        "id": "_QCHrEOT2m_t"
      },
      "source": [
        "# 제 8 장 __인공신경망의 이해와 활용__\n",
        "___"
      ]
    },
    {
      "cell_type": "markdown",
      "metadata": {
        "id": "HAtyJ9c721KK"
      },
      "source": [
        "## __사전설정__\n",
        "---"
      ]
    },
    {
      "cell_type": "markdown",
      "metadata": {
        "id": "uw3-Nvtm249v"
      },
      "source": [
        "(1) 저장소 데이터 가져오기"
      ]
    },
    {
      "cell_type": "code",
      "execution_count": null,
      "metadata": {
        "id": "d5LYq9gPZx8m"
      },
      "outputs": [],
      "source": [
        "!rm -rf /content/BizDataAnalysis/"
      ]
    },
    {
      "cell_type": "code",
      "execution_count": null,
      "metadata": {
        "id": "9APPiXA43PE_"
      },
      "outputs": [],
      "source": [
        "!git clone https://github.com/BizStat/BizDataAnalysis.git"
      ]
    },
    {
      "cell_type": "markdown",
      "metadata": {
        "id": "YCG2Vnoh3IG2"
      },
      "source": [
        "\n",
        "(2) matplotlib 환경에서 한글 사용"
      ]
    },
    {
      "cell_type": "code",
      "execution_count": null,
      "metadata": {
        "id": "f7Kxphw17991"
      },
      "outputs": [],
      "source": [
        "!sudo apt-get install -y fonts-nanum\n",
        "!sudo fc-cache -f -v\n",
        "!rm ~/.cache/matplotlib -rf"
      ]
    },
    {
      "cell_type": "markdown",
      "metadata": {
        "id": "fYnwWvIX46iC"
      },
      "source": [
        "런타임 메뉴에서 '세션 다시 시작' 후 다음의 명령문 실행"
      ]
    },
    {
      "cell_type": "code",
      "execution_count": null,
      "metadata": {
        "id": "T5UHjIvW7SD-"
      },
      "outputs": [],
      "source": [
        "from matplotlib import rc\n",
        "rc('font', family='NanumGothicCoding')\n",
        "rc('axes', unicode_minus=False)"
      ]
    },
    {
      "cell_type": "markdown",
      "source": [
        "(3) 구글 드라이브 연결"
      ],
      "metadata": {
        "id": "tPVKIN1vqzjx"
      }
    },
    {
      "cell_type": "code",
      "source": [
        "from google.colab import drive\n",
        "drive.mount('/content/gdrive/')"
      ],
      "metadata": {
        "id": "12BNWJ1Yq10s"
      },
      "execution_count": null,
      "outputs": []
    },
    {
      "cell_type": "markdown",
      "metadata": {
        "id": "TaT2a1PB22xv"
      },
      "source": [
        "___"
      ]
    },
    {
      "cell_type": "markdown",
      "source": [
        "## 8.2 __인공신경망의 이해__"
      ],
      "metadata": {
        "id": "Hqt8GZABOYRF"
      }
    },
    {
      "cell_type": "markdown",
      "source": [
        "### (1) 예측모형을 인공신경망으로 구현한 사례"
      ],
      "metadata": {
        "id": "PAxvOm_gSa7u"
      }
    },
    {
      "cell_type": "markdown",
      "source": [
        "* Boston house-price 데이터 가져오기"
      ],
      "metadata": {
        "id": "mu7XIhObI6eS"
      }
    },
    {
      "cell_type": "code",
      "source": [
        "import pandas as pd\n",
        "import numpy as np\n",
        "import matplotlib.pyplot as plt"
      ],
      "metadata": {
        "id": "-9B7dOwZJDuT"
      },
      "execution_count": null,
      "outputs": []
    },
    {
      "cell_type": "code",
      "source": [
        "boston = pd.read_table('/content/BizDataAnalysis/DATA/Boston.txt', sep='\\s+')"
      ],
      "metadata": {
        "id": "jKrdu9nKJESa"
      },
      "execution_count": null,
      "outputs": []
    },
    {
      "cell_type": "code",
      "source": [
        "boston.head()"
      ],
      "metadata": {
        "id": "3SrgNK0uJaql"
      },
      "execution_count": null,
      "outputs": []
    },
    {
      "cell_type": "markdown",
      "source": [
        "__1.  학습데이터와 평가데이터 데이터분할__"
      ],
      "metadata": {
        "id": "Io8LzWuGKJMl"
      }
    },
    {
      "cell_type": "markdown",
      "source": [
        "* 강의노트에 있는 scikit-learn 라이브러리에서 제공하는 기능을 사용해도 동일한 결과를 얻을 수 있음"
      ],
      "metadata": {
        "id": "lKyv5wr3KGF4"
      }
    },
    {
      "cell_type": "code",
      "source": [
        "X_train = boston.sample(frac=0.7,random_state=3)\n",
        "X_test = boston.drop(X_train.index)"
      ],
      "metadata": {
        "id": "zqZlAtNrCypn"
      },
      "execution_count": null,
      "outputs": []
    },
    {
      "cell_type": "code",
      "source": [
        "y_train = X_train.pop('MEDV')\n",
        "y_test = X_test.pop('MEDV')"
      ],
      "metadata": {
        "id": "o5IaLOw_DIBh"
      },
      "execution_count": null,
      "outputs": []
    },
    {
      "cell_type": "code",
      "source": [
        "#@title 데이터 표준화\n",
        "from sklearn.preprocessing import StandardScaler\n",
        "scaler = StandardScaler()\n",
        "scaler.fit(X_train)\n",
        "X_train = scaler.transform(X_train)\n",
        "X_test = scaler.transform(X_test)"
      ],
      "metadata": {
        "id": "3QUCOx3fgOie"
      },
      "execution_count": null,
      "outputs": []
    },
    {
      "cell_type": "markdown",
      "source": [
        "__2.  분석에 사용할 신경망 모형 설정__"
      ],
      "metadata": {
        "id": "SHYp1bWhKsPG"
      }
    },
    {
      "cell_type": "code",
      "source": [
        "from tensorflow.keras.models import Sequential\n",
        "from tensorflow.keras.layers import Dense"
      ],
      "metadata": {
        "id": "cRATFUN4K9dN"
      },
      "execution_count": null,
      "outputs": []
    },
    {
      "cell_type": "code",
      "source": [
        "boston_nn_mod = Sequential(name='Boston_NN')"
      ],
      "metadata": {
        "id": "EmoQLtuxLA4H"
      },
      "execution_count": null,
      "outputs": []
    },
    {
      "cell_type": "code",
      "source": [
        "boston_nn_mod.add(Dense(2,input_dim=13,activation=None,name=\"Hidden_Layer_1\"))"
      ],
      "metadata": {
        "id": "M9mxRnu4MJV6"
      },
      "execution_count": null,
      "outputs": []
    },
    {
      "cell_type": "code",
      "source": [
        "#@title 활성함수 변경 사례\n",
        "boston_nn_mod.add(Dense(2,input_dim=13,activation='relu',name=\"Hidden_Layer_1\"))"
      ],
      "metadata": {
        "id": "wfm_Al2o-_eZ"
      },
      "execution_count": null,
      "outputs": []
    },
    {
      "cell_type": "code",
      "source": [
        "#@title 은닉층 추가 사례\n",
        "boston_nn_mod.add(Dense(2,input_dim=2,activation='relu',name=\"Hidden_Layer_2\"))"
      ],
      "metadata": {
        "id": "Jdrjg7g8JvR3"
      },
      "execution_count": null,
      "outputs": []
    },
    {
      "cell_type": "code",
      "source": [
        "boston_nn_mod.add(Dense(1,name=\"Output_layer\"))"
      ],
      "metadata": {
        "id": "mWdwW6it_AM0"
      },
      "execution_count": null,
      "outputs": []
    },
    {
      "cell_type": "code",
      "source": [
        "boston_nn_mod.summary()"
      ],
      "metadata": {
        "id": "4m0vGWEFNnhG"
      },
      "execution_count": null,
      "outputs": []
    },
    {
      "cell_type": "code",
      "source": [
        "from tensorflow.keras.utils import plot_model\n",
        "plot_model(boston_nn_mod, show_shapes=True)"
      ],
      "metadata": {
        "id": "QIK7EHUmkzlG"
      },
      "execution_count": null,
      "outputs": []
    },
    {
      "cell_type": "code",
      "source": [
        "ex_batch = X_train[:10]\n",
        "ex_result = boston_nn_mod.predict(ex_batch)\n",
        "ex_result"
      ],
      "metadata": {
        "id": "lSKl620a_JMl"
      },
      "execution_count": null,
      "outputs": []
    },
    {
      "cell_type": "markdown",
      "source": [
        "__3.  모형 컴파일__"
      ],
      "metadata": {
        "id": "hCTwa3QPOzy6"
      }
    },
    {
      "cell_type": "code",
      "source": [
        "boston_nn_mod.compile(optimizer='rmsprop', loss='mse', metrics=['mae','mse'])"
      ],
      "metadata": {
        "id": "D7BJmFmXPak9"
      },
      "execution_count": null,
      "outputs": []
    },
    {
      "cell_type": "markdown",
      "source": [
        "__4.  모형의 학습과 평가__"
      ],
      "metadata": {
        "id": "UUY6ziUjRavK"
      }
    },
    {
      "cell_type": "code",
      "source": [
        "history = boston_nn_mod.fit(\n",
        "  X_train, y_train,\n",
        "  validation_data=(X_test,y_test),\n",
        "  # epochs=300\n",
        "  epochs=10\n",
        ")"
      ],
      "metadata": {
        "id": "lBUOGJrSOrHp"
      },
      "execution_count": null,
      "outputs": []
    },
    {
      "cell_type": "code",
      "source": [
        "hist = pd.DataFrame(history.history)\n",
        "hist['epoch'] = history.epoch\n",
        "hist.tail()"
      ],
      "metadata": {
        "id": "_puBOhimcj5u"
      },
      "execution_count": null,
      "outputs": []
    },
    {
      "cell_type": "code",
      "source": [
        "plt.xlabel('Epoch')\n",
        "plt.ylabel('Mean Abs Error')\n",
        "plt.plot(hist['epoch'], hist['mae'],label='Train Error')\n",
        "plt.plot(hist['epoch'], hist['val_mae'],label = 'Test Error')\n",
        "#  plt.ylim([0,5])\n",
        "plt.legend()\n",
        "plt.show()\n"
      ],
      "metadata": {
        "id": "h5UAzi2f02xv"
      },
      "execution_count": null,
      "outputs": []
    },
    {
      "cell_type": "code",
      "source": [
        "plt.xlabel('Epoch')\n",
        "plt.ylabel('Mean Square Error')\n",
        "plt.plot(hist['epoch'], hist['mse'],label='Train Error')\n",
        "plt.plot(hist['epoch'], hist['val_mse'],label = 'Test Error')\n",
        "#plt.ylim([0,20])\n",
        "plt.legend()\n",
        "plt.show()"
      ],
      "metadata": {
        "id": "gZ8egKon1xQp"
      },
      "execution_count": null,
      "outputs": []
    },
    {
      "cell_type": "code",
      "source": [
        "score = boston_nn_mod.evaluate(X_test, y_test)\n",
        "print(f'Test Loss : {score[0]}')\n",
        "print(f'Test Mae  : {score[1]}')"
      ],
      "metadata": {
        "id": "RKi1NUZK64eO"
      },
      "execution_count": null,
      "outputs": []
    },
    {
      "cell_type": "markdown",
      "source": [
        "__5.  모형의 예측결과 살펴보기__"
      ],
      "metadata": {
        "id": "21GMfp1KUncR"
      }
    },
    {
      "cell_type": "code",
      "source": [
        "y_test_pred = boston_nn_mod.predict(X_test)"
      ],
      "metadata": {
        "id": "lxaaoVZWEaXT"
      },
      "execution_count": null,
      "outputs": []
    },
    {
      "cell_type": "code",
      "source": [
        "boston_nn_mod.predict(X_test)"
      ],
      "metadata": {
        "id": "11Db4E-DBGhy"
      },
      "execution_count": null,
      "outputs": []
    },
    {
      "cell_type": "code",
      "source": [
        "xref = np.arange(0,60,0.1)\n",
        "yref = xref\n",
        "plt.plot(xref,yref,c='red')\n",
        "plt.scatter(y_test,np.array(y_test_pred).T[0])\n",
        "plt.title('평가데이터에서 실제값 vs. 예측값 ')\n",
        "plt.xlabel('실제값')\n",
        "plt.ylabel('예측값')\n",
        "plt.show()"
      ],
      "metadata": {
        "id": "F9NUJ3YmVPDs"
      },
      "execution_count": null,
      "outputs": []
    },
    {
      "cell_type": "markdown",
      "source": [
        "__6.  모형의 저장__"
      ],
      "metadata": {
        "id": "JpIlm9himNDx"
      }
    },
    {
      "cell_type": "code",
      "source": [
        "boston_nn_mod.save(\"Boston prediction NN model\") # 모형 저장"
      ],
      "metadata": {
        "id": "a9NAtqOAmbgH"
      },
      "execution_count": null,
      "outputs": []
    },
    {
      "cell_type": "code",
      "source": [
        "from tensorflow.keras.models import load_model\n",
        "model = load_model(\"Boston prediction NN model\")"
      ],
      "metadata": {
        "id": "W8LeoLxGm50T"
      },
      "execution_count": null,
      "outputs": []
    },
    {
      "cell_type": "code",
      "source": [
        "model.summary()"
      ],
      "metadata": {
        "id": "Bv3ubnCesopo"
      },
      "execution_count": null,
      "outputs": []
    },
    {
      "cell_type": "markdown",
      "source": [
        "---"
      ],
      "metadata": {
        "id": "r1qVKFiMRY9S"
      }
    },
    {
      "cell_type": "markdown",
      "source": [
        "### (2) 분류모형을 인공신경망으로 구현한 사례"
      ],
      "metadata": {
        "id": "b9ozJGjuI3ni"
      }
    },
    {
      "cell_type": "markdown",
      "source": [
        "* 연체 데이터 가져오기"
      ],
      "metadata": {
        "id": "XwaQLeduQ5pS"
      }
    },
    {
      "cell_type": "code",
      "source": [
        "import pandas as pd\n",
        "import numpy as np"
      ],
      "metadata": {
        "id": "NmEgZjz3Qh7t"
      },
      "execution_count": null,
      "outputs": []
    },
    {
      "cell_type": "code",
      "source": [
        "default = pd.read_table('/content/BizDataAnalysis/DATA/Default.csv', sep=',')"
      ],
      "metadata": {
        "id": "v4bu4avRRezE"
      },
      "execution_count": null,
      "outputs": []
    },
    {
      "cell_type": "code",
      "source": [
        "default.head()"
      ],
      "metadata": {
        "id": "HL_6AXfERnyk"
      },
      "execution_count": null,
      "outputs": []
    },
    {
      "cell_type": "markdown",
      "source": [
        "* 독립변수와 종속변수로 분리 및 가변수 처리"
      ],
      "metadata": {
        "id": "TNfIqv5yVE5e"
      }
    },
    {
      "cell_type": "code",
      "source": [
        "X = default.iloc[:,2:]\n",
        "y = default.iloc[:,[1]]\n",
        "X = pd.get_dummies(X,drop_first=True,dtype=int)\n",
        "y = pd.get_dummies(y,drop_first=True,dtype=int)"
      ],
      "metadata": {
        "id": "Iqd_fLWwXgZF"
      },
      "execution_count": null,
      "outputs": []
    },
    {
      "cell_type": "markdown",
      "source": [
        "__1.  학습데이터와 평가데이터 데이터분할__"
      ],
      "metadata": {
        "id": "6oK2m83GMV1y"
      }
    },
    {
      "cell_type": "code",
      "source": [
        "from sklearn.model_selection import train_test_split\n",
        "X_train, X_test, y_train, y_test = train_test_split(X,y,random_state=3,train_size=0.7)"
      ],
      "metadata": {
        "id": "LQmAQha6X3Q2"
      },
      "execution_count": null,
      "outputs": []
    },
    {
      "cell_type": "code",
      "source": [
        "#@title 데이터 표준화\n",
        "from sklearn.preprocessing import StandardScaler\n",
        "scaler = StandardScaler()\n",
        "scaler.fit(X_train)\n",
        "X_train = scaler.transform(X_train)\n",
        "X_test = scaler.transform(X_test)"
      ],
      "metadata": {
        "id": "CzMP8B50WlWH"
      },
      "execution_count": null,
      "outputs": []
    },
    {
      "cell_type": "code",
      "source": [
        "#@title 데이터를 0과 1사이의 값으로 변환\n",
        "from sklearn.preprocessing import MinMaxScaler\n",
        "scaler = MinMaxScaler()\n",
        "scaler.fit(X_train)\n",
        "X_train = scaler.transform(X_train)\n",
        "X_test = scaler.transform(X_test)"
      ],
      "metadata": {
        "id": "iuDSq0PflItV"
      },
      "execution_count": null,
      "outputs": []
    },
    {
      "cell_type": "markdown",
      "source": [
        "__2.  분석에 사용할 신경망 모형 설정__"
      ],
      "metadata": {
        "id": "FS5rivCIMl7b"
      }
    },
    {
      "cell_type": "code",
      "source": [
        "default_nn_mod = Sequential(name='Default_NN')"
      ],
      "metadata": {
        "id": "YiVoflnPRsc4"
      },
      "execution_count": null,
      "outputs": []
    },
    {
      "cell_type": "code",
      "source": [
        "default_nn_mod.add((Dense(64,input_dim=3,activation='relu',name=\"Hidden_Layer_1\")))\n",
        "default_nn_mod.add((Dense(64,activation='relu',name=\"Hidden_Layer_2\")))\n",
        "default_nn_mod.add((Dense(1,activation='sigmoid',name=\"Output_Layer\")))"
      ],
      "metadata": {
        "id": "IwqyiH01XFMf"
      },
      "execution_count": null,
      "outputs": []
    },
    {
      "cell_type": "code",
      "source": [
        "default_nn_mod.summary()"
      ],
      "metadata": {
        "id": "-97NueyLNun3"
      },
      "execution_count": null,
      "outputs": []
    },
    {
      "cell_type": "markdown",
      "source": [
        "__3.  모형 컴파일__"
      ],
      "metadata": {
        "id": "8xCLVehyN14g"
      }
    },
    {
      "cell_type": "code",
      "source": [
        "default_nn_mod.compile(optimizer='Adam', loss='binary_crossentropy', metrics=['acc'])"
      ],
      "metadata": {
        "id": "fX3grjQQN5wA"
      },
      "execution_count": null,
      "outputs": []
    },
    {
      "cell_type": "markdown",
      "source": [
        "__4.  모형의 학습과 평가__"
      ],
      "metadata": {
        "id": "Mm7StG-7OcEe"
      }
    },
    {
      "cell_type": "code",
      "source": [
        "history = default_nn_mod.fit(\n",
        "  X_train, y_train,\n",
        "  validation_split = 0.2,\n",
        "  epochs=500,\n",
        "  batch_size=64,\n",
        "  verbose=0\n",
        ")"
      ],
      "metadata": {
        "id": "VEm8yJhOOfg0"
      },
      "execution_count": null,
      "outputs": []
    },
    {
      "cell_type": "code",
      "source": [
        "hist = pd.DataFrame(history.history)\n",
        "hist['epoch'] = history.epoch\n",
        "hist.tail()"
      ],
      "metadata": {
        "id": "mpmd1qecO_NM"
      },
      "execution_count": null,
      "outputs": []
    },
    {
      "cell_type": "code",
      "source": [
        "plt.xlabel('Epoch')\n",
        "plt.ylabel('Accuracy')\n",
        "plt.plot(hist['epoch'], hist['acc'],label='Train Error')\n",
        "plt.plot(hist['epoch'], hist['val_acc'],label = 'Val Error')\n",
        "plt.legend()\n",
        "plt.show()"
      ],
      "metadata": {
        "id": "pLw1w58PQHt-"
      },
      "execution_count": null,
      "outputs": []
    },
    {
      "cell_type": "markdown",
      "source": [
        "__5.  모형의 예측결과 살펴보기__"
      ],
      "metadata": {
        "id": "h3Jn9axsYT06"
      }
    },
    {
      "cell_type": "code",
      "source": [
        "y_test_prob = default_nn_mod.predict(X_test)"
      ],
      "metadata": {
        "id": "6ihzaWiwYQCb"
      },
      "execution_count": null,
      "outputs": []
    },
    {
      "cell_type": "code",
      "source": [
        "y_test_prob > 0,5"
      ],
      "metadata": {
        "id": "EpvEAWcVZmer"
      },
      "execution_count": null,
      "outputs": []
    },
    {
      "cell_type": "code",
      "source": [
        "y_test_pred = np.where(y_test_prob > 0.5 , 1, 0 )"
      ],
      "metadata": {
        "id": "2FgD7KrNYcbJ"
      },
      "execution_count": null,
      "outputs": []
    },
    {
      "cell_type": "code",
      "source": [
        "pd.crosstab(index=np.array(y_test['default_Yes']),columns=np.concatenate(y_test_pred))"
      ],
      "metadata": {
        "id": "eVJvsUe8aoHf"
      },
      "execution_count": null,
      "outputs": []
    }
  ]
}