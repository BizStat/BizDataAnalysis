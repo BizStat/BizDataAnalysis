{
  "nbformat": 4,
  "nbformat_minor": 0,
  "metadata": {
    "colab": {
      "provenance": []
    },
    "kernelspec": {
      "name": "python3",
      "display_name": "Python 3"
    },
    "language_info": {
      "name": "python"
    }
  },
  "cells": [
    {
      "cell_type": "markdown",
      "metadata": {
        "id": "_QCHrEOT2m_t"
      },
      "source": [
        "# 제 7 장 __비지도학습의 이해와 활용__\n",
        "___"
      ]
    },
    {
      "cell_type": "markdown",
      "metadata": {
        "id": "HAtyJ9c721KK"
      },
      "source": [
        "## __사전설정__\n",
        "---"
      ]
    },
    {
      "cell_type": "markdown",
      "metadata": {
        "id": "uw3-Nvtm249v"
      },
      "source": [
        "(1) 저장소 데이터 가져오기"
      ]
    },
    {
      "cell_type": "code",
      "execution_count": null,
      "metadata": {
        "id": "d5LYq9gPZx8m"
      },
      "outputs": [],
      "source": [
        "!rm -rf /content/BizDataAnalysis/"
      ]
    },
    {
      "cell_type": "code",
      "execution_count": null,
      "metadata": {
        "id": "9APPiXA43PE_"
      },
      "outputs": [],
      "source": [
        "!git clone https://github.com/BizStat/BizDataAnalysis.git"
      ]
    },
    {
      "cell_type": "markdown",
      "metadata": {
        "id": "YCG2Vnoh3IG2"
      },
      "source": [
        "\n",
        "(2) matplotlib 환경에서 한글 사용"
      ]
    },
    {
      "cell_type": "code",
      "execution_count": null,
      "metadata": {
        "id": "f7Kxphw17991"
      },
      "outputs": [],
      "source": [
        "!sudo apt-get install -y fonts-nanum\n",
        "!sudo fc-cache -f -v\n",
        "!rm ~/.cache/matplotlib -rf"
      ]
    },
    {
      "cell_type": "markdown",
      "metadata": {
        "id": "fYnwWvIX46iC"
      },
      "source": [
        "런타임 메뉴에서 '세션 다시 시작' 후 다음의 명령문 실행"
      ]
    },
    {
      "cell_type": "code",
      "execution_count": null,
      "metadata": {
        "id": "T5UHjIvW7SD-"
      },
      "outputs": [],
      "source": [
        "from matplotlib import rc\n",
        "rc('font', family='NanumGothicCoding')\n",
        "rc('axes', unicode_minus=False)"
      ]
    },
    {
      "cell_type": "markdown",
      "source": [
        "(3) 구글 드라이브 연결"
      ],
      "metadata": {
        "id": "tPVKIN1vqzjx"
      }
    },
    {
      "cell_type": "code",
      "source": [
        "from google.colab import drive\n",
        "drive.mount('/content/gdrive/')"
      ],
      "metadata": {
        "id": "12BNWJ1Yq10s"
      },
      "execution_count": null,
      "outputs": []
    },
    {
      "cell_type": "markdown",
      "metadata": {
        "id": "TaT2a1PB22xv"
      },
      "source": [
        "___"
      ]
    },
    {
      "cell_type": "markdown",
      "source": [
        "## 7.2 __군집분석의 이해와 활용__"
      ],
      "metadata": {
        "id": "Hqt8GZABOYRF"
      }
    },
    {
      "cell_type": "code",
      "source": [
        "import pandas as pd\n",
        "import matplotlib.pyplot as plt\n",
        "import numpy as np"
      ],
      "metadata": {
        "id": "R8mmOnISLHjj"
      },
      "execution_count": null,
      "outputs": []
    },
    {
      "cell_type": "markdown",
      "source": [
        "### (1) 붓꽃 데이터"
      ],
      "metadata": {
        "id": "PAxvOm_gSa7u"
      }
    },
    {
      "cell_type": "markdown",
      "source": [
        "* 데이터 가져오기"
      ],
      "metadata": {
        "id": "1XFXrIG-K6LY"
      }
    },
    {
      "cell_type": "code",
      "source": [
        "iris = pd.read_table('/content/BizDataAnalysis/DATA/iris.csv',sep=',')"
      ],
      "metadata": {
        "id": "eC5SMc9vK8gm"
      },
      "execution_count": null,
      "outputs": []
    },
    {
      "cell_type": "code",
      "source": [
        "iris.info()"
      ],
      "metadata": {
        "id": "4A49elkQbwjc"
      },
      "execution_count": null,
      "outputs": []
    },
    {
      "cell_type": "code",
      "source": [
        "iris.head()"
      ],
      "metadata": {
        "id": "PtP9_H74LQrO"
      },
      "execution_count": null,
      "outputs": []
    },
    {
      "cell_type": "code",
      "source": [
        "X = iris.iloc[:,0:4]"
      ],
      "metadata": {
        "id": "kyCcN97wfNB9"
      },
      "execution_count": null,
      "outputs": []
    },
    {
      "cell_type": "markdown",
      "source": [
        "* 계층적 군집분석"
      ],
      "metadata": {
        "id": "FO_vT-mSewwG"
      }
    },
    {
      "cell_type": "code",
      "source": [
        "import scipy.cluster.hierarchy as sch"
      ],
      "metadata": {
        "id": "JJIrXqVBgc3m"
      },
      "execution_count": null,
      "outputs": []
    },
    {
      "cell_type": "code",
      "source": [
        "sch.dendrogram(sch.linkage(X, method='ward'))\n",
        "plt.show()"
      ],
      "metadata": {
        "id": "C6qv4Ln2hyxD"
      },
      "execution_count": null,
      "outputs": []
    },
    {
      "cell_type": "code",
      "source": [
        "sch.dendrogram(sch.linkage(X, method='median'))\n",
        "plt.show()"
      ],
      "metadata": {
        "id": "p_FeU_zmj0dB"
      },
      "execution_count": null,
      "outputs": []
    },
    {
      "cell_type": "code",
      "source": [
        "from sklearn.cluster import AgglomerativeClustering"
      ],
      "metadata": {
        "id": "mZhGiy2oz-hw"
      },
      "execution_count": null,
      "outputs": []
    },
    {
      "cell_type": "code",
      "source": [
        "ward = AgglomerativeClustering(n_clusters=3, linkage=\"average\")"
      ],
      "metadata": {
        "id": "wQ6V8i1CfjKw"
      },
      "execution_count": null,
      "outputs": []
    },
    {
      "cell_type": "code",
      "source": [
        "ward.fit(X)"
      ],
      "metadata": {
        "id": "01HyPuv9pMAW"
      },
      "execution_count": null,
      "outputs": []
    },
    {
      "cell_type": "code",
      "source": [
        "ward.fit_predict(X)"
      ],
      "metadata": {
        "id": "GqGnRK-ffxw7"
      },
      "execution_count": null,
      "outputs": []
    },
    {
      "cell_type": "code",
      "source": [
        "ward.labels_"
      ],
      "metadata": {
        "id": "wbmrsw0C3ySX"
      },
      "execution_count": null,
      "outputs": []
    },
    {
      "cell_type": "code",
      "source": [
        "from sklearn.preprocessing import StandardScaler"
      ],
      "metadata": {
        "id": "4-NgsfnIquo8"
      },
      "execution_count": null,
      "outputs": []
    },
    {
      "cell_type": "code",
      "source": [
        "standard_scaler = StandardScaler()\n",
        "X_scaled = standard_scaler.fit_transform(X)"
      ],
      "metadata": {
        "id": "6_N4Hg8NqzUA"
      },
      "execution_count": null,
      "outputs": []
    },
    {
      "cell_type": "code",
      "source": [
        "ward.fit_predict(X_scaled)"
      ],
      "metadata": {
        "id": "vpz8k2e9rBZQ"
      },
      "execution_count": null,
      "outputs": []
    },
    {
      "cell_type": "code",
      "source": [
        "pd.crosstab(iris['species'],ward.fit_predict(X_scaled))"
      ],
      "metadata": {
        "id": "m6MBNf6Kz5KR"
      },
      "execution_count": null,
      "outputs": []
    },
    {
      "cell_type": "code",
      "source": [
        "pd.crosstab(iris['species'],ward.fit_predict(X))"
      ],
      "metadata": {
        "id": "-0tIDgm60Lqv"
      },
      "execution_count": null,
      "outputs": []
    },
    {
      "cell_type": "markdown",
      "source": [
        "* K-means Clustering"
      ],
      "metadata": {
        "id": "SqrAl2WJtEWe"
      }
    },
    {
      "cell_type": "code",
      "source": [
        "from sklearn.cluster import KMeans\n",
        "kmeans = KMeans(n_clusters=3, random_state=1)"
      ],
      "metadata": {
        "id": "n0bO7vtDuxeX"
      },
      "execution_count": null,
      "outputs": []
    },
    {
      "cell_type": "code",
      "source": [
        "kmeans.fit_predict(X_scaled)"
      ],
      "metadata": {
        "id": "Sav1Ark0v31Z"
      },
      "execution_count": null,
      "outputs": []
    },
    {
      "cell_type": "code",
      "source": [
        "kmeans.labels_"
      ],
      "metadata": {
        "id": "L69tH3v63s4f"
      },
      "execution_count": null,
      "outputs": []
    },
    {
      "cell_type": "code",
      "source": [
        "kmeans.cluster_centers_"
      ],
      "metadata": {
        "id": "WtU9OXKzw6_Y"
      },
      "execution_count": null,
      "outputs": []
    },
    {
      "cell_type": "code",
      "source": [
        "kmeans.feature_names_in_"
      ],
      "metadata": {
        "id": "a8M0yoq6w1YC"
      },
      "execution_count": null,
      "outputs": []
    },
    {
      "cell_type": "code",
      "source": [
        "pd.crosstab(iris['species'],kmeans.fit_predict(X))"
      ],
      "metadata": {
        "id": "7asmukjpwUqZ"
      },
      "execution_count": null,
      "outputs": []
    },
    {
      "cell_type": "markdown",
      "source": [
        "* 군집분석의 성능 평가"
      ],
      "metadata": {
        "id": "Um_ag2yh3d24"
      }
    },
    {
      "cell_type": "code",
      "source": [
        "from sklearn.metrics import silhouette_score"
      ],
      "metadata": {
        "id": "HOABxR1Z3hIW"
      },
      "execution_count": null,
      "outputs": []
    },
    {
      "cell_type": "code",
      "source": [
        "silhouette_score(X,kmeans.fit_predict(X))"
      ],
      "metadata": {
        "id": "nrkhGFcS4jRq"
      },
      "execution_count": null,
      "outputs": []
    },
    {
      "cell_type": "code",
      "source": [
        "silhouette_score(X_scaled,ward.labels_)"
      ],
      "metadata": {
        "id": "TH-YEj6py5_i"
      },
      "execution_count": null,
      "outputs": []
    },
    {
      "cell_type": "code",
      "source": [
        "silhouette_score(X,kmeans.labels_)"
      ],
      "metadata": {
        "id": "Niy9gWWu4rRX"
      },
      "execution_count": null,
      "outputs": []
    },
    {
      "cell_type": "code",
      "source": [
        "from sklearn.metrics import silhouette_samples"
      ],
      "metadata": {
        "id": "Be4hdsgd6BsA"
      },
      "execution_count": null,
      "outputs": []
    },
    {
      "cell_type": "code",
      "source": [
        "silhouette_samples(X,ward.labels_)"
      ],
      "metadata": {
        "id": "0xKcb3xX6Vnh"
      },
      "execution_count": null,
      "outputs": []
    },
    {
      "cell_type": "code",
      "source": [
        "X['cluster'] = ward.labels_\n",
        "X['score'] = silhouette_samples(X,ward.labels_)"
      ],
      "metadata": {
        "id": "qMGfY2A36zPD"
      },
      "execution_count": null,
      "outputs": []
    },
    {
      "cell_type": "code",
      "source": [
        "X.groupby('cluster')['score'].mean()\n"
      ],
      "metadata": {
        "id": "XFK3Ag4v7OxY"
      },
      "execution_count": null,
      "outputs": []
    },
    {
      "cell_type": "code",
      "source": [
        "#@title 여러개의 클러스터링 갯수를 List로 입력 받아 각각의 실루엣 계수를 면적으로 시각화한 함수 작성\n",
        "# (출처:https://romg2.github.io/\n",
        "def visualize_silhouette(cluster_lists, X_features):\n",
        "\n",
        "    from sklearn.datasets import make_blobs\n",
        "    from sklearn.cluster import KMeans\n",
        "    from sklearn.metrics import silhouette_samples, silhouette_score\n",
        "\n",
        "    import matplotlib.pyplot as plt\n",
        "    import matplotlib.cm as cm\n",
        "    import math\n",
        "\n",
        "    # 입력값으로 클러스터링 갯수들을 리스트로 받아서, 각 갯수별로 클러스터링을 적용하고 실루엣 개수를 구함\n",
        "    n_cols = len(cluster_lists)\n",
        "\n",
        "    # plt.subplots()으로 리스트에 기재된 클러스터링 수만큼의 sub figures를 가지는 axs 생성\n",
        "    fig, axs = plt.subplots(figsize=(4*n_cols, 4), nrows=1, ncols=n_cols)\n",
        "\n",
        "    # 리스트에 기재된 클러스터링 갯수들을 차례로 iteration 수행하면서 실루엣 개수 시각화\n",
        "    for ind, n_cluster in enumerate(cluster_lists):\n",
        "\n",
        "        # KMeans 클러스터링 수행하고, 실루엣 스코어와 개별 데이터의 실루엣 값 계산.\n",
        "        clusterer = KMeans(n_clusters = n_cluster, max_iter=500, random_state=0)\n",
        "        cluster_labels = clusterer.fit_predict(X_features)\n",
        "\n",
        "        sil_avg = silhouette_score(X_features, cluster_labels)\n",
        "        sil_values = silhouette_samples(X_features, cluster_labels)\n",
        "\n",
        "        y_lower = 10\n",
        "        axs[ind].set_title('Number of Cluster : '+ str(n_cluster)+'\\n' \\\n",
        "                          'Silhouette Score :' + str(round(sil_avg,3)) )\n",
        "        axs[ind].set_xlabel(\"The silhouette coefficient values\")\n",
        "        axs[ind].set_ylabel(\"Cluster label\")\n",
        "        axs[ind].set_xlim([-0.1, 1])\n",
        "        axs[ind].set_ylim([0, len(X_features) + (n_cluster + 1) * 10])\n",
        "        axs[ind].set_yticks([])  # Clear the yaxis labels / ticks\n",
        "        axs[ind].set_xticks([0, 0.2, 0.4, 0.6, 0.8, 1])\n",
        "\n",
        "        # 클러스터링 갯수별로 fill_betweenx( )형태의 막대 그래프 표현.\n",
        "        for i in range(n_cluster):\n",
        "            ith_cluster_sil_values = sil_values[cluster_labels==i]\n",
        "            ith_cluster_sil_values.sort()\n",
        "\n",
        "            size_cluster_i = ith_cluster_sil_values.shape[0]\n",
        "            y_upper = y_lower + size_cluster_i\n",
        "\n",
        "            color = cm.nipy_spectral(float(i) / n_cluster)\n",
        "            axs[ind].fill_betweenx(np.arange(y_lower, y_upper), 0, ith_cluster_sil_values, \\\n",
        "                                facecolor=color, edgecolor=color, alpha=0.7)\n",
        "            axs[ind].text(-0.05, y_lower + 0.5 * size_cluster_i, str(i))\n",
        "            y_lower = y_upper + 10\n",
        "\n",
        "        axs[ind].axvline(x=sil_avg, color=\"red\", linestyle=\"--\")"
      ],
      "metadata": {
        "id": "RDlLv2d38XQa"
      },
      "execution_count": null,
      "outputs": []
    },
    {
      "cell_type": "code",
      "source": [
        "visualize_silhouette([2,3,4,5],X_scaled)\n",
        "plt.show()"
      ],
      "metadata": {
        "id": "b-oT4YC98E2e"
      },
      "execution_count": null,
      "outputs": []
    },
    {
      "cell_type": "code",
      "source": [
        "#@title 여러개의 클러스터링 갯수를 List로 입력 받아 각각의 클러스터링 결과를 시각화\n",
        "# (출처:https://romg2.github.io/\n",
        "def visualize_kmeans_plot_multi(cluster_lists, X_features):\n",
        "\n",
        "    from sklearn.cluster import KMeans\n",
        "    from sklearn.decomposition import PCA\n",
        "    import pandas as pd\n",
        "    import numpy as np\n",
        "\n",
        "    # plt.subplots()으로 리스트에 기재된 클러스터링 만큼의 sub figures를 가지는 axs 생성\n",
        "    n_cols = len(cluster_lists)\n",
        "    fig, axs = plt.subplots(figsize=(4*n_cols, 4), nrows=1, ncols=n_cols)\n",
        "\n",
        "    # 입력 데이터의 FEATURE가 여러개일 경우 2차원 데이터 시각화가 어려우므로 PCA 변환하여 2차원 시각화\n",
        "    pca = PCA(n_components=2)\n",
        "    pca_transformed = pca.fit_transform(X_features)\n",
        "    dataframe = pd.DataFrame(pca_transformed, columns=['PCA1','PCA2'])\n",
        "\n",
        "     # 리스트에 기재된 클러스터링 갯수들을 차례로 iteration 수행하면서 KMeans 클러스터링 수행하고 시각화\n",
        "    for ind, n_cluster in enumerate(cluster_lists):\n",
        "\n",
        "        # KMeans 클러스터링으로 클러스터링 결과를 dataframe에 저장.\n",
        "        clusterer = KMeans(n_clusters = n_cluster, max_iter=500, random_state=0)\n",
        "        cluster_labels = clusterer.fit_predict(pca_transformed)\n",
        "        dataframe['cluster']=cluster_labels\n",
        "\n",
        "        unique_labels = np.unique(clusterer.labels_)\n",
        "        markers=['o', 's', '^', 'x', '*']\n",
        "\n",
        "        # 클러스터링 결과값 별로 scatter plot 으로 시각화\n",
        "        for label in unique_labels:\n",
        "            label_df = dataframe[dataframe['cluster']==label]\n",
        "            if label == -1:\n",
        "                cluster_legend = 'Noise'\n",
        "            else :\n",
        "                cluster_legend = 'Cluster '+str(label)\n",
        "            axs[ind].scatter(x=label_df['PCA1'], y=label_df['PCA2'], s=70,\\\n",
        "                        edgecolor='k', marker=markers[label], label=cluster_legend)\n",
        "\n",
        "        axs[ind].set_title('Number of Cluster : '+ str(n_cluster))\n",
        "        axs[ind].legend(loc='upper right')\n",
        "\n",
        "    plt.show()"
      ],
      "metadata": {
        "id": "qLm0WhHC9sB2"
      },
      "execution_count": null,
      "outputs": []
    },
    {
      "cell_type": "code",
      "source": [
        "visualize_kmeans_plot_multi([2,3,4,5],X_scaled)"
      ],
      "metadata": {
        "id": "KKQZ0MX290Zm"
      },
      "execution_count": null,
      "outputs": []
    },
    {
      "cell_type": "markdown",
      "source": [
        "### 실습 과제"
      ],
      "metadata": {
        "id": "njeeCl48Cma4"
      }
    },
    {
      "cell_type": "markdown",
      "source": [
        "* 데이터 가져오기"
      ],
      "metadata": {
        "id": "duiicK0qCsFe"
      }
    },
    {
      "cell_type": "code",
      "source": [
        "trans = pd.read_excel(\"/content/BizDataAnalysis/DATA/Online Retail.xlsx\")"
      ],
      "metadata": {
        "id": "YwF6rqEQCr0I"
      },
      "execution_count": null,
      "outputs": []
    },
    {
      "cell_type": "code",
      "source": [
        "trans.info()"
      ],
      "metadata": {
        "id": "Ktrwt86NCl95"
      },
      "execution_count": null,
      "outputs": []
    },
    {
      "cell_type": "code",
      "source": [
        "trans.head()"
      ],
      "metadata": {
        "id": "Ob_S5cIIP9Vo"
      },
      "execution_count": null,
      "outputs": []
    },
    {
      "cell_type": "code",
      "source": [
        "trans.describe()"
      ],
      "metadata": {
        "id": "KUbVPGv0GPdY"
      },
      "execution_count": null,
      "outputs": []
    },
    {
      "cell_type": "markdown",
      "source": [
        "* 데이터 정리\n",
        "  - CustomerID를 정수로 변환"
      ],
      "metadata": {
        "id": "GSVz-QnYGgf8"
      }
    },
    {
      "cell_type": "markdown",
      "source": [
        "* 날짜 데이터형 처리"
      ],
      "metadata": {
        "id": "NbMJoIbrPsJv"
      }
    },
    {
      "cell_type": "markdown",
      "source": [
        "* 결측값 및 이상값 제거\n",
        "  - 하나라도 변수에 결측값이 있는 경우\n",
        "  - 이상 거래 데이터 : 제품단가, 주문량 등 음수가 존재하는 경우"
      ],
      "metadata": {
        "id": "7sQfAEYkFmF8"
      }
    },
    {
      "cell_type": "code",
      "source": [
        "sum(trans['CustomerID'].notnull())"
      ],
      "metadata": {
        "id": "wrILHkT2SP1o"
      },
      "execution_count": null,
      "outputs": []
    },
    {
      "cell_type": "code",
      "source": [
        "sum(trans['Quantity'] > 0)"
      ],
      "metadata": {
        "id": "5LFbkOMhRWhS"
      },
      "execution_count": null,
      "outputs": []
    },
    {
      "cell_type": "markdown",
      "source": [
        "* 고객 수 및 기초 통계 산출"
      ],
      "metadata": {
        "id": "0q4NifBIQWCW"
      }
    },
    {
      "cell_type": "code",
      "source": [
        "trans.groupby('CustomerID').count()"
      ],
      "metadata": {
        "id": "AtvIxP8cSmYh"
      },
      "execution_count": null,
      "outputs": []
    },
    {
      "cell_type": "markdown",
      "source": [
        "* 분석 데이터 생성\n",
        "  - 고객ID별로 최근구매일, 총구매금액, 총구매횟수 등을 합한 데이터로 변환"
      ],
      "metadata": {
        "id": "wNfb8cphGuTM"
      }
    },
    {
      "cell_type": "markdown",
      "source": [
        "* RFM분석을 위한 분석 데이터 살펴보기"
      ],
      "metadata": {
        "id": "i4HBi8ETQv-3"
      }
    },
    {
      "cell_type": "markdown",
      "source": [
        "* 군집분석을 위한 데이터 표준화"
      ],
      "metadata": {
        "id": "VBYDUsLOG6VY"
      }
    },
    {
      "cell_type": "markdown",
      "source": [
        "* 적정 군집 수를 결정하기 위한 실루엣 계수 산출"
      ],
      "metadata": {
        "id": "G7y4ie9IG9wm"
      }
    }
  ]
}