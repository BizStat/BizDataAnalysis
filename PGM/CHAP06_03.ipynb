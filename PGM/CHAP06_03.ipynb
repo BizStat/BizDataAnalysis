{
  "nbformat": 4,
  "nbformat_minor": 0,
  "metadata": {
    "colab": {
      "provenance": []
    },
    "kernelspec": {
      "name": "python3",
      "display_name": "Python 3"
    },
    "language_info": {
      "name": "python"
    }
  },
  "cells": [
    {
      "cell_type": "markdown",
      "metadata": {
        "id": "_QCHrEOT2m_t"
      },
      "source": [
        "# 제 6 장 __지도학습의 이해__\n",
        "___"
      ]
    },
    {
      "cell_type": "markdown",
      "metadata": {
        "id": "HAtyJ9c721KK"
      },
      "source": [
        "## __사전설정__\n",
        "---"
      ]
    },
    {
      "cell_type": "markdown",
      "metadata": {
        "id": "uw3-Nvtm249v"
      },
      "source": [
        "(1) 저장소 데이터 가져오기"
      ]
    },
    {
      "cell_type": "code",
      "execution_count": null,
      "metadata": {
        "id": "d5LYq9gPZx8m"
      },
      "outputs": [],
      "source": [
        "!rm -rf /content/BizDataAnalysis/"
      ]
    },
    {
      "cell_type": "code",
      "execution_count": null,
      "metadata": {
        "id": "9APPiXA43PE_"
      },
      "outputs": [],
      "source": [
        "!git clone https://github.com/BizStat/BizDataAnalysis.git"
      ]
    },
    {
      "cell_type": "markdown",
      "metadata": {
        "id": "YCG2Vnoh3IG2"
      },
      "source": [
        "\n",
        "(2) matplotlib 환경에서 한글 사용"
      ]
    },
    {
      "cell_type": "code",
      "execution_count": null,
      "metadata": {
        "id": "f7Kxphw17991"
      },
      "outputs": [],
      "source": [
        "!sudo apt-get install -y fonts-nanum\n",
        "!sudo fc-cache -f -v\n",
        "!rm ~/.cache/matplotlib -rf"
      ]
    },
    {
      "cell_type": "markdown",
      "metadata": {
        "id": "fYnwWvIX46iC"
      },
      "source": [
        "런타임 메뉴에서 '세션 다시 시작' 후 다음의 명령문 실행"
      ]
    },
    {
      "cell_type": "code",
      "execution_count": null,
      "metadata": {
        "id": "T5UHjIvW7SD-"
      },
      "outputs": [],
      "source": [
        "from matplotlib import rc\n",
        "rc('font', family='NanumGothicCoding')\n",
        "rc('axes', unicode_minus=False)"
      ]
    },
    {
      "cell_type": "markdown",
      "source": [
        "(3) 구글 드라이브 연결"
      ],
      "metadata": {
        "id": "tPVKIN1vqzjx"
      }
    },
    {
      "cell_type": "code",
      "source": [
        "from google.colab import drive\n",
        "drive.mount('/content/gdrive/')"
      ],
      "metadata": {
        "id": "12BNWJ1Yq10s"
      },
      "execution_count": null,
      "outputs": []
    },
    {
      "cell_type": "markdown",
      "metadata": {
        "id": "TaT2a1PB22xv"
      },
      "source": [
        "___"
      ]
    },
    {
      "cell_type": "markdown",
      "source": [
        "## 6.4 __손글씨 숫자 인식__"
      ],
      "metadata": {
        "id": "Hqt8GZABOYRF"
      }
    },
    {
      "cell_type": "code",
      "source": [
        "import pandas as pd\n",
        "import matplotlib.pyplot as plt\n",
        "import numpy as np"
      ],
      "metadata": {
        "id": "R8mmOnISLHjj"
      },
      "execution_count": null,
      "outputs": []
    },
    {
      "cell_type": "markdown",
      "source": [
        "### (1) MNIST 데이터"
      ],
      "metadata": {
        "id": "PAxvOm_gSa7u"
      }
    },
    {
      "cell_type": "markdown",
      "source": [
        "* 데이터 압축풀기"
      ],
      "metadata": {
        "id": "1XFXrIG-K6LY"
      }
    },
    {
      "cell_type": "code",
      "source": [
        "!unzip /content/BizDataAnalysis/DATA/mnist.zip # /content 폴더에 풀림"
      ],
      "metadata": {
        "id": "SBdVfdXcx9Tj"
      },
      "execution_count": null,
      "outputs": []
    },
    {
      "cell_type": "code",
      "source": [
        "mnist = pd.read_table('/content/mnist.csv',header=None,sep=',')"
      ],
      "metadata": {
        "id": "eC5SMc9vK8gm"
      },
      "execution_count": null,
      "outputs": []
    },
    {
      "cell_type": "code",
      "source": [
        "mnist.head()"
      ],
      "metadata": {
        "id": "PtP9_H74LQrO"
      },
      "execution_count": null,
      "outputs": []
    },
    {
      "cell_type": "code",
      "source": [
        "mnist.shape"
      ],
      "metadata": {
        "id": "mZhGiy2oz-hw"
      },
      "execution_count": null,
      "outputs": []
    },
    {
      "cell_type": "markdown",
      "source": [
        "* 데이터 살펴보기"
      ],
      "metadata": {
        "id": "uoM-ZIuX0420"
      }
    },
    {
      "cell_type": "code",
      "source": [
        "X = mnist.iloc[:,1:]  # 28 x 29 픽셀 이미지\n",
        "y = mnist.iloc[:,[0]] # 해당 이미지가 나타내는 숫자"
      ],
      "metadata": {
        "id": "m0ibgFUg04GM"
      },
      "execution_count": null,
      "outputs": []
    },
    {
      "cell_type": "code",
      "source": [
        "X.head()"
      ],
      "metadata": {
        "id": "OS_vg42M1OQ6"
      },
      "execution_count": null,
      "outputs": []
    },
    {
      "cell_type": "code",
      "source": [
        "np.array(X.iloc[0]).reshape(28,28)"
      ],
      "metadata": {
        "id": "THvaGdhc5fHm"
      },
      "execution_count": null,
      "outputs": []
    },
    {
      "cell_type": "code",
      "source": [
        "plt.imshow(np.array(X.iloc[0]).reshape(28,28), cmap=plt.cm.gray_r, interpolation = \"nearest\")\n",
        "plt.grid()"
      ],
      "metadata": {
        "id": "VbDdJ6JX5Qhe"
      },
      "execution_count": null,
      "outputs": []
    },
    {
      "cell_type": "code",
      "source": [
        "y.head()"
      ],
      "metadata": {
        "id": "Zu8nuCmr1a5x"
      },
      "execution_count": null,
      "outputs": []
    },
    {
      "cell_type": "markdown",
      "source": [
        "* 데이터 분리 : 순서대로 학습 데이터 60,000개와 평가 데이터 10,000개 분리"
      ],
      "metadata": {
        "id": "soSty2pE9BUo"
      }
    },
    {
      "cell_type": "code",
      "source": [
        "from sklearn.model_selection import train_test_split\n",
        "X_train, X_test, y_train, y_test = train_test_split(X,y,train_size=60000,shuffle=False)"
      ],
      "metadata": {
        "id": "PxdjeZ3L1MWg"
      },
      "execution_count": null,
      "outputs": []
    },
    {
      "cell_type": "code",
      "source": [
        "X_train.shape"
      ],
      "metadata": {
        "id": "tjhYkMEiUPzF"
      },
      "execution_count": null,
      "outputs": []
    },
    {
      "cell_type": "code",
      "source": [
        "X_test.shape"
      ],
      "metadata": {
        "id": "0JPbHbeUUUp8"
      },
      "execution_count": null,
      "outputs": []
    },
    {
      "cell_type": "markdown",
      "source": [
        "* 데이터 전처리 : 이미지에서 나타나는 공통 여백 제거"
      ],
      "metadata": {
        "id": "6Y4x1qVoMJZw"
      }
    },
    {
      "cell_type": "code",
      "source": [
        "chk = X_train.apply(lambda x : (x==x[0]).all(),axis = 0)"
      ],
      "metadata": {
        "id": "xXFN2zRJ-3M4"
      },
      "execution_count": null,
      "outputs": []
    },
    {
      "cell_type": "code",
      "source": [
        "plt.imshow(np.array(chk.apply(lambda x : int(x))).reshape(28,28), cmap=plt.cm.gray_r, interpolation = \"nearest\")\n",
        "plt.grid()"
      ],
      "metadata": {
        "id": "SXc2Wqy2_zoT"
      },
      "execution_count": null,
      "outputs": []
    },
    {
      "cell_type": "code",
      "source": [
        "np.arange(784)[~chk]"
      ],
      "metadata": {
        "id": "ykLWbgEeC041"
      },
      "execution_count": null,
      "outputs": []
    },
    {
      "cell_type": "code",
      "source": [
        "X_train = X_train.iloc[:,np.arange(784)[~chk]]"
      ],
      "metadata": {
        "id": "NYPj_Jnv9VtE"
      },
      "execution_count": null,
      "outputs": []
    },
    {
      "cell_type": "code",
      "source": [
        "X_test = X_test.iloc[:,np.arange(784)[~chk]]"
      ],
      "metadata": {
        "id": "l4muWJ2rFxOH"
      },
      "execution_count": null,
      "outputs": []
    },
    {
      "cell_type": "markdown",
      "source": [
        "* 종속변수를 포함하고 있는 데이터프레임을 1차원 배열로 변환"
      ],
      "metadata": {
        "id": "Wq1u0K4vGa1v"
      }
    },
    {
      "cell_type": "code",
      "source": [
        "y_train = y_train.iloc[:,0]\n",
        "y_test = y_test.iloc[:,0]"
      ],
      "metadata": {
        "id": "CPaFc2PmGgEz"
      },
      "execution_count": null,
      "outputs": []
    },
    {
      "cell_type": "markdown",
      "source": [
        "---\n",
        "__로지스틱 회귀모형__"
      ],
      "metadata": {
        "id": "fdq0RIoNrdop"
      }
    },
    {
      "cell_type": "markdown",
      "source": [
        "* 로지스틱 회귀모형의 적합"
      ],
      "metadata": {
        "id": "Mg99UXPqh-Ll"
      }
    },
    {
      "cell_type": "code",
      "source": [
        "from sklearn.linear_model import LogisticRegression\n",
        "from sklearn.metrics import classification_report\n",
        "from sklearn.metrics import confusion_matrix"
      ],
      "metadata": {
        "id": "FGZLlXnotH-S"
      },
      "execution_count": null,
      "outputs": []
    },
    {
      "cell_type": "code",
      "source": [
        "LR = LogisticRegression(max_iter=10000,n_jobs=-1)\n",
        "LR.fit(X_train,y_train)"
      ],
      "metadata": {
        "id": "LgyJCSkocsM6"
      },
      "execution_count": null,
      "outputs": []
    },
    {
      "cell_type": "markdown",
      "source": [
        "* 로지스틱 회귀모형을 이용한 분류 결과 살펴보기"
      ],
      "metadata": {
        "id": "pzU8XqObiIjT"
      }
    },
    {
      "cell_type": "code",
      "source": [
        "LR.score(X_train,y_train)"
      ],
      "metadata": {
        "id": "ZbZ0abLLQ8zC"
      },
      "execution_count": null,
      "outputs": []
    },
    {
      "cell_type": "code",
      "source": [
        "LR.score(X_test,y_test)"
      ],
      "metadata": {
        "id": "tzCaKvTFRHQu"
      },
      "execution_count": null,
      "outputs": []
    },
    {
      "cell_type": "code",
      "source": [
        "y_pred = LR.predict(X_test)\n",
        "y_train_pred = LR.predict(X_train)"
      ],
      "metadata": {
        "id": "J8jq7MK4XCKe"
      },
      "execution_count": null,
      "outputs": []
    },
    {
      "cell_type": "code",
      "source": [
        "print(classification_report(y_train, y_train_pred))"
      ],
      "metadata": {
        "id": "RADJGQ1VRdri"
      },
      "execution_count": null,
      "outputs": []
    },
    {
      "cell_type": "code",
      "source": [
        "print(classification_report(y_test, y_pred))"
      ],
      "metadata": {
        "id": "01UKoslJZ5KK"
      },
      "execution_count": null,
      "outputs": []
    },
    {
      "cell_type": "code",
      "source": [
        "confusion_matrix(y_train, y_train_pred)"
      ],
      "metadata": {
        "id": "omSf_jeYQn6o"
      },
      "execution_count": null,
      "outputs": []
    },
    {
      "cell_type": "code",
      "source": [
        "confusion_matrix(y_test, y_pred)"
      ],
      "metadata": {
        "id": "JfnHDd8PQuha"
      },
      "execution_count": null,
      "outputs": []
    },
    {
      "cell_type": "markdown",
      "source": [
        "* 혼돈행렬 백분율로 나타내기"
      ],
      "metadata": {
        "id": "uDhj1CAjUiPb"
      }
    },
    {
      "cell_type": "code",
      "source": [
        "pd.crosstab(index=y_test,columns=y_pred,normalize='index')"
      ],
      "metadata": {
        "id": "2nCHrKaSUlVI"
      },
      "execution_count": null,
      "outputs": []
    },
    {
      "cell_type": "code",
      "source": [
        "pd.crosstab(index=y_train,columns=y_train_pred,normalize='index')"
      ],
      "metadata": {
        "id": "q4hUwEIwWmBO"
      },
      "execution_count": null,
      "outputs": []
    },
    {
      "cell_type": "markdown",
      "source": [
        "* 로지스틱 회귀모형에 의해 잘 못 인식된 최초 16개 사례"
      ],
      "metadata": {
        "id": "mHHW3G8BpgNK"
      }
    },
    {
      "cell_type": "code",
      "source": [],
      "metadata": {
        "id": "g1GPf3ocb3ku"
      },
      "execution_count": null,
      "outputs": []
    },
    {
      "cell_type": "markdown",
      "source": [
        "---\n",
        "__kNN 분류__"
      ],
      "metadata": {
        "id": "OOf1M6VL4fC-"
      }
    },
    {
      "cell_type": "markdown",
      "source": [
        "* kNN 분류"
      ],
      "metadata": {
        "id": "kc3HvFks4xs6"
      }
    },
    {
      "cell_type": "code",
      "source": [
        "from sklearn.neighbors import KNeighborsClassifier\n",
        "from sklearn.metrics import classification_report\n",
        "from sklearn.metrics import confusion_matrix"
      ],
      "metadata": {
        "id": "HbE9u6Mh4456"
      },
      "execution_count": null,
      "outputs": []
    },
    {
      "cell_type": "code",
      "source": [
        "KC = KNeighborsClassifier(n_neighbors=7,n_jobs=-1)\n",
        "KC.fit(X_train,y_train)"
      ],
      "metadata": {
        "id": "1ng-95wacda_"
      },
      "execution_count": null,
      "outputs": []
    },
    {
      "cell_type": "code",
      "source": [
        "KC.score(X_train,y_train)"
      ],
      "metadata": {
        "id": "91U93JQN6pLA"
      },
      "execution_count": null,
      "outputs": []
    },
    {
      "cell_type": "code",
      "source": [
        "KC.score(X_test,y_test)"
      ],
      "metadata": {
        "id": "kpf8aO6F6gd-"
      },
      "execution_count": null,
      "outputs": []
    },
    {
      "cell_type": "code",
      "source": [
        "y_pred = KC.predict(X_test)\n",
        "y_train_pred = KC.predict(X_train)"
      ],
      "metadata": {
        "id": "CcDcbfo0Yj7v"
      },
      "execution_count": null,
      "outputs": []
    },
    {
      "cell_type": "code",
      "source": [
        "print(classification_report(y_train, y_train_pred))"
      ],
      "metadata": {
        "id": "NaAeMbbRYwrc"
      },
      "execution_count": null,
      "outputs": []
    },
    {
      "cell_type": "code",
      "source": [
        "print(classification_report(y_test, y_pred))"
      ],
      "metadata": {
        "id": "8Vp_OfM7Ys_j"
      },
      "execution_count": null,
      "outputs": []
    },
    {
      "cell_type": "code",
      "source": [
        "confusion_matrix(y_train, y_train_pred)"
      ],
      "metadata": {
        "id": "RovBsGxhZGYq"
      },
      "execution_count": null,
      "outputs": []
    },
    {
      "cell_type": "code",
      "source": [
        "confusion_matrix(y_test, y_pred)"
      ],
      "metadata": {
        "id": "GekAGYZcZMGq"
      },
      "execution_count": null,
      "outputs": []
    },
    {
      "cell_type": "code",
      "source": [
        "pd.crosstab(index=y_train,columns=y_train_pred,normalize='index')"
      ],
      "metadata": {
        "id": "gmK_My_KZVCm"
      },
      "execution_count": null,
      "outputs": []
    },
    {
      "cell_type": "code",
      "source": [
        "pd.crosstab(index=y_test,columns=y_pred,normalize='index')"
      ],
      "metadata": {
        "id": "avYWpOFAZTKf"
      },
      "execution_count": null,
      "outputs": []
    },
    {
      "cell_type": "code",
      "source": [
        "niter = 20\n",
        "optVal = np.zeros((niter,3))\n",
        "for k in range(1, niter+1):\n",
        "    KC = KNeighborsClassifier(n_neighbors=k,weights='uniform',n_jobs=-1)\n",
        "    KC.fit(X_train, y_train)\n",
        "    optVal[k-1,0] = k\n",
        "    optVal[k-1,1] = KC.score(X_train, y_train)\n",
        "    optVal[k-1,2] = KC.score(X_test, y_test)\n",
        "\n",
        "plt.plot(optVal[:,0],optVal[:,1],color='navy',label='학습데이터')\n",
        "plt.plot(optVal[:,0],optVal[:,2],color='darkorange',label='평가데이터')\n",
        "plt.title('n_neighbors 값의 변화에 따른 적합결과 변화')\n",
        "plt.xlabel('n_neighbors')\n",
        "plt.ylabel('Accuracy Rate')\n",
        "plt.legend()\n",
        "plt.show()"
      ],
      "metadata": {
        "id": "547xC6ipo0bU"
      },
      "execution_count": null,
      "outputs": []
    },
    {
      "cell_type": "code",
      "source": [
        "optVal[optVal[:,2] == max(optVal[:,2]),]"
      ],
      "metadata": {
        "id": "ORqeZxMLpi8j"
      },
      "execution_count": null,
      "outputs": []
    },
    {
      "cell_type": "markdown",
      "source": [
        "* kNN 최적 모형"
      ],
      "metadata": {
        "id": "raMhXpw9_BHK"
      }
    },
    {
      "cell_type": "code",
      "source": [
        "KC = KNeighborsClassifier(n_neighbors=4,n_jobs=-1)\n",
        "KC.fit(X_train,y_train)"
      ],
      "metadata": {
        "id": "0s5Je8EX_EdA"
      },
      "execution_count": null,
      "outputs": []
    },
    {
      "cell_type": "code",
      "source": [
        "KC.score(X_train,y_train)"
      ],
      "metadata": {
        "id": "NoTbNkhn_LtX"
      },
      "execution_count": null,
      "outputs": []
    },
    {
      "cell_type": "code",
      "source": [
        "KC.score(X_test,y_test)"
      ],
      "metadata": {
        "id": "vocgqQ6E_PnA"
      },
      "execution_count": null,
      "outputs": []
    },
    {
      "cell_type": "code",
      "source": [
        "y_pred = KC.predict(X_test)\n",
        "y_train_pred = KC.predict(X_train)"
      ],
      "metadata": {
        "id": "5NM8--nQBrTF"
      },
      "execution_count": null,
      "outputs": []
    },
    {
      "cell_type": "code",
      "source": [
        "print(classification_report(y_train, y_train_pred))"
      ],
      "metadata": {
        "id": "P45rp9hTB0_a"
      },
      "execution_count": null,
      "outputs": []
    },
    {
      "cell_type": "code",
      "source": [
        "print(classification_report(y_test, y_pred))"
      ],
      "metadata": {
        "id": "y3ekeFxJD8H5"
      },
      "execution_count": null,
      "outputs": []
    },
    {
      "cell_type": "code",
      "source": [
        "confusion_matrix(y_train, y_train_pred)"
      ],
      "metadata": {
        "id": "pwIWsHaREACy"
      },
      "execution_count": null,
      "outputs": []
    },
    {
      "cell_type": "code",
      "source": [
        "confusion_matrix(y_test, y_pred)"
      ],
      "metadata": {
        "id": "jNCZbFgwEEvP"
      },
      "execution_count": null,
      "outputs": []
    },
    {
      "cell_type": "code",
      "source": [
        "pd.crosstab(index=y_train,columns=y_train_pred,normalize='index')"
      ],
      "metadata": {
        "id": "4ORnumIjEFgf"
      },
      "execution_count": null,
      "outputs": []
    },
    {
      "cell_type": "code",
      "source": [
        "pd.crosstab(index=y_test,columns=y_pred,normalize='index')"
      ],
      "metadata": {
        "id": "4QlZLbCCEHOn"
      },
      "execution_count": null,
      "outputs": []
    },
    {
      "cell_type": "code",
      "source": [
        "#@title 결과 출력\n",
        "y_pred = KC.predict(X_test)\n",
        "y_train_pred = KC.predict(X_train)\n",
        "print(classification_report(y_train, y_train_pred))\n",
        "print(classification_report(y_test, y_pred))\n",
        "confusion_matrix(y_train, y_train_pred)\n",
        "confusion_matrix(y_test, y_pred)\n",
        "pd.crosstab(index=y_train,columns=y_train_pred,normalize='index')\n",
        "pd.crosstab(index=y_test,columns=y_pred,normalize='index')"
      ],
      "metadata": {
        "id": "YPABQH0MB5Hy"
      },
      "execution_count": null,
      "outputs": []
    },
    {
      "cell_type": "markdown",
      "source": [
        "---\n",
        "__분류나무__"
      ],
      "metadata": {
        "id": "DIkOsVIb6VCD"
      }
    },
    {
      "cell_type": "markdown",
      "source": [
        "* 분류나무 사례"
      ],
      "metadata": {
        "id": "wquyXwE06iR_"
      }
    },
    {
      "cell_type": "code",
      "source": [
        "from sklearn.tree import DecisionTreeClassifier\n",
        "from sklearn import tree\n",
        "from sklearn.metrics import confusion_matrix"
      ],
      "metadata": {
        "id": "EuSwp__G63aq"
      },
      "execution_count": null,
      "outputs": []
    },
    {
      "cell_type": "code",
      "source": [
        "DC = DecisionTreeClassifier(random_state=3)\n",
        "DC.fit(X_train,y_train)"
      ],
      "metadata": {
        "id": "dy5ZnmyUg933"
      },
      "execution_count": null,
      "outputs": []
    },
    {
      "cell_type": "code",
      "source": [
        "DC.score(X_train,y_train)"
      ],
      "metadata": {
        "id": "DEI0jRVH7kOk"
      },
      "execution_count": null,
      "outputs": []
    },
    {
      "cell_type": "code",
      "source": [
        "DC.score(X_test,y_test)"
      ],
      "metadata": {
        "id": "EUcenJay7lQx"
      },
      "execution_count": null,
      "outputs": []
    },
    {
      "cell_type": "code",
      "source": [
        "y_pred = DC.predict(X_test)\n",
        "y_train_pred = DC.predict(X_train)"
      ],
      "metadata": {
        "id": "wHSmYioDEz1O"
      },
      "execution_count": null,
      "outputs": []
    },
    {
      "cell_type": "code",
      "source": [
        "print(classification_report(y_train, y_train_pred))"
      ],
      "metadata": {
        "id": "5EK6cJrpE-A7"
      },
      "execution_count": null,
      "outputs": []
    },
    {
      "cell_type": "code",
      "source": [
        "print(classification_report(y_test, y_pred))"
      ],
      "metadata": {
        "id": "dWp51qvAFAjz"
      },
      "execution_count": null,
      "outputs": []
    },
    {
      "cell_type": "code",
      "source": [
        "confusion_matrix(y_train, y_train_pred)"
      ],
      "metadata": {
        "id": "mb4LAPitFBR9"
      },
      "execution_count": null,
      "outputs": []
    },
    {
      "cell_type": "code",
      "source": [
        "confusion_matrix(y_test, y_pred)"
      ],
      "metadata": {
        "id": "4mdaVLSiFCD9"
      },
      "execution_count": null,
      "outputs": []
    },
    {
      "cell_type": "code",
      "source": [
        "pd.crosstab(index=y_train,columns=y_train_pred,normalize='index')"
      ],
      "metadata": {
        "id": "6BuhYhYwFC8Z"
      },
      "execution_count": null,
      "outputs": []
    },
    {
      "cell_type": "code",
      "source": [
        "pd.crosstab(index=y_test,columns=y_pred,normalize='index')"
      ],
      "metadata": {
        "id": "jGOrpNpJFDnX"
      },
      "execution_count": null,
      "outputs": []
    },
    {
      "cell_type": "code",
      "source": [
        "# @title max_depth 변화에 따른 회귀나무의 성능 비교\n",
        "niter = 50\n",
        "optVal = np.zeros((niter,3))\n",
        "for k in range(2, niter+2):\n",
        "    DC = DecisionTreeClassifier(max_depth=k,random_state=3)\n",
        "    DC.fit(X_train, y_train)\n",
        "    optVal[k-2,0] = k\n",
        "    optVal[k-2,1] = DC.score(X_train, y_train)\n",
        "    optVal[k-2,2] = DC.score(X_test, y_test)\n",
        "\n",
        "plt.plot(optVal[:,0],optVal[:,1],color='navy',label='학습데이터')\n",
        "plt.plot(optVal[:,0],optVal[:,2],color='darkorange',label='평가데이터')\n",
        "plt.title('max_depth 값의 변화에 따른 적합결과 변화')\n",
        "plt.xlabel('max_depth')\n",
        "plt.ylabel('Accuracy Rate')\n",
        "plt.legend()\n",
        "plt.show()"
      ],
      "metadata": {
        "id": "OeQDK_odYgAl"
      },
      "execution_count": null,
      "outputs": []
    },
    {
      "cell_type": "code",
      "source": [
        "optVal[optVal[:,2] == max(optVal[:,2]),]"
      ],
      "metadata": {
        "id": "YrSPrcGbeKzo"
      },
      "execution_count": null,
      "outputs": []
    },
    {
      "cell_type": "code",
      "source": [
        "#@title 최적 모형\n",
        "DC = DecisionTreeClassifier(max_depth=19,random_state=3)\n",
        "DC.fit(X_train,y_train)"
      ],
      "metadata": {
        "id": "0r2iGbCdOSHo"
      },
      "execution_count": null,
      "outputs": []
    },
    {
      "cell_type": "code",
      "source": [
        "DC.score(X_train,y_train)"
      ],
      "metadata": {
        "id": "asQ16SAdXI4g"
      },
      "execution_count": null,
      "outputs": []
    },
    {
      "cell_type": "code",
      "source": [
        "DC.score(X_test,y_test)"
      ],
      "metadata": {
        "id": "bStSSpRjXLr_"
      },
      "execution_count": null,
      "outputs": []
    },
    {
      "cell_type": "code",
      "source": [
        "y_pred = KC.predict(X_test)\n",
        "y_train_pred = KC.predict(X_train)"
      ],
      "metadata": {
        "id": "PPq8IArOW_YQ"
      },
      "execution_count": null,
      "outputs": []
    },
    {
      "cell_type": "code",
      "source": [
        "print(\"## 학습 데이터에 대한 분류 정확도\")\n",
        "print(classification_report(y_train, y_train_pred))\n",
        "print(\"## 평가 데이터에 대한 분류 정확도\")\n",
        "print(classification_report(y_test, y_pred))\n",
        "print(\"## 학습 데이터에 대한 혼돈행렬\")\n",
        "print(confusion_matrix(y_train, y_train_pred))\n",
        "print(\"## 학습 데이터에 대한 혼돈행렬\")\n",
        "print(confusion_matrix(y_test, y_pred))"
      ],
      "metadata": {
        "id": "uSSdOovEXUeT"
      },
      "execution_count": null,
      "outputs": []
    },
    {
      "cell_type": "code",
      "source": [
        "pd.crosstab(index=y_train,columns=y_train_pred,normalize='index')"
      ],
      "metadata": {
        "id": "GZENVW5cXYkW"
      },
      "execution_count": null,
      "outputs": []
    },
    {
      "cell_type": "code",
      "source": [
        "pd.crosstab(index=y_test,columns=y_pred,normalize='index')"
      ],
      "metadata": {
        "id": "R3sV57MjXaIC"
      },
      "execution_count": null,
      "outputs": []
    },
    {
      "cell_type": "code",
      "source": [
        "# @title min_samples_split 변화에 따른 회귀나무의 성능 비교\n",
        "niter = 50\n",
        "optVal = np.zeros((niter,3))\n",
        "for k in range(2, niter+2):\n",
        "    DC = DecisionTreeClassifier(min_samples_split=k,random_state=3)\n",
        "    DC.fit(X_train, y_train)\n",
        "    optVal[k-2,0] = k\n",
        "    optVal[k-2,1] = DC.score(X_train, y_train)\n",
        "    optVal[k-2,2] = DC.score(X_test, y_test)\n",
        "\n",
        "plt.plot(optVal[:,0],optVal[:,1],color='navy',label='학습데이터')\n",
        "plt.plot(optVal[:,0],optVal[:,2],color='darkorange',label='평가데이터')\n",
        "plt.title('min_samples_split 값의 변화에 따른 적합결과 변화')\n",
        "plt.xlabel('min_samples_split')\n",
        "plt.ylabel('Accuracy Rate')\n",
        "plt.legend()\n",
        "plt.show()"
      ],
      "metadata": {
        "id": "Zc9C1L2fOSKl"
      },
      "execution_count": null,
      "outputs": []
    },
    {
      "cell_type": "code",
      "source": [
        " optVal[optVal[:,2] == max(optVal[:,2]),]"
      ],
      "metadata": {
        "id": "BIduc2c3I7-o"
      },
      "execution_count": null,
      "outputs": []
    },
    {
      "cell_type": "code",
      "source": [
        "#@title 최적 모형\n",
        "DC = DecisionTreeClassifier(min_samples_split=8,random_state=3)\n",
        "DC.fit(X_train,y_train)"
      ],
      "metadata": {
        "id": "rfemCEIjXoZJ"
      },
      "execution_count": null,
      "outputs": []
    },
    {
      "cell_type": "code",
      "source": [
        "DC.score(X_train,y_train)"
      ],
      "metadata": {
        "id": "BeP82rSiYKnj"
      },
      "execution_count": null,
      "outputs": []
    },
    {
      "cell_type": "code",
      "source": [
        "DC.score(X_test,y_test)"
      ],
      "metadata": {
        "id": "6xQyiLv9YJ1U"
      },
      "execution_count": null,
      "outputs": []
    },
    {
      "cell_type": "code",
      "source": [
        "y_pred = DC.predict(X_test)\n",
        "y_train_pred = DC.predict(X_train)\n",
        "print(\"## 학습 데이터에 대한 분류 정확도\")\n",
        "print(classification_report(y_train, y_train_pred))\n",
        "print(\"## 평가 데이터에 대한 분류 정확도\")\n",
        "print(classification_report(y_test, y_pred))\n",
        "print(\"## 학습 데이터에 대한 혼돈행렬\")\n",
        "print(confusion_matrix(y_train, y_train_pred))\n",
        "print(\"## 평가 데이터에 대한 혼돈행렬\")\n",
        "print(confusion_matrix(y_test, y_pred))"
      ],
      "metadata": {
        "id": "tam3dK4bYJe5"
      },
      "execution_count": null,
      "outputs": []
    },
    {
      "cell_type": "code",
      "source": [
        "pd.crosstab(index=y_train,columns=y_train_pred,normalize='index')"
      ],
      "metadata": {
        "id": "2RQDZ44FYecI"
      },
      "execution_count": null,
      "outputs": []
    },
    {
      "cell_type": "code",
      "source": [
        "pd.crosstab(index=y_test,columns=y_pred,normalize='index')"
      ],
      "metadata": {
        "id": "Jm6Ot7WNYhlu"
      },
      "execution_count": null,
      "outputs": []
    },
    {
      "cell_type": "code",
      "source": [
        "# @title min_samples_leaf 변화에 따른 회귀나무의 성능 비교\n",
        "niter = 50\n",
        "optVal = np.zeros((niter,3))\n",
        "for k in range(2, niter+2):\n",
        "    DC = DecisionTreeClassifier(min_samples_leaf=k,random_state=3)\n",
        "    DC.fit(X_train, y_train)\n",
        "    optVal[k-2,0] = k\n",
        "    optVal[k-2,1] = DC.score(X_train, y_train)\n",
        "    optVal[k-2,2] = DC.score(X_test, y_test)\n",
        "\n",
        "plt.plot(optVal[:,0],optVal[:,1],color='navy',label='학습데이터')\n",
        "plt.plot(optVal[:,0],optVal[:,2],color='darkorange',label='평가데이터')\n",
        "plt.title('min_samples_leaf 값의 변화에 따른 적합결과 변화')\n",
        "plt.xlabel('min_samples_leaf')\n",
        "plt.ylabel('Accuracy Rate')\n",
        "plt.legend()\n",
        "plt.show()"
      ],
      "metadata": {
        "id": "UVqjnjN0JFVQ"
      },
      "execution_count": null,
      "outputs": []
    },
    {
      "cell_type": "code",
      "source": [
        "optVal[optVal[:,2] == max(optVal[:,2]),]"
      ],
      "metadata": {
        "id": "XhTIspzZJcgl"
      },
      "execution_count": null,
      "outputs": []
    },
    {
      "cell_type": "code",
      "source": [
        "#@title 최적 모형\n",
        "DC = DecisionTreeClassifier(min_samples_leaf=4,random_state=3)\n",
        "DC.fit(X_train,y_train)"
      ],
      "metadata": {
        "id": "-ZRiikv0YzYA"
      },
      "execution_count": null,
      "outputs": []
    },
    {
      "cell_type": "code",
      "source": [
        "DC.score(X_train,y_train)"
      ],
      "metadata": {
        "id": "kJGVscxDYyyq"
      },
      "execution_count": null,
      "outputs": []
    },
    {
      "cell_type": "code",
      "source": [
        "DC.score(X_test,y_test)"
      ],
      "metadata": {
        "id": "YmRuRnBXY8Gt"
      },
      "execution_count": null,
      "outputs": []
    },
    {
      "cell_type": "code",
      "source": [
        "y_pred = DC.predict(X_test)\n",
        "y_train_pred = DC.predict(X_train)\n",
        "print(\"## 학습 데이터에 대한 분류 정확도\")\n",
        "print(classification_report(y_train, y_train_pred))\n",
        "print(\"## 평가 데이터에 대한 분류 정확도\")\n",
        "print(classification_report(y_test, y_pred))\n",
        "print(\"## 학습 데이터에 대한 혼돈행렬\")\n",
        "print(confusion_matrix(y_train, y_train_pred))\n",
        "print(\"## 학습 데이터에 대한 혼돈행렬\")\n",
        "print(confusion_matrix(y_test, y_pred))"
      ],
      "metadata": {
        "id": "ghNGY1suY-n8"
      },
      "execution_count": null,
      "outputs": []
    },
    {
      "cell_type": "code",
      "source": [
        "pd.crosstab(index=y_train,columns=y_train_pred,normalize='index')"
      ],
      "metadata": {
        "id": "weUi0LPBZB1w"
      },
      "execution_count": null,
      "outputs": []
    },
    {
      "cell_type": "code",
      "source": [
        "pd.crosstab(index=y_test,columns=y_pred,normalize='index')"
      ],
      "metadata": {
        "id": "LiquQBTpZFUn"
      },
      "execution_count": null,
      "outputs": []
    },
    {
      "cell_type": "markdown",
      "source": [
        "* 분류 나무 기반의 앙상블 모형"
      ],
      "metadata": {
        "id": "y4818aJ3J1e-"
      }
    },
    {
      "cell_type": "code",
      "source": [],
      "metadata": {
        "id": "EZadNVcRZbre"
      },
      "execution_count": null,
      "outputs": []
    },
    {
      "cell_type": "code",
      "source": [
        "#@title Bagging based Classification Tree\n",
        "# 기본모형\n",
        "DC = DecisionTreeClassifier(random_state=3)\n",
        "from sklearn.ensemble import BaggingClassifier\n",
        "BC = BaggingClassifier(\n",
        "            estimator = DC, #\n",
        "            n_estimators=500, # 붓스트랩 표본추출 횟수\n",
        "            max_samples=1, # 붓스트랩 표본추출 비율\n",
        "            bootstrap=True, # 복원 추출 (기본값)\n",
        "            oob_score=True, # Out-of-bag 데이터를 이용한 성능 계산\n",
        "            random_state=3\n",
        "        )\n",
        "BC.fit(X_train,y_train)"
      ],
      "metadata": {
        "id": "1pNCc7Mjs9Jt"
      },
      "execution_count": null,
      "outputs": []
    },
    {
      "cell_type": "code",
      "source": [
        "BC.score(X_train,y_train)"
      ],
      "metadata": {
        "id": "vFC5Qt7AeJlO"
      },
      "execution_count": null,
      "outputs": []
    },
    {
      "cell_type": "code",
      "source": [
        "BC.score(X_test,y_test)"
      ],
      "metadata": {
        "id": "0I976dUNeMhq"
      },
      "execution_count": null,
      "outputs": []
    },
    {
      "cell_type": "code",
      "source": [
        "y_pred = BC.predict(X_test)\n",
        "y_train_pred = BC.predict(X_train)"
      ],
      "metadata": {
        "id": "SI9w8AxxrXjW"
      },
      "execution_count": null,
      "outputs": []
    },
    {
      "cell_type": "code",
      "source": [
        "pd.crosstab(index=y_test,columns=y_pred,normalize='index')"
      ],
      "metadata": {
        "id": "4uvtbZLRgGNF"
      },
      "execution_count": null,
      "outputs": []
    },
    {
      "cell_type": "code",
      "source": [
        "#@title Random Forest\n",
        "from sklearn.ensemble import RandomForestClassifier  # 랜덤 포레스트\n",
        "RFC = RandomForestClassifier(\n",
        "        n_estimators= 1000, # 붓스트렙 표본추출 횟수\n",
        "        criterion = 'gini',\n",
        "#        max_depth = 5,\n",
        "#        min_samples_split = 20,\n",
        "#        min_samples_leaf = 5,\n",
        "        random_state=3)\n",
        "RFC.fit(X_train,y_train)"
      ],
      "metadata": {
        "id": "d5spn_a1e-Td"
      },
      "execution_count": null,
      "outputs": []
    },
    {
      "cell_type": "code",
      "source": [
        "RFC.score(X_train,y_train)"
      ],
      "metadata": {
        "id": "Zbg-Ku-EnOFj"
      },
      "execution_count": null,
      "outputs": []
    },
    {
      "cell_type": "code",
      "source": [
        "RFC.score(X_test,y_test)"
      ],
      "metadata": {
        "id": "Sajg2FgfnSft"
      },
      "execution_count": null,
      "outputs": []
    },
    {
      "cell_type": "code",
      "source": [
        "y_pred = RFC.predict(X_test)\n",
        "y_train_pred = RFC.predict(X_train)"
      ],
      "metadata": {
        "id": "MguwJEbOriHg"
      },
      "execution_count": null,
      "outputs": []
    },
    {
      "cell_type": "code",
      "source": [
        "pd.crosstab(index=y_test,columns=y_pred,normalize='index')"
      ],
      "metadata": {
        "id": "hc97wzImoVRf"
      },
      "execution_count": null,
      "outputs": []
    },
    {
      "cell_type": "code",
      "source": [
        "from xgboost import XGBClassifier # 종속변수가 숫자로 입력"
      ],
      "metadata": {
        "id": "l0R6C7-WTsIP"
      },
      "execution_count": null,
      "outputs": []
    },
    {
      "cell_type": "code",
      "source": [
        "#@title Gradient Boosting\n",
        "GB = XGBClassifier(random_state=3,\n",
        "                      eval_metric='logloss', # 기준이 되는 손실함수\n",
        "                      booster = 'gbtree', # 부스팅 알고리즘 (또는 dart, gblinear)\n",
        "                      objective = 'binary:logistic',\n",
        "                      max_depth = 2, # 나무의 최대깊이\n",
        "                      learning_rate = 0.1, # 학습률(최대 값 1) (강의노트 84쪽 lambda값)\n",
        "                      n_estimators = 500, #  부스팅 라운딩 횟수(강의노트 84쪽 B값)\n",
        "                      subsample = 1, # 붓스트랩 표본추출 비율\n",
        "                      colsample_bytree = 1 # 독립변수의 추출 비율\n",
        ")\n",
        "GB.fit(X_train,y_train)"
      ],
      "metadata": {
        "id": "WNnDo-XbzQCW"
      },
      "execution_count": null,
      "outputs": []
    },
    {
      "cell_type": "code",
      "source": [
        "GB.score(X_train,y_train)"
      ],
      "metadata": {
        "id": "l-mzNi_bd0c4"
      },
      "execution_count": null,
      "outputs": []
    },
    {
      "cell_type": "code",
      "source": [
        "GB.score(X_test,y_test)"
      ],
      "metadata": {
        "id": "C7YW0QOXd7gH"
      },
      "execution_count": null,
      "outputs": []
    },
    {
      "cell_type": "code",
      "source": [
        "y_pred = GB.predict(X_test)\n",
        "y_train_pred = GB.predict(X_train)"
      ],
      "metadata": {
        "id": "PQdE1JvGtrJC"
      },
      "execution_count": null,
      "outputs": []
    },
    {
      "cell_type": "code",
      "source": [
        "pd.crosstab(index=y_test,columns=y_pred,normalize='index')"
      ],
      "metadata": {
        "id": "cN6iCwsvttoD"
      },
      "execution_count": null,
      "outputs": []
    },
    {
      "cell_type": "markdown",
      "source": [
        "---\n",
        "* 부스팅 라운드 횟수에 따른 성능 비교\n",
        "---"
      ],
      "metadata": {
        "id": "FFFaE3qeBy2V"
      }
    },
    {
      "cell_type": "code",
      "source": [
        "# @title GBM에서 부스팅 라운드 횟수 변화에 따른 분류 정확도\n",
        "niter = 15\n",
        "optVal = np.zeros((niter,3))\n",
        "for k in range(1, niter+1):\n",
        "    GB = XGBClassifier(random_state=3,\n",
        "                      eval_metric='logloss', # 기준이 되는 손실함수\n",
        "                      booster = 'gbtree', # 부스팅 알고리즘 (또는 dart, gblinear)\n",
        "                      objective = 'binary:logistic',\n",
        "                      max_depth = 2, # 나무의 최대깊이\n",
        "                      learning_rate = 0.1, # 학습률(최대 값 1) (강의노트 84쪽 lambda값)\n",
        "                      n_estimators = 100*k, #  부스팅 라운딩 횟수(강의노트 84쪽 B값)\n",
        "                      subsample = 1, # 붓스트랩 표본추출 비율\n",
        "                      colsample_bytree = 1 # 독립변수의 추출 비율\n",
        "    )\n",
        "    GB.fit(X_train, y_train)\n",
        "    optVal[k-1,0] = 100*k\n",
        "    optVal[k-1,1] = GB.score(X_train, y_train)\n",
        "    optVal[k-1,2] = GB.score(X_test, y_test)\n",
        "\n",
        "plt.plot(optVal[:,0],optVal[:,1],color='navy',label='학습데이터')\n",
        "plt.plot(optVal[:,0],optVal[:,2],color='darkorange',label='평가데이터')\n",
        "plt.title('부스팅 라운드 횟수에 따른 분류 정확도의 변화')\n",
        "plt.xlabel('Number of boostin rounds')\n",
        "plt.ylabel('Accuracy Rate')\n",
        "plt.legend()\n",
        "plt.show()"
      ],
      "metadata": {
        "id": "W28uIBJKB4Nk"
      },
      "execution_count": null,
      "outputs": []
    }
  ]
}