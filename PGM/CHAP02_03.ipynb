{
  "nbformat": 4,
  "nbformat_minor": 0,
  "metadata": {
    "colab": {
      "provenance": []
    },
    "kernelspec": {
      "name": "python3",
      "display_name": "Python 3"
    },
    "language_info": {
      "name": "python"
    }
  },
  "cells": [
    {
      "cell_type": "markdown",
      "source": [
        "# 제2장 데이터 요약과 시각화 (3)\n",
        "### __기술통계분석__\n"
      ],
      "metadata": {
        "id": "l8zrsFUpMU1C"
      }
    },
    {
      "cell_type": "markdown",
      "source": [
        "---\n",
        "### 사전 작업\n",
        "\n",
        "\n",
        "\n"
      ],
      "metadata": {
        "id": "CGCu_Pp0cESo"
      }
    },
    {
      "cell_type": "markdown",
      "source": [
        "* 실습에 사용할 데이터를 GitHub 저장소로부터 가져오기 위하여 다음과 같은 명령을 코랩 코드 셀에서 실행"
      ],
      "metadata": {
        "id": "pc_sP2Tz1ztY"
      }
    },
    {
      "cell_type": "code",
      "source": [
        "!git clone https://github.com/BizStat/BizDataAnalysis.git"
      ],
      "metadata": {
        "id": "l6zSIYKN74nY"
      },
      "execution_count": null,
      "outputs": []
    },
    {
      "cell_type": "markdown",
      "source": [
        "* 한글 폰트 설치와 matplotlib 환경 설정"
      ],
      "metadata": {
        "id": "r52FkNAs13gJ"
      }
    },
    {
      "cell_type": "code",
      "source": [
        "!sudo apt-get install -y fonts-nanum\n",
        "!sudo fc-cache -f -v\n",
        "!rm ~/.cache/matplotlib -rf"
      ],
      "metadata": {
        "id": "f7Kxphw17991"
      },
      "execution_count": null,
      "outputs": []
    },
    {
      "cell_type": "markdown",
      "source": [
        "* 한글 그래프 환경 적용을 위해 세션 다시 시작\n",
        "  - 위의 메뉴에서 [런타임] -> [세션 다시 시작] 을 선택하거나 [Control] + M 을 누르면 됨"
      ],
      "metadata": {
        "id": "PPtk1DO6IloU"
      }
    },
    {
      "cell_type": "markdown",
      "source": [
        "* 설치된 한글 폰트 목록 확인"
      ],
      "metadata": {
        "id": "aj4_ER_fsJg0"
      }
    },
    {
      "cell_type": "code",
      "source": [
        "!fc-list :lang=ko"
      ],
      "metadata": {
        "id": "R_F27hXn2urn"
      },
      "execution_count": null,
      "outputs": []
    },
    {
      "cell_type": "markdown",
      "source": [
        "* matplotlib에 사용할 한글 폰트 설정\n",
        "  - 앞의 한글 폰트 목록으로부터 자신이 사용하고자 하는 폰트이름을 복사하여 지정"
      ],
      "metadata": {
        "id": "1w-9ilG7rUQH"
      }
    },
    {
      "cell_type": "code",
      "source": [
        "from matplotlib import rc\n",
        "rc('font', family='NanumMyeongjo')"
      ],
      "metadata": {
        "id": "T5UHjIvW7SD-"
      },
      "execution_count": null,
      "outputs": []
    },
    {
      "cell_type": "markdown",
      "source": [
        "* 자주 사용하는 라이브러리 가져오기"
      ],
      "metadata": {
        "id": "I9JnkdBLH6fJ"
      }
    },
    {
      "cell_type": "code",
      "source": [
        "import pandas as pd"
      ],
      "metadata": {
        "id": "XC5FbOzPH5zR"
      },
      "execution_count": null,
      "outputs": []
    },
    {
      "cell_type": "markdown",
      "source": [
        "---"
      ],
      "metadata": {
        "id": "ThRDHJ0scLf0"
      }
    },
    {
      "cell_type": "markdown",
      "source": [
        "### 분석 사례 : 강우량"
      ],
      "metadata": {
        "id": "taDpzwvg2Cpn"
      }
    },
    {
      "cell_type": "code",
      "source": [
        "df3 = pd.read_csv('/content/BizDataAnalysis/DATA/서울지역_일일_최대강수량.csv')"
      ],
      "metadata": {
        "id": "T10NiuVs2Gm0"
      },
      "execution_count": null,
      "outputs": []
    },
    {
      "cell_type": "code",
      "source": [
        "df3.head()"
      ],
      "metadata": {
        "id": "ah6Zm6O-2XK3"
      },
      "execution_count": null,
      "outputs": []
    },
    {
      "source": [
        "# @title 일 최다 강수량(mm)\n",
        "\n",
        "from matplotlib import pyplot as plt\n",
        "df3['일 최다 강수량(mm)'].plot(kind='hist', bins=20, title='일 최다 강수량(mm)')\n",
        "plt.gca().spines[['top', 'right',]].set_visible(False)"
      ],
      "cell_type": "code",
      "execution_count": null,
      "outputs": [],
      "metadata": {
        "id": "HZ9jzCi81g_u"
      }
    },
    {
      "source": [
        "# @title 일시 vs 일 최다 강수량(mm)\n",
        "\n",
        "from matplotlib import pyplot as plt\n",
        "import seaborn as sns\n",
        "def _plot_series(series, series_name, series_index=0):\n",
        "  palette = list(sns.palettes.mpl_palette('Dark2'))\n",
        "  xs = series['일시']\n",
        "  ys = series['일 최다 강수량(mm)']\n",
        "\n",
        "  plt.plot(xs, ys, label=series_name, color=palette[series_index % len(palette)])\n",
        "\n",
        "fig, ax = plt.subplots(figsize=(10, 5.2), layout='constrained')\n",
        "df_sorted = df3.sort_values('일시', ascending=True)\n",
        "_plot_series(df_sorted, '')\n",
        "sns.despine(fig=fig, ax=ax)\n",
        "plt.xlabel('일시')\n",
        "_ = plt.ylabel('일 최다 강수량(mm)')"
      ],
      "cell_type": "code",
      "execution_count": null,
      "outputs": [],
      "metadata": {
        "id": "FB-hUqPdI7yB"
      }
    },
    {
      "cell_type": "code",
      "source": [
        "df3.일시.min()"
      ],
      "metadata": {
        "id": "e-eTJJn2V_7d"
      },
      "execution_count": null,
      "outputs": []
    },
    {
      "cell_type": "code",
      "source": [
        "df3['일시'].max()"
      ],
      "metadata": {
        "id": "rcn4ol-zWGXQ"
      },
      "execution_count": null,
      "outputs": []
    },
    {
      "cell_type": "code",
      "source": [
        "df3[df3['일 최다 강수량(mm)'] > 300].일시"
      ],
      "metadata": {
        "id": "Jjfz5D12VIBI"
      },
      "execution_count": null,
      "outputs": []
    },
    {
      "cell_type": "code",
      "source": [
        "df3[df3['일 최다 강수량(mm)'] > 350].일시"
      ],
      "metadata": {
        "id": "Lj95bCveV6Z3"
      },
      "execution_count": null,
      "outputs": []
    },
    {
      "cell_type": "markdown",
      "source": [
        "### 서울시의 대기오염 데이터 분석"
      ],
      "metadata": {
        "id": "SF2kcIzcaZPu"
      }
    },
    {
      "cell_type": "markdown",
      "source": [
        "* 데이터 가져오기"
      ],
      "metadata": {
        "id": "-PXhV58iaeYt"
      }
    },
    {
      "cell_type": "code",
      "source": [
        "seoul_air = pd.read_csv('/content/BizDataAnalysis/DATA/AIR_HOUR_2022.csv')\n",
        "seoul_air.head()"
      ],
      "metadata": {
        "id": "ZK6rnGRKag4t"
      },
      "execution_count": null,
      "outputs": []
    },
    {
      "cell_type": "markdown",
      "source": [
        "* 숫자로 저장된 측정일시를 파이썬의 datetime 객체로 변환"
      ],
      "metadata": {
        "id": "tmvGKYd-dJpF"
      }
    },
    {
      "cell_type": "code",
      "source": [
        "seoul_air['측정일시']"
      ],
      "metadata": {
        "id": "oajNHYpYgjqS"
      },
      "execution_count": null,
      "outputs": []
    },
    {
      "cell_type": "code",
      "source": [
        "seoul_air['측정일시'] = seoul_air['측정일시'].astype('str')"
      ],
      "metadata": {
        "id": "yLL0PMcqeVyE"
      },
      "execution_count": null,
      "outputs": []
    },
    {
      "cell_type": "code",
      "source": [
        "seoul_air.head()"
      ],
      "metadata": {
        "id": "DdtSRLewhltD"
      },
      "execution_count": null,
      "outputs": []
    },
    {
      "cell_type": "code",
      "source": [
        "import datetime as dt"
      ],
      "metadata": {
        "id": "8eaIZ3gb7Z9d"
      },
      "execution_count": null,
      "outputs": []
    },
    {
      "cell_type": "markdown",
      "source": [
        "* apply 함수를 사용하지 않고 반복문을 사용하여 변환"
      ],
      "metadata": {
        "id": "s7Wcq9_O6x8d"
      }
    },
    {
      "cell_type": "code",
      "source": [
        "for i in seoul_air.index:\n",
        "  seoul_air['측정일시'][i] = dt.datetime.strptime(seoul_air['측정일시'][i],'%Y%m%d%H')"
      ],
      "metadata": {
        "id": "9ekeGakG623H"
      },
      "execution_count": null,
      "outputs": []
    },
    {
      "cell_type": "code",
      "source": [
        "seoul_air.head()"
      ],
      "metadata": {
        "id": "L0NzWl-47wV2"
      },
      "execution_count": null,
      "outputs": []
    },
    {
      "cell_type": "markdown",
      "source": [
        "* apply 함수를 사용"
      ],
      "metadata": {
        "id": "8cOWQHjJ63p9"
      }
    },
    {
      "cell_type": "code",
      "source": [
        "seoul_air['측정일시'] = seoul_air['측정일시'].apply(lambda _ : dt.datetime.strptime(_,'%Y%m%d%H'))"
      ],
      "metadata": {
        "id": "-U2_FknjdTOi"
      },
      "execution_count": null,
      "outputs": []
    },
    {
      "cell_type": "code",
      "source": [
        "seoul_air.head()"
      ],
      "metadata": {
        "id": "t-IAkeH3kg2Z"
      },
      "execution_count": null,
      "outputs": []
    },
    {
      "cell_type": "markdown",
      "source": [
        "* 측정소 정보와 측정항목 정보를 가져오기"
      ],
      "metadata": {
        "id": "W5PQIRP5pvBu"
      }
    },
    {
      "cell_type": "code",
      "source": [
        "측정소정보 = pd.read_csv('/content/BizDataAnalysis/DATA/서울시 대기오염 측정소 정보.csv',encoding='EUC-KR')\n",
        "측정항목정보 = pd.read_csv('/content/BizDataAnalysis/DATA/서울시 대기오염 측정항목 정보.csv',encoding='EUC-KR')"
      ],
      "metadata": {
        "id": "l-sydsEdpziP"
      },
      "execution_count": null,
      "outputs": []
    },
    {
      "cell_type": "code",
      "source": [
        "측정소정보 = 측정소정보[['측정소 코드','측정소 이름']]"
      ],
      "metadata": {
        "id": "nPF2JZr6rtQQ"
      },
      "execution_count": null,
      "outputs": []
    },
    {
      "cell_type": "code",
      "source": [
        "측정소정보.head()"
      ],
      "metadata": {
        "id": "RdfS82x5qGX0"
      },
      "execution_count": null,
      "outputs": []
    },
    {
      "cell_type": "code",
      "source": [
        "측정항목정보 = 측정항목정보[['측정항목 코드','측정항목 명(줄임 명칭)']]"
      ],
      "metadata": {
        "id": "C-b3A4oAs7QE"
      },
      "execution_count": null,
      "outputs": []
    },
    {
      "cell_type": "code",
      "source": [
        "측정항목정보.head()"
      ],
      "metadata": {
        "id": "XwvI_4FvqUmi"
      },
      "execution_count": null,
      "outputs": []
    },
    {
      "cell_type": "markdown",
      "source": [
        "* 데이터 결합"
      ],
      "metadata": {
        "id": "dUsm8-E3ukb5"
      }
    },
    {
      "cell_type": "code",
      "source": [
        "seoul_air = pd.merge(seoul_air,측정소정보,how='left',on='측정소 코드')\n",
        "seoul_air = pd.merge(seoul_air,측정항목정보,how='left',left_on='측정항목', right_on='측정항목 코드')"
      ],
      "metadata": {
        "id": "dyqjs6kwun29"
      },
      "execution_count": null,
      "outputs": []
    },
    {
      "cell_type": "code",
      "source": [
        "seoul_air.head()"
      ],
      "metadata": {
        "id": "_P0dPNOovV8k"
      },
      "execution_count": null,
      "outputs": []
    },
    {
      "cell_type": "markdown",
      "source": [
        "^ 서대문구의 요일별 미세먼지(PM10)의 오염도 분석"
      ],
      "metadata": {
        "id": "IbLxxZ-b0IbZ"
      }
    },
    {
      "cell_type": "code",
      "source": [
        "sa1 = seoul_air[(seoul_air['측정소 이름'] == '서대문구') & (seoul_air['측정항목 명(줄임 명칭)'] == 'PM10')]\n",
        "sa1['요일'] = sa1['측정일시'].dt.day_name()"
      ],
      "metadata": {
        "id": "OswjAbyn0N-x"
      },
      "execution_count": null,
      "outputs": []
    },
    {
      "cell_type": "code",
      "source": [
        "sa1.head()"
      ],
      "metadata": {
        "id": "XfJYhQ580zi4"
      },
      "execution_count": null,
      "outputs": []
    },
    {
      "cell_type": "code",
      "source": [
        "sa1.groupby(['요일'], as_index=False)['평균값'].mean()"
      ],
      "metadata": {
        "id": "phgubAc34uXR"
      },
      "execution_count": null,
      "outputs": []
    },
    {
      "cell_type": "markdown",
      "source": [
        "* 데이터프레임의 groupby 메소드"
      ],
      "metadata": {
        "id": "rn2VmiEGInzE"
      }
    },
    {
      "cell_type": "code",
      "source": [
        "sa1.groupby(['요일'], as_index=False).size()"
      ],
      "metadata": {
        "id": "hdbDG8yAYYWC"
      },
      "execution_count": null,
      "outputs": []
    },
    {
      "cell_type": "code",
      "source": [
        "sa1.groupby(['요일']).size()"
      ],
      "metadata": {
        "id": "3n_p9Vj4eWOw"
      },
      "execution_count": null,
      "outputs": []
    },
    {
      "cell_type": "code",
      "source": [
        "sa1.groupby(['요일']).count()"
      ],
      "metadata": {
        "id": "gpGklMucdG4N"
      },
      "execution_count": null,
      "outputs": []
    },
    {
      "cell_type": "code",
      "source": [
        "sa1.groupby('요일').mean()"
      ],
      "metadata": {
        "id": "POWcK7pEfJK8"
      },
      "execution_count": null,
      "outputs": []
    },
    {
      "cell_type": "code",
      "source": [
        "sa1.groupby('요일', as_index=False)['평균값'].mean()"
      ],
      "metadata": {
        "id": "2XwFFnkpLeRm"
      },
      "execution_count": null,
      "outputs": []
    },
    {
      "cell_type": "code",
      "source": [
        "sa1.groupby('요일')[['평균값']].mean()"
      ],
      "metadata": {
        "id": "tC5iFqeEInJu"
      },
      "execution_count": null,
      "outputs": []
    },
    {
      "cell_type": "code",
      "source": [
        "sa1.groupby('요일')[['평균값']].mean().round(2)"
      ],
      "metadata": {
        "id": "j9kzGYljhe1h"
      },
      "execution_count": null,
      "outputs": []
    },
    {
      "cell_type": "code",
      "source": [
        "sa1.groupby('요일')['평균값'].agg(['count','mean','median','std','min','max'])"
      ],
      "metadata": {
        "id": "LE_Lb9ftVKgD"
      },
      "execution_count": null,
      "outputs": []
    },
    {
      "cell_type": "code",
      "source": [
        "sa1.groupby('요일').agg({'국가 기준초과 구분':'count', '지자체 기준초과 구분' : 'sum', '평균값' : ['mean','min','max']})"
      ],
      "metadata": {
        "id": "9XXahTnEgVna"
      },
      "execution_count": null,
      "outputs": []
    },
    {
      "cell_type": "markdown",
      "source": [
        "* 특이값과 결측값 처리"
      ],
      "metadata": {
        "id": "_4zLXeaPIv4c"
      }
    },
    {
      "cell_type": "code",
      "source": [
        "sa1.groupby('측정기 상태')['평균값'].agg(['min','max','mean','median']).round(3)"
      ],
      "metadata": {
        "id": "p-Rf_Y5TXZkP"
      },
      "execution_count": null,
      "outputs": []
    },
    {
      "cell_type": "code",
      "source": [
        "sa1[sa1['측정기 상태'] == 0].groupby('요일')['평균값'].agg(['count','min','max','mean','median','std'])"
      ],
      "metadata": {
        "id": "C0bhyfZlTIP7"
      },
      "execution_count": null,
      "outputs": []
    },
    {
      "cell_type": "markdown",
      "source": [
        "* 서울시의 대기오염 데이터를 다양한 형태로"
      ],
      "metadata": {
        "id": "y9QYckcJqIF3"
      }
    },
    {
      "cell_type": "code",
      "source": [
        "sa2 = seoul_air[seoul_air['측정기 상태']==0]"
      ],
      "metadata": {
        "id": "hqjh4Y1c2nsW"
      },
      "execution_count": null,
      "outputs": []
    },
    {
      "cell_type": "code",
      "source": [
        "sa2 = seoul_air[['측정일시','측정소 이름','측정항목 명(줄임 명칭)','평균값']]"
      ],
      "metadata": {
        "id": "kw-GwUtrqQYw"
      },
      "execution_count": null,
      "outputs": []
    },
    {
      "cell_type": "code",
      "source": [
        "sa2.value_counts()"
      ],
      "metadata": {
        "id": "tPNmYCBk0Wep"
      },
      "execution_count": null,
      "outputs": []
    },
    {
      "cell_type": "code",
      "source": [
        "sa2.head()"
      ],
      "metadata": {
        "id": "yysJteEUql4q"
      },
      "execution_count": null,
      "outputs": []
    },
    {
      "cell_type": "code",
      "source": [
        "sa2.columns = ['측정일시','측정소','측정항목','측정값']"
      ],
      "metadata": {
        "id": "vf7TddZeq7VP"
      },
      "execution_count": null,
      "outputs": []
    },
    {
      "cell_type": "code",
      "source": [
        "sa3 = pd.pivot_table(sa2,index=['측정일시','측정소'],columns=['측정항목'],values='측정값')"
      ],
      "metadata": {
        "id": "O3fnQomGrxGJ"
      },
      "execution_count": null,
      "outputs": []
    },
    {
      "cell_type": "code",
      "source": [
        "sa3.value_counts()"
      ],
      "metadata": {
        "id": "ooGG_1fi0rQ6"
      },
      "execution_count": null,
      "outputs": []
    },
    {
      "cell_type": "code",
      "source": [
        "sa3.head()"
      ],
      "metadata": {
        "id": "Q2aRvMkPs-c2"
      },
      "execution_count": null,
      "outputs": []
    },
    {
      "cell_type": "code",
      "source": [
        "sa4 = sa3.groupby('측정소').agg('mean')"
      ],
      "metadata": {
        "id": "b1J8Gnody7FA"
      },
      "execution_count": null,
      "outputs": []
    },
    {
      "cell_type": "code",
      "source": [
        "sa4.to_excel(excel_writer='서울시 대기오염.xlsx')"
      ],
      "metadata": {
        "id": "3O7cyoVB5Ff6"
      },
      "execution_count": null,
      "outputs": []
    },
    {
      "cell_type": "markdown",
      "source": [
        "* 범주형 데이터를 이용한 분할표 분석"
      ],
      "metadata": {
        "id": "NehuzGGFGZmi"
      }
    },
    {
      "cell_type": "code",
      "source": [
        "sa5 = seoul_air[['측정일시','측정소 이름','측정기 상태','측정항목 명(줄임 명칭)','국가 기준초과 구분','지자체 기준초과 구분']]\n",
        "sa5.columns = ['측정일시', '측정소', '측정기 상태', '측정항목', '기준초과(국가)','기준초과(지자체)']\n",
        "sa5.head()"
      ],
      "metadata": {
        "id": "Zp27V_SpGfH1"
      },
      "execution_count": null,
      "outputs": []
    },
    {
      "cell_type": "code",
      "source": [
        "pd.crosstab(index=[sa5['측정소'],sa5['측정항목']], columns=sa5['기준초과(국가)'])"
      ],
      "metadata": {
        "id": "yTRnReQJkFLL"
      },
      "execution_count": null,
      "outputs": []
    },
    {
      "cell_type": "code",
      "source": [
        "pd.crosstab(index=sa5['측정소'], columns=[sa5['측정항목'],sa5['기준초과(국가)']])"
      ],
      "metadata": {
        "id": "Vl37PSMPklQ1"
      },
      "execution_count": null,
      "outputs": []
    },
    {
      "cell_type": "code",
      "source": [
        "pd.crosstab(index=sa5['측정소'], columns=[sa5['측정항목'],sa5['기준초과(국가)']],margins=True)"
      ],
      "metadata": {
        "id": "JEtiUexqrFEc"
      },
      "execution_count": null,
      "outputs": []
    },
    {
      "cell_type": "code",
      "source": [
        "tmp = pd.crosstab(index=sa5['측정소'], columns=[sa5['측정항목'],sa5['기준초과(국가)']], normalize='columns').round(3)"
      ],
      "metadata": {
        "id": "WBpyYndzm1RX"
      },
      "execution_count": null,
      "outputs": []
    },
    {
      "cell_type": "code",
      "source": [
        "tmp = tmp.drop(tmp.columns[[0,2,4,6,8,10]],axis=1)"
      ],
      "metadata": {
        "id": "P8XCVB_BpGCj"
      },
      "execution_count": null,
      "outputs": []
    },
    {
      "cell_type": "code",
      "source": [
        "tmp"
      ],
      "metadata": {
        "id": "hbIkC61op3O2"
      },
      "execution_count": null,
      "outputs": []
    }
  ]
}