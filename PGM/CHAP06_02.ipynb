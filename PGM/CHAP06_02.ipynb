{
  "nbformat": 4,
  "nbformat_minor": 0,
  "metadata": {
    "colab": {
      "provenance": []
    },
    "kernelspec": {
      "name": "python3",
      "display_name": "Python 3"
    },
    "language_info": {
      "name": "python"
    }
  },
  "cells": [
    {
      "cell_type": "markdown",
      "metadata": {
        "id": "_QCHrEOT2m_t"
      },
      "source": [
        "# 제 6 장 __지도학습의 이해__\n",
        "___"
      ]
    },
    {
      "cell_type": "markdown",
      "metadata": {
        "id": "HAtyJ9c721KK"
      },
      "source": [
        "## __사전설정__\n",
        "---"
      ]
    },
    {
      "cell_type": "markdown",
      "metadata": {
        "id": "uw3-Nvtm249v"
      },
      "source": [
        "(1) 저장소 데이터 가져오기"
      ]
    },
    {
      "cell_type": "code",
      "execution_count": null,
      "metadata": {
        "id": "d5LYq9gPZx8m"
      },
      "outputs": [],
      "source": [
        "!rm -rf /content/BizDataAnalysis/"
      ]
    },
    {
      "cell_type": "code",
      "execution_count": null,
      "metadata": {
        "id": "9APPiXA43PE_"
      },
      "outputs": [],
      "source": [
        "!git clone https://github.com/BizStat/BizDataAnalysis.git"
      ]
    },
    {
      "cell_type": "markdown",
      "metadata": {
        "id": "YCG2Vnoh3IG2"
      },
      "source": [
        "\n",
        "(2) matplotlib 환경에서 한글 사용"
      ]
    },
    {
      "cell_type": "code",
      "execution_count": null,
      "metadata": {
        "id": "f7Kxphw17991"
      },
      "outputs": [],
      "source": [
        "!sudo apt-get install -y fonts-nanum\n",
        "!sudo fc-cache -f -v\n",
        "!rm ~/.cache/matplotlib -rf"
      ]
    },
    {
      "cell_type": "markdown",
      "metadata": {
        "id": "fYnwWvIX46iC"
      },
      "source": [
        "런타임 메뉴에서 '세션 다시 시작' 후 다음의 명령문 실행"
      ]
    },
    {
      "cell_type": "code",
      "execution_count": null,
      "metadata": {
        "id": "T5UHjIvW7SD-"
      },
      "outputs": [],
      "source": [
        "from matplotlib import rc\n",
        "rc('font', family='NanumGothicCoding')\n",
        "rc('axes', unicode_minus=False)"
      ]
    },
    {
      "cell_type": "markdown",
      "source": [
        "(3) 구글 드라이브 연결"
      ],
      "metadata": {
        "id": "tPVKIN1vqzjx"
      }
    },
    {
      "cell_type": "code",
      "source": [
        "from google.colab import drive\n",
        "drive.mount('/content/gdrive/')"
      ],
      "metadata": {
        "id": "12BNWJ1Yq10s"
      },
      "execution_count": null,
      "outputs": []
    },
    {
      "cell_type": "markdown",
      "metadata": {
        "id": "TaT2a1PB22xv"
      },
      "source": [
        "___"
      ]
    },
    {
      "cell_type": "markdown",
      "source": [
        "## 6.3 __분류모형의 이해와 활용__"
      ],
      "metadata": {
        "id": "Hqt8GZABOYRF"
      }
    },
    {
      "cell_type": "markdown",
      "source": [
        "### (1) Default 데이터"
      ],
      "metadata": {
        "id": "PAxvOm_gSa7u"
      }
    },
    {
      "cell_type": "markdown",
      "source": [
        "* 데이터 가져오기"
      ],
      "metadata": {
        "id": "1XFXrIG-K6LY"
      }
    },
    {
      "cell_type": "code",
      "source": [
        "import pandas as pd\n",
        "import matplotlib.pyplot as plt\n",
        "import numpy as np"
      ],
      "metadata": {
        "id": "R8mmOnISLHjj"
      },
      "execution_count": null,
      "outputs": []
    },
    {
      "cell_type": "code",
      "source": [
        "default = pd.read_table('/content/BizDataAnalysis/DATA/Default.csv', sep=',')"
      ],
      "metadata": {
        "id": "eC5SMc9vK8gm"
      },
      "execution_count": null,
      "outputs": []
    },
    {
      "cell_type": "code",
      "source": [
        "default"
      ],
      "metadata": {
        "id": "PtP9_H74LQrO"
      },
      "execution_count": null,
      "outputs": []
    },
    {
      "cell_type": "markdown",
      "source": [
        "* 데이터 살펴보기"
      ],
      "metadata": {
        "id": "6Y4x1qVoMJZw"
      }
    },
    {
      "cell_type": "code",
      "source": [
        "default.iloc[:,[3,4]].describe()"
      ],
      "metadata": {
        "id": "1aJWiR5LGfDC"
      },
      "execution_count": null,
      "outputs": []
    },
    {
      "cell_type": "code",
      "source": [
        "default.iloc[:,[3,4]].hist(bins=20)"
      ],
      "metadata": {
        "id": "yi8dsyvUMLU7"
      },
      "execution_count": null,
      "outputs": []
    },
    {
      "cell_type": "code",
      "source": [
        "import seaborn as sns\n",
        "sns.pairplot(default.iloc[:,1:], hue=\"default\")\n",
        "plt.show()"
      ],
      "metadata": {
        "id": "499w9F-OPh8x"
      },
      "execution_count": null,
      "outputs": []
    },
    {
      "cell_type": "code",
      "source": [
        "pd.crosstab(index=default['default'],columns=default['student'])"
      ],
      "metadata": {
        "id": "DWmp9-NSY9FP"
      },
      "execution_count": null,
      "outputs": []
    },
    {
      "cell_type": "markdown",
      "source": [
        "* 데이터 분할 : 학습데이터와 평가데이터"
      ],
      "metadata": {
        "id": "letUDQhvL4bU"
      }
    },
    {
      "cell_type": "code",
      "source": [
        "default.iloc[:,[1]]"
      ],
      "metadata": {
        "id": "6IklmBuVrZNA"
      },
      "execution_count": null,
      "outputs": []
    },
    {
      "cell_type": "code",
      "source": [
        "default.iloc[:,2:]"
      ],
      "metadata": {
        "id": "RmnMdfIMBDgI"
      },
      "execution_count": null,
      "outputs": []
    },
    {
      "cell_type": "code",
      "source": [
        "X = default.iloc[:,2:]\n",
        "y = default.iloc[:,[1]]"
      ],
      "metadata": {
        "id": "iNBQG1JWsku4"
      },
      "execution_count": null,
      "outputs": []
    },
    {
      "cell_type": "markdown",
      "source": [
        "* 가변수로 변환"
      ],
      "metadata": {
        "id": "G1VsFXpwVmd1"
      }
    },
    {
      "cell_type": "code",
      "source": [
        "X = pd.get_dummies(X,drop_first=True,dtype=int)"
      ],
      "metadata": {
        "id": "3jGkL8WCVpfJ"
      },
      "execution_count": null,
      "outputs": []
    },
    {
      "cell_type": "code",
      "source": [
        "y = pd.get_dummies(y,drop_first=True,dtype=int)"
      ],
      "metadata": {
        "id": "PS57g1y2Wkgf"
      },
      "execution_count": null,
      "outputs": []
    },
    {
      "cell_type": "code",
      "source": [
        "from sklearn.model_selection import train_test_split"
      ],
      "metadata": {
        "id": "vh1ESgTLsUhQ"
      },
      "execution_count": null,
      "outputs": []
    },
    {
      "cell_type": "code",
      "source": [
        "X_train, X_test, y_train, y_test = train_test_split(X,y,random_state=3,train_size=0.7)"
      ],
      "metadata": {
        "id": "07pmPEK9RofS"
      },
      "execution_count": null,
      "outputs": []
    },
    {
      "cell_type": "code",
      "source": [
        "print(f\"학습 데이터의 수 : {len(y_train)}, 학습 데이터에서 연체개체 수 : {y_train.sum()}\")\n",
        "print(f\"평가 데이터의 수 : {len(y_test)}, 평가 데이터에서 연체개체 수 : {y_test.sum()}\")"
      ],
      "metadata": {
        "id": "Aug2SFBcRq6u"
      },
      "execution_count": null,
      "outputs": []
    },
    {
      "cell_type": "code",
      "source": [
        "X_train, X_test, y_train, y_test = train_test_split(X,y,random_state=13,train_size=0.7,stratify=default['default'])"
      ],
      "metadata": {
        "id": "RHDGcTOqFCdF"
      },
      "execution_count": null,
      "outputs": []
    },
    {
      "cell_type": "code",
      "source": [
        "print(f\"학습 데이터의 수 : {len(y_train)}, 학습 데이터에서 연체개체 수 : {y_train.sum()}\")\n",
        "print(f\"평가 데이터의 수 : {len(y_test)}, 평가 데이터에서 연체개체 수 : {y_test.sum()}\")"
      ],
      "metadata": {
        "id": "KZk4EDJAULPp"
      },
      "execution_count": null,
      "outputs": []
    },
    {
      "cell_type": "code",
      "source": [
        "# 종속변수를 가변수로 변환하여 사용하는 경우\n",
        "y_train = y_train['default_Yes']\n",
        "y_test = y_test['default_Yes']"
      ],
      "metadata": {
        "id": "-9E9u0DxGFGQ"
      },
      "execution_count": null,
      "outputs": []
    },
    {
      "cell_type": "code",
      "source": [
        "# 종속변수를 가변수로 변환하지 않은 경우\n",
        "y_train = y_train['default']\n",
        "y_test = y_test['default']"
      ],
      "metadata": {
        "id": "34S1rMqoW7Yu"
      },
      "execution_count": null,
      "outputs": []
    },
    {
      "cell_type": "code",
      "source": [
        "y_test"
      ],
      "metadata": {
        "id": "gIcvnm7wxxbm"
      },
      "execution_count": null,
      "outputs": []
    },
    {
      "cell_type": "markdown",
      "source": [
        "---\n",
        "__로지스틱 회귀모형__"
      ],
      "metadata": {
        "id": "fdq0RIoNrdop"
      }
    },
    {
      "cell_type": "markdown",
      "source": [
        "* 로지스틱 회귀모형의 적합"
      ],
      "metadata": {
        "id": "Mg99UXPqh-Ll"
      }
    },
    {
      "cell_type": "code",
      "source": [
        "from sklearn.linear_model import LogisticRegression\n",
        "LR = LogisticRegression()\n",
        "LR.fit(X_train,y_train)"
      ],
      "metadata": {
        "id": "FGZLlXnotH-S"
      },
      "execution_count": null,
      "outputs": []
    },
    {
      "cell_type": "markdown",
      "source": [
        "* 로지스틱 회귀모형의 추정 결과 살펴보기"
      ],
      "metadata": {
        "id": "pzU8XqObiIjT"
      }
    },
    {
      "cell_type": "code",
      "source": [
        "for i in range(0,len(LR.feature_names_in_)+1):\n",
        "  if i == 0 :\n",
        "    print(f'절편 : {LR.intercept_[0]}')\n",
        "  else :\n",
        "    print(f'{LR.feature_names_in_[i-1]} : {LR.coef_[0,i-1]}')"
      ],
      "metadata": {
        "id": "o6eqCM3ijv5f"
      },
      "execution_count": null,
      "outputs": []
    },
    {
      "cell_type": "code",
      "source": [
        "import numpy as np\n",
        "for i in range(0,len(LR.feature_names_in_)+1):\n",
        "  if i == 0 :\n",
        "    print(f'절편 : {np.exp(LR.intercept_[0])}')\n",
        "  else :\n",
        "    print(f'{LR.feature_names_in_[i-1]} : {np.exp(LR.coef_[0,i-1])}')"
      ],
      "metadata": {
        "id": "pliRax6vnVrm"
      },
      "execution_count": null,
      "outputs": []
    },
    {
      "cell_type": "markdown",
      "source": [
        "* 로지스틱 회귀모형 적합 결과를 이용한 예측"
      ],
      "metadata": {
        "id": "mHHW3G8BpgNK"
      }
    },
    {
      "cell_type": "code",
      "source": [
        "y_pred = LR.predict(X_test)"
      ],
      "metadata": {
        "id": "bELEoBNQpuKg"
      },
      "execution_count": null,
      "outputs": []
    },
    {
      "cell_type": "code",
      "source": [
        "y_pred"
      ],
      "metadata": {
        "id": "RYT9dnzqs4ag"
      },
      "execution_count": null,
      "outputs": []
    },
    {
      "cell_type": "code",
      "source": [
        "y_pred_prob = LR.predict_proba(X_test)"
      ],
      "metadata": {
        "id": "i3D9_M-CqB9c"
      },
      "execution_count": null,
      "outputs": []
    },
    {
      "cell_type": "code",
      "source": [
        "y_pred_prob"
      ],
      "metadata": {
        "id": "hIKVMm_Up1uS"
      },
      "execution_count": null,
      "outputs": []
    },
    {
      "cell_type": "code",
      "source": [
        "y_pred_prob[y_pred_prob[:,0]<y_pred_prob[:,1]]"
      ],
      "metadata": {
        "id": "CtVgQsZnrqF8"
      },
      "execution_count": null,
      "outputs": []
    },
    {
      "cell_type": "code",
      "source": [
        "pred_df = pd.DataFrame({\n",
        "    'actual_class': y_test,\n",
        "    'predicted_class': y_pred,\n",
        "    'probabilty_class_0': y_pred_prob[:,1]\n",
        "})"
      ],
      "metadata": {
        "id": "28z9Ux1pvXk-"
      },
      "execution_count": null,
      "outputs": []
    },
    {
      "cell_type": "code",
      "source": [
        "pred_df.head()"
      ],
      "metadata": {
        "id": "7KHUxpeNv9Li"
      },
      "execution_count": null,
      "outputs": []
    },
    {
      "cell_type": "code",
      "source": [
        "pd.crosstab(index=pred_df['actual_class'],columns=pred_df['predicted_class'])"
      ],
      "metadata": {
        "id": "9L6pkG69wEMn"
      },
      "execution_count": null,
      "outputs": []
    },
    {
      "cell_type": "markdown",
      "source": [
        "* 로지스틱 회귀모형의 성능평가"
      ],
      "metadata": {
        "id": "LCroS859qn3Z"
      }
    },
    {
      "cell_type": "code",
      "source": [
        "LR.score(X_train,y_train)"
      ],
      "metadata": {
        "id": "-KJtVazT5pAZ"
      },
      "execution_count": null,
      "outputs": []
    },
    {
      "cell_type": "code",
      "source": [
        "LR.score(X_test,y_test)"
      ],
      "metadata": {
        "id": "jfai0YJS57jc"
      },
      "execution_count": null,
      "outputs": []
    },
    {
      "cell_type": "code",
      "source": [
        "from sklearn.metrics import accuracy_score\n",
        "accuracy_score(y_test, y_pred)"
      ],
      "metadata": {
        "id": "WntM1fCxrSWU"
      },
      "execution_count": null,
      "outputs": []
    },
    {
      "cell_type": "code",
      "source": [
        "from sklearn.metrics import confusion_matrix\n",
        "confusion_matrix(y_test, y_pred)"
      ],
      "metadata": {
        "id": "JeZYH-sN0vj_"
      },
      "execution_count": null,
      "outputs": []
    },
    {
      "cell_type": "code",
      "source": [
        "from sklearn.metrics import classification_report\n",
        "print(classification_report(y_test, y_pred, target_names=['default_no','default_yes']))"
      ],
      "metadata": {
        "id": "0CI7sBj12eDD"
      },
      "execution_count": null,
      "outputs": []
    },
    {
      "cell_type": "markdown",
      "source": [
        "* 분류기준값의 변화에 따른 모형의 정확도"
      ],
      "metadata": {
        "id": "f-WIiJuZ5Y_H"
      }
    },
    {
      "cell_type": "code",
      "source": [
        "def tmp(x):\n",
        "    if x >= 0.2:\n",
        "        result = 1\n",
        "    else:\n",
        "        result = 0\n",
        "    return result\n",
        "\n",
        "pred_df['predicted_class'] = pred_df['probabilty_class_0'].apply(tmp)\n",
        "pd.crosstab(index=pred_df['actual_class'],columns=pred_df['predicted_class'])"
      ],
      "metadata": {
        "id": "69JbJ35D6BoE"
      },
      "execution_count": null,
      "outputs": []
    },
    {
      "cell_type": "code",
      "source": [
        "def tmp(x):\n",
        "    if x >= 0.8:\n",
        "        result = 1\n",
        "    else:\n",
        "        result = 0\n",
        "    return result\n",
        "\n",
        "pred_df['predicted_class'] = pred_df['probabilty_class_0'].apply(tmp)\n",
        "pd.crosstab(index=pred_df['actual_class'],columns=pred_df['predicted_class'])"
      ],
      "metadata": {
        "id": "slEcMW6i8prw"
      },
      "execution_count": null,
      "outputs": []
    },
    {
      "cell_type": "markdown",
      "source": [
        "* ROC 곡선"
      ],
      "metadata": {
        "id": "v8-hoSpF-b54"
      }
    },
    {
      "cell_type": "code",
      "source": [
        "import sklearn.metrics as sm\n",
        "fpr, tpr, threshold = sm.roc_curve(y_test, y_pred_prob[:, 0], pos_label=0)\n",
        "sm.auc(fpr,tpr)"
      ],
      "metadata": {
        "id": "KYtADdpi-fBz"
      },
      "execution_count": null,
      "outputs": []
    },
    {
      "cell_type": "code",
      "source": [
        "plt.figure(figsize = (8, 8))\n",
        "plt.plot(fpr, tpr, 'b')\n",
        "plt.plot([0, 1], [0, 1],'r--')\n",
        "plt.xlim([0, 1])\n",
        "plt.ylim([0, 1])\n",
        "plt.ylabel('True Positive Rate')\n",
        "plt.xlabel('False Positive Rate')\n",
        "plt.show()"
      ],
      "metadata": {
        "id": "YBS6xI7j-u1k"
      },
      "execution_count": null,
      "outputs": []
    },
    {
      "cell_type": "markdown",
      "source": [
        "---\n",
        "__kNN 분류__"
      ],
      "metadata": {
        "id": "OOf1M6VL4fC-"
      }
    },
    {
      "cell_type": "markdown",
      "source": [
        "* kNN 분류 사례 (기본값 적용)"
      ],
      "metadata": {
        "id": "kc3HvFks4xs6"
      }
    },
    {
      "cell_type": "code",
      "source": [
        "from sklearn.neighbors import KNeighborsClassifier"
      ],
      "metadata": {
        "id": "HbE9u6Mh4456"
      },
      "execution_count": null,
      "outputs": []
    },
    {
      "cell_type": "code",
      "source": [
        "KC = KNeighborsClassifier()\n",
        "KC.fit(X_train,y_train)"
      ],
      "metadata": {
        "id": "0i19VHbEMhHH"
      },
      "execution_count": null,
      "outputs": []
    },
    {
      "cell_type": "code",
      "source": [
        "KC.score(X_train,y_train)"
      ],
      "metadata": {
        "id": "91U93JQN6pLA"
      },
      "execution_count": null,
      "outputs": []
    },
    {
      "cell_type": "code",
      "source": [
        "KC.score(X_test,y_test)"
      ],
      "metadata": {
        "id": "kpf8aO6F6gd-"
      },
      "execution_count": null,
      "outputs": []
    },
    {
      "cell_type": "code",
      "source": [
        "y_pred_proba = KC.predict_proba(X_test)"
      ],
      "metadata": {
        "id": "bGgS2OdxCbBK"
      },
      "execution_count": null,
      "outputs": []
    },
    {
      "cell_type": "code",
      "source": [
        "y_pred = KC.predict(X_test)"
      ],
      "metadata": {
        "id": "zGlzbMDUjjGm"
      },
      "execution_count": null,
      "outputs": []
    },
    {
      "cell_type": "code",
      "source": [
        "from sklearn.metrics import confusion_matrix\n",
        "import sklearn.metrics as sm"
      ],
      "metadata": {
        "id": "V7cRBUjeM6aW"
      },
      "execution_count": null,
      "outputs": []
    },
    {
      "cell_type": "code",
      "source": [
        "confusion_matrix(y_test, y_pred)"
      ],
      "metadata": {
        "id": "2aJEl2IxM3Ek"
      },
      "execution_count": null,
      "outputs": []
    },
    {
      "cell_type": "code",
      "source": [
        "fpr, tpr, threshold = sm.roc_curve(y_test, y_pred_prob[:, 0], pos_label=0)\n",
        "sm.auc(fpr,tpr)"
      ],
      "metadata": {
        "id": "eQbruIquOOtW"
      },
      "execution_count": null,
      "outputs": []
    },
    {
      "cell_type": "markdown",
      "source": [
        "* kNN 분류 : k-값 변화에 따른 적합 결과"
      ],
      "metadata": {
        "id": "LJ_vRy4C4lR7"
      }
    },
    {
      "cell_type": "code",
      "source": [
        "niter = 100\n",
        "optVal = np.zeros((niter,3))\n",
        "for k in range(1, niter+1):\n",
        "    KC = KNeighborsClassifier(n_neighbors=k,weights='uniform')\n",
        "    KC.fit(X_train, y_train)\n",
        "    optVal[k-1,0] = k\n",
        "    optVal[k-1,1] = KC.score(X_train, y_train)\n",
        "    optVal[k-1,2] = KC.score(X_test, y_test)\n",
        "\n",
        "plt.plot(optVal[:,0],optVal[:,1],color='navy',label='학습데이터')\n",
        "plt.plot(optVal[:,0],optVal[:,2],color='darkorange',label='평가데이터')\n",
        "plt.title('n_neighbors 값의 변화에 따른 적합결과 변화')\n",
        "plt.xlabel('n_neighbors')\n",
        "plt.ylabel('Accuracy Rate')\n",
        "plt.legend()\n",
        "plt.show()"
      ],
      "metadata": {
        "id": "547xC6ipo0bU"
      },
      "execution_count": null,
      "outputs": []
    },
    {
      "cell_type": "code",
      "source": [
        "optVal[optVal[:,2] == max(optVal[:,2]),]"
      ],
      "metadata": {
        "id": "KQ4Xdah6_kwI"
      },
      "execution_count": null,
      "outputs": []
    },
    {
      "cell_type": "code",
      "source": [
        "KC = KNeighborsClassifier(n_neighbors=7)\n",
        "KC.fit(X_train,y_train)"
      ],
      "metadata": {
        "id": "6ZfdBj9ZMoTD"
      },
      "execution_count": null,
      "outputs": []
    },
    {
      "cell_type": "code",
      "source": [
        "y_pred_prob = KC.predict_proba(X_test)"
      ],
      "metadata": {
        "id": "rchRY221NZhg"
      },
      "execution_count": null,
      "outputs": []
    },
    {
      "cell_type": "code",
      "source": [
        "confusion_matrix(y_test, y_pred)"
      ],
      "metadata": {
        "id": "vn3d5nSNNi0Y"
      },
      "execution_count": null,
      "outputs": []
    },
    {
      "cell_type": "code",
      "source": [
        "fpr, tpr, threshold = sm.roc_curve(y_test, y_pred_prob[:, 0], pos_label=0)\n",
        "sm.auc(fpr,tpr)"
      ],
      "metadata": {
        "id": "tQHZgIG0NpSC"
      },
      "execution_count": null,
      "outputs": []
    },
    {
      "cell_type": "code",
      "source": [
        "niter = 50\n",
        "optVal = np.zeros((niter,3))\n",
        "for k in range(1, niter+1):\n",
        "    KC = KNeighborsClassifier(n_neighbors=k*2,weights='uniform')\n",
        "    KC.fit(X_train, y_train)\n",
        "    optVal[k-1,0] = k*2\n",
        "    optVal[k-1,1] = KC.score(X_train, y_train)\n",
        "    optVal[k-1,2] = KC.score(X_test, y_test)\n",
        "\n",
        "plt.plot(optVal[:,0],optVal[:,1],color='navy',label='학습데이터')\n",
        "plt.plot(optVal[:,0],optVal[:,2],color='darkorange',label='평가데이터')\n",
        "plt.title('n_neighbors 값의 변화에 따른 적합결과 변화')\n",
        "plt.xlabel('n_neighbors')\n",
        "plt.ylabel('Accuracy Rate')\n",
        "plt.legend()\n",
        "plt.show()"
      ],
      "metadata": {
        "id": "5vuyrz_MRK_Z"
      },
      "execution_count": null,
      "outputs": []
    },
    {
      "cell_type": "code",
      "source": [
        "optVal[optVal[:,2] == max(optVal[:,2]),]"
      ],
      "metadata": {
        "id": "YD6b_iA2RVCS"
      },
      "execution_count": null,
      "outputs": []
    },
    {
      "cell_type": "code",
      "source": [
        "niter = 50\n",
        "optVal = np.zeros((niter,3))\n",
        "for k in range(1, niter+1):\n",
        "    KC = KNeighborsClassifier(n_neighbors=k*2-1,weights='uniform')\n",
        "    KC.fit(X_train, y_train)\n",
        "    optVal[k-1,0] = k*2-1\n",
        "    optVal[k-1,1] = KC.score(X_train, y_train.to_numpy().reshape(-1))\n",
        "    optVal[k-1,2] = KC.score(X_test, y_test.to_numpy().reshape(-1))\n",
        "\n",
        "plt.plot(optVal[:,0],optVal[:,1],color='navy',label='학습데이터')\n",
        "plt.plot(optVal[:,0],optVal[:,2],color='darkorange',label='평가데이터')\n",
        "plt.title('n_neighbors 값의 변화에 따른 적합결과 변화')\n",
        "plt.xlabel('n_neighbors')\n",
        "plt.ylabel('Accuracy Rate')\n",
        "plt.legend()\n",
        "plt.show()"
      ],
      "metadata": {
        "id": "Tn3xA-71HOIZ"
      },
      "execution_count": null,
      "outputs": []
    },
    {
      "cell_type": "code",
      "source": [
        "optVal[optVal[:,2] == max(optVal[:,2]),]"
      ],
      "metadata": {
        "id": "UuzZ2uy5HgLd"
      },
      "execution_count": null,
      "outputs": []
    },
    {
      "cell_type": "code",
      "source": [
        "niter = 50\n",
        "optVal = np.zeros((niter,3))\n",
        "for k in range(1, niter+1):\n",
        "    KC = KNeighborsClassifier(n_neighbors=k*2-1,weights='uniform',p=1)\n",
        "    KC.fit(X_train, y_train)\n",
        "    optVal[k-1,0] = k*2-1\n",
        "    optVal[k-1,1] = KC.score(X_train, y_train.to_numpy().reshape(-1))\n",
        "    optVal[k-1,2] = KC.score(X_test, y_test.to_numpy().reshape(-1))\n",
        "\n",
        "plt.plot(optVal[:,0],optVal[:,1],color='navy',label='학습데이터')\n",
        "plt.plot(optVal[:,0],optVal[:,2],color='darkorange',label='평가데이터')\n",
        "plt.title('n_neighbors 값의 변화에 따른 적합결과 변화')\n",
        "plt.xlabel('n_neighbors')\n",
        "plt.ylabel('Accuracy Rate')\n",
        "plt.legend()\n",
        "plt.show()"
      ],
      "metadata": {
        "id": "PyZq8djV_MeX"
      },
      "execution_count": null,
      "outputs": []
    },
    {
      "cell_type": "code",
      "source": [
        "optVal[optVal[:,2] == max(optVal[:,2]),]"
      ],
      "metadata": {
        "id": "iAw7Erz4_f-F"
      },
      "execution_count": null,
      "outputs": []
    },
    {
      "cell_type": "markdown",
      "source": [
        "* 데이터 표준화"
      ],
      "metadata": {
        "id": "ZNkhk0FgKIxo"
      }
    },
    {
      "cell_type": "code",
      "source": [
        "train_mean = np.mean(X_train, axis=0)\n",
        "train_std = np.mean(X_train, axis=0)\n",
        "X_train_scaled = (X_train - train_mean) / train_std\n",
        "X_test_scaled = (X_test - train_mean) / train_std"
      ],
      "metadata": {
        "id": "H2MI41gVNMzN"
      },
      "execution_count": null,
      "outputs": []
    },
    {
      "cell_type": "code",
      "source": [
        "KC = KNeighborsClassifier()\n",
        "KC.fit(X_train_scaled,y_train)\n",
        "KC.score(X_test_scaled,y_test)"
      ],
      "metadata": {
        "id": "7yLaswomhyIX"
      },
      "execution_count": null,
      "outputs": []
    },
    {
      "cell_type": "code",
      "source": [
        "y_pred = KC.predict(X_test_scaled)\n",
        "from sklearn.metrics import confusion_matrix\n",
        "confusion_matrix(y_test, y_pred)"
      ],
      "metadata": {
        "id": "z3f56G7HjyDt"
      },
      "execution_count": null,
      "outputs": []
    },
    {
      "cell_type": "code",
      "source": [
        "niter = 50\n",
        "optVal = np.zeros((niter,3))\n",
        "for k in range(1, niter+1):\n",
        "    KC = KNeighborsClassifier(n_neighbors=k*2-1,weights='uniform')\n",
        "    KC.fit(X_train_scaled, y_train)\n",
        "    optVal[k-1,0] = k*2-1\n",
        "    optVal[k-1,1] = KC.score(X_train_scaled, y_train)\n",
        "    optVal[k-1,2] = KC.score(X_test_scaled, y_test)\n",
        "\n",
        "plt.plot(optVal[:,0],optVal[:,1],color='navy',label='학습데이터')\n",
        "plt.plot(optVal[:,0],optVal[:,2],color='darkorange',label='평가데이터')\n",
        "plt.title('n_neighbors 값의 변화에 따른 적합결과 변화')\n",
        "plt.xlabel('n_neighbors')\n",
        "plt.ylabel('Accuracy Rate')\n",
        "plt.legend()\n",
        "plt.show()"
      ],
      "metadata": {
        "id": "Wm1VIH0XODVJ"
      },
      "execution_count": null,
      "outputs": []
    },
    {
      "cell_type": "code",
      "source": [
        "optVal[optVal[:,2] == max(optVal[:,2]),]"
      ],
      "metadata": {
        "id": "2yy0pM9KPuFx"
      },
      "execution_count": null,
      "outputs": []
    },
    {
      "cell_type": "markdown",
      "source": [
        "* kNN 분류의 최적모형"
      ],
      "metadata": {
        "id": "giWChas8RxpQ"
      }
    },
    {
      "cell_type": "code",
      "source": [
        "KC = KNeighborsClassifier(n_neighbors=9)\n",
        "KC.fit(X_train_scaled,y_train)"
      ],
      "metadata": {
        "id": "YRSZFcACTvDO"
      },
      "execution_count": null,
      "outputs": []
    },
    {
      "cell_type": "code",
      "source": [
        "y_pred_prob = KC.predict_proba(X_test_scaled)"
      ],
      "metadata": {
        "id": "VbpZQilecR3X"
      },
      "execution_count": null,
      "outputs": []
    },
    {
      "cell_type": "markdown",
      "source": [
        "* kNN 분류의 ROC 곡선 그리기"
      ],
      "metadata": {
        "id": "AzJZJpUBRgte"
      }
    },
    {
      "cell_type": "code",
      "source": [
        "fpr, tpr, threshold = sm.roc_curve(y_test, y_pred_prob[:, 0], pos_label=0)\n",
        "sm.auc(fpr,tpr)"
      ],
      "metadata": {
        "id": "bdsVB9fYzX2n"
      },
      "execution_count": null,
      "outputs": []
    },
    {
      "cell_type": "code",
      "source": [
        "plt.figure(figsize = (8, 8))\n",
        "plt.plot(fpr, tpr, 'b')\n",
        "plt.plot([0, 1], [0, 1],'r--')\n",
        "plt.xlim([0, 1])\n",
        "plt.ylim([0, 1])\n",
        "plt.ylabel('True Positive Rate')\n",
        "plt.xlabel('False Positive Rate')\n",
        "plt.show()"
      ],
      "metadata": {
        "id": "c9cG-SlBcngy"
      },
      "execution_count": null,
      "outputs": []
    },
    {
      "cell_type": "markdown",
      "source": [
        "---\n",
        "__분류나무__"
      ],
      "metadata": {
        "id": "DIkOsVIb6VCD"
      }
    },
    {
      "cell_type": "markdown",
      "source": [
        "* 분류나무 사례 (기본값 적용)"
      ],
      "metadata": {
        "id": "wquyXwE06iR_"
      }
    },
    {
      "cell_type": "code",
      "source": [
        "from sklearn.tree import DecisionTreeClassifier\n",
        "from sklearn import tree\n",
        "from sklearn.metrics import confusion_matrix"
      ],
      "metadata": {
        "id": "EuSwp__G63aq"
      },
      "execution_count": null,
      "outputs": []
    },
    {
      "cell_type": "code",
      "source": [
        "DC = DecisionTreeClassifier(random_state=3)\n",
        "DC.fit(X_train,y_train)"
      ],
      "metadata": {
        "id": "dy5ZnmyUg933"
      },
      "execution_count": null,
      "outputs": []
    },
    {
      "cell_type": "code",
      "source": [
        "DC.score(X_train,y_train)"
      ],
      "metadata": {
        "id": "DEI0jRVH7kOk"
      },
      "execution_count": null,
      "outputs": []
    },
    {
      "cell_type": "code",
      "source": [
        "DC.score(X_test,y_test)"
      ],
      "metadata": {
        "id": "EUcenJay7lQx"
      },
      "execution_count": null,
      "outputs": []
    },
    {
      "cell_type": "code",
      "source": [
        "y_pred = DC.predict(X_test)\n",
        "from sklearn.metrics import confusion_matrix\n",
        "confusion_matrix(y_test, y_pred)"
      ],
      "metadata": {
        "id": "BCrSk99d7qG_"
      },
      "execution_count": null,
      "outputs": []
    },
    {
      "cell_type": "code",
      "source": [
        "from sklearn.tree import DecisionTreeClassifier\n",
        "DC = DecisionTreeClassifier(random_state=3)\n",
        "DC.fit(X_train_scaled,y_train)"
      ],
      "metadata": {
        "id": "CTaKyGwfwVXk"
      },
      "execution_count": null,
      "outputs": []
    },
    {
      "cell_type": "code",
      "source": [
        "DC.score(X_test_scaled,y_test)"
      ],
      "metadata": {
        "id": "Bpjm1cdxwcAg"
      },
      "execution_count": null,
      "outputs": []
    },
    {
      "cell_type": "code",
      "source": [
        "y_pred = DC.predict(X_test_scaled)\n",
        "confusion_matrix(y_test, y_pred)"
      ],
      "metadata": {
        "id": "zrfjiKBecT9K"
      },
      "execution_count": null,
      "outputs": []
    },
    {
      "cell_type": "code",
      "source": [
        "# @title max_depth 변화에 따른 회귀나무의 성능 비교\n",
        "niter = 100\n",
        "optVal = np.zeros((niter,3))\n",
        "for k in range(2, niter+2):\n",
        "    RT = DecisionTreeClassifier(max_depth=k,random_state=3)\n",
        "    RT.fit(X_train, y_train)\n",
        "    optVal[k-2,0] = k\n",
        "    optVal[k-2,1] = RT.score(X_train, y_train)\n",
        "    optVal[k-2,2] = RT.score(X_test, y_test)\n",
        "\n",
        "plt.plot(optVal[:,0],optVal[:,1],color='navy',label='학습데이터')\n",
        "plt.plot(optVal[:,0],optVal[:,2],color='darkorange',label='평가데이터')\n",
        "plt.title('max_depth 값의 변화에 따른 적합결과 변화')\n",
        "plt.xlabel('min_samples_split')\n",
        "plt.ylabel('Accuracy Rate')\n",
        "plt.legend()\n",
        "plt.show()"
      ],
      "metadata": {
        "id": "OeQDK_odYgAl"
      },
      "execution_count": null,
      "outputs": []
    },
    {
      "cell_type": "code",
      "source": [
        "optVal[optVal[:,2] == max(optVal[:,2]),]"
      ],
      "metadata": {
        "id": "FYwiuEVsY6kg"
      },
      "execution_count": null,
      "outputs": []
    },
    {
      "cell_type": "code",
      "source": [
        "# @title min_samples_split 변화에 따른 회귀나무의 성능 비교\n",
        "niter = 100\n",
        "optVal = np.zeros((niter,3))\n",
        "for k in range(2, niter+2):\n",
        "    RT = DecisionTreeClassifier(min_samples_split=k,random_state=3)\n",
        "    RT.fit(X_train, y_train)\n",
        "    optVal[k-2,0] = k\n",
        "    optVal[k-2,1] = RT.score(X_train, y_train)\n",
        "    optVal[k-2,2] = RT.score(X_test, y_test)\n",
        "\n",
        "plt.plot(optVal[:,0],optVal[:,1],color='navy',label='학습데이터')\n",
        "plt.plot(optVal[:,0],optVal[:,2],color='darkorange',label='평가데이터')\n",
        "plt.title('min_samples_split 값의 변화에 따른 적합결과 변화')\n",
        "plt.xlabel('min_samples_split')\n",
        "plt.ylabel('Accuracy Rate')\n",
        "plt.legend()\n",
        "plt.show()"
      ],
      "metadata": {
        "id": "Zc9C1L2fOSKl"
      },
      "execution_count": null,
      "outputs": []
    },
    {
      "cell_type": "code",
      "source": [
        "optVal[optVal[:,2] == max(optVal[:,2]),]"
      ],
      "metadata": {
        "id": "BIduc2c3I7-o"
      },
      "execution_count": null,
      "outputs": []
    },
    {
      "cell_type": "code",
      "source": [
        "# @title min_samples_leaf 변화에 따른 회귀나무의 성능 비교\n",
        "niter = 100\n",
        "optVal = np.zeros((niter,3))\n",
        "for k in range(2, niter+2):\n",
        "    RT = DecisionTreeClassifier(min_samples_leaf=k,random_state=3)\n",
        "    RT.fit(X_train, y_train)\n",
        "    optVal[k-2,0] = k\n",
        "    optVal[k-2,1] = RT.score(X_train, y_train)\n",
        "    optVal[k-2,2] = RT.score(X_test, y_test)\n",
        "\n",
        "plt.plot(optVal[:,0],optVal[:,1],color='navy',label='학습데이터')\n",
        "plt.plot(optVal[:,0],optVal[:,2],color='darkorange',label='평가데이터')\n",
        "plt.title('min_samples_leaf 값의 변화에 따른 적합결과 변화')\n",
        "plt.xlabel('min_samples_leaf')\n",
        "plt.ylabel('Accuracy Rate')\n",
        "plt.legend()\n",
        "plt.show()"
      ],
      "metadata": {
        "id": "UVqjnjN0JFVQ"
      },
      "execution_count": null,
      "outputs": []
    },
    {
      "cell_type": "code",
      "source": [
        "optVal[optVal[:,2] == max(optVal[:,2]),]"
      ],
      "metadata": {
        "id": "XhTIspzZJcgl"
      },
      "execution_count": null,
      "outputs": []
    },
    {
      "cell_type": "markdown",
      "source": [
        "* 최적 분류나무 선택을 위한 AUC 비교"
      ],
      "metadata": {
        "id": "kHwbSeOZawOO"
      }
    },
    {
      "cell_type": "code",
      "source": [
        "DC = DecisionTreeClassifier(max_depth=2,random_state=3)\n",
        "DC.fit(X_train,y_train)\n",
        "y_pred_prob = DC.predict_proba(X_test)\n",
        "fpr1, tpr1, threshold = sm.roc_curve(y_test, y_pred_prob[:, 0], pos_label=0)\n",
        "tree.plot_tree(DC)\n",
        "print(tree.export_text(DC,feature_names=DC.feature_names_in_.tolist()))"
      ],
      "metadata": {
        "id": "zuw4FJZOa4Ew"
      },
      "execution_count": null,
      "outputs": []
    },
    {
      "cell_type": "code",
      "source": [
        "DC = DecisionTreeClassifier(min_samples_split=46,random_state=3)\n",
        "DC.fit(X_train,y_train)\n",
        "y_pred_prob = DC.predict_proba(X_test)\n",
        "fpr2, tpr2, threshold = sm.roc_curve(y_test, y_pred_prob[:, 0], pos_label=0)\n",
        "tree.plot_tree(DC)\n",
        "print(tree.export_text(DC,feature_names=DC.feature_names_in_.tolist()))"
      ],
      "metadata": {
        "id": "5cFFJdQ2bWVe"
      },
      "execution_count": null,
      "outputs": []
    },
    {
      "cell_type": "code",
      "source": [
        "DC = DecisionTreeClassifier(min_samples_leaf=12,random_state=3)\n",
        "DC.fit(X_train,y_train)\n",
        "y_pred_prob = DC.predict_proba(X_test)\n",
        "fpr3, tpr3, threshold = sm.roc_curve(y_test, y_pred_prob[:, 0], pos_label=0)\n",
        "tree.plot_tree(DC)\n",
        "print(tree.export_text(DC,feature_names=DC.feature_names_in_.tolist()))"
      ],
      "metadata": {
        "id": "2FTsXXq0bZpd"
      },
      "execution_count": null,
      "outputs": []
    },
    {
      "cell_type": "code",
      "source": [
        "sm.auc(fpr1,tpr1)"
      ],
      "metadata": {
        "id": "8eX70inFbR_e"
      },
      "execution_count": null,
      "outputs": []
    },
    {
      "cell_type": "code",
      "source": [
        "sm.auc(fpr2,tpr2)"
      ],
      "metadata": {
        "id": "VNn7mxx5dIT_"
      },
      "execution_count": null,
      "outputs": []
    },
    {
      "cell_type": "code",
      "source": [
        "sm.auc(fpr3,tpr3)"
      ],
      "metadata": {
        "id": "VJ_jLz7mdIe0"
      },
      "execution_count": null,
      "outputs": []
    },
    {
      "cell_type": "code",
      "source": [
        "plt.figure(figsize = (8, 8))\n",
        "plt.plot(fpr1, tpr1, 'b',label='max_depth=2')\n",
        "plt.plot(fpr2, tpr2, 'b--',label='min_samples_split=46')\n",
        "plt.plot(fpr3, tpr3, 'grey',label='min_samples_leaf=12')\n",
        "plt.plot([0, 1], [0, 1],'r--')\n",
        "plt.xlim([0, 1])\n",
        "plt.ylim([0, 1])\n",
        "plt.ylabel('True Positive Rate')\n",
        "plt.xlabel('False Positive Rate')\n",
        "plt.legend()\n",
        "plt.show()"
      ],
      "metadata": {
        "id": "KrzSvO5jdP3D"
      },
      "execution_count": null,
      "outputs": []
    },
    {
      "cell_type": "markdown",
      "source": [
        "* 분류 나무의 최적 모형"
      ],
      "metadata": {
        "id": "y4818aJ3J1e-"
      }
    },
    {
      "cell_type": "code",
      "source": [
        "DC = DecisionTreeClassifier(max_depth=2,random_state=3)\n",
        "DC.fit(X_train,y_train)\n",
        "y_pred_prob = DC.predict_proba(X_test)\n",
        "y_pred = DC.predict(X_test)"
      ],
      "metadata": {
        "id": "9yZdaGzbJ4ZZ"
      },
      "execution_count": null,
      "outputs": []
    },
    {
      "cell_type": "markdown",
      "source": [
        "* 혼돈행렬 출력"
      ],
      "metadata": {
        "id": "TVaIq2mKu_Xl"
      }
    },
    {
      "cell_type": "code",
      "source": [
        "confusion_matrix(y_test, y_pred)"
      ],
      "metadata": {
        "id": "c7QqJ5r6vBMP"
      },
      "execution_count": null,
      "outputs": []
    },
    {
      "cell_type": "markdown",
      "source": [
        "* AUC와 ROC 곡선 그리기"
      ],
      "metadata": {
        "id": "AoiH3Fw3KVJL"
      }
    },
    {
      "cell_type": "code",
      "source": [
        "fpr, tpr, threshold = sm.roc_curve(y_test, y_pred_prob[:, 0], pos_label=0)\n",
        "sm.auc(fpr,tpr)"
      ],
      "metadata": {
        "id": "qX1UgfD9KaK1"
      },
      "execution_count": null,
      "outputs": []
    },
    {
      "cell_type": "code",
      "source": [
        "plt.figure(figsize = (8, 8))\n",
        "plt.plot(fpr, tpr, 'b')\n",
        "plt.plot([0, 1], [0, 1],'r--')\n",
        "plt.xlim([0, 1])\n",
        "plt.ylim([0, 1])\n",
        "plt.ylabel('True Positive Rate')\n",
        "plt.xlabel('False Positive Rate')\n",
        "plt.show()"
      ],
      "metadata": {
        "id": "8Z1yaUI-Khee"
      },
      "execution_count": null,
      "outputs": []
    },
    {
      "cell_type": "markdown",
      "source": [
        "* 나무 모형을 이용한 앙상블 모형"
      ],
      "metadata": {
        "id": "1UYgUMaSs5lR"
      }
    },
    {
      "cell_type": "code",
      "source": [
        "#@title 배깅알고리즘의 적용\n",
        "from sklearn.ensemble import BaggingClassifier\n",
        "BC = BaggingClassifier(\n",
        "            estimator = DC, #\n",
        "            n_estimators=1000, # 붓스트랩 표본추출 횟수\n",
        "            max_samples=1, # 붓스트랩 표본추출 비율\n",
        "            bootstrap=True, # 복원 추출 (기본값)\n",
        "            oob_score=True, # Out-of-bag 데이터를 이용한 성능 계산\n",
        "            random_state=3\n",
        "        )\n",
        "BC.fit(X_train,y_train)\n",
        "y_pred = BC.predict(X_test)\n",
        "y_pred_prob = BC.predict_proba(X_test)"
      ],
      "metadata": {
        "id": "1pNCc7Mjs9Jt"
      },
      "execution_count": null,
      "outputs": []
    },
    {
      "cell_type": "code",
      "source": [
        "BC.score(X_train,y_train)"
      ],
      "metadata": {
        "id": "JSUQTo92t9pJ"
      },
      "execution_count": null,
      "outputs": []
    },
    {
      "cell_type": "code",
      "source": [
        "BC.score(X_test,y_test)"
      ],
      "metadata": {
        "id": "LPWn1Kigt_4y"
      },
      "execution_count": null,
      "outputs": []
    },
    {
      "cell_type": "code",
      "source": [
        "confusion_matrix(y_test, y_pred)"
      ],
      "metadata": {
        "id": "77XsibsyvglC"
      },
      "execution_count": null,
      "outputs": []
    },
    {
      "cell_type": "code",
      "source": [
        "#@title 랜덤포레스트 알고리즘의 적용\n",
        "from sklearn.ensemble import RandomForestClassifier  # 랜덤 포레스트\n",
        "RFC = RandomForestClassifier(\n",
        "        n_estimators= 1000, # 붓스트렙 표본추출 횟수\n",
        "        criterion = 'gini',\n",
        "        max_depth = 2,\n",
        "        min_samples_split = 20,\n",
        "        min_samples_leaf = 10,\n",
        "        random_state=3)\n",
        "RFC.fit(X_train,y_train)\n",
        "y_pred = RFC.predict(X_test)\n",
        "y_pred_prob = RFC.predict_proba(X_test)"
      ],
      "metadata": {
        "id": "cKXi7nBAxEeH"
      },
      "execution_count": null,
      "outputs": []
    },
    {
      "cell_type": "code",
      "source": [
        "RFC.score(X_train,y_train)"
      ],
      "metadata": {
        "id": "p8G84d5gxyVZ"
      },
      "execution_count": null,
      "outputs": []
    },
    {
      "cell_type": "code",
      "source": [
        "RFC.score(X_test,y_test)"
      ],
      "metadata": {
        "id": "APwpPl5cxzrQ"
      },
      "execution_count": null,
      "outputs": []
    },
    {
      "cell_type": "code",
      "source": [
        "confusion_matrix(y_test, y_pred)"
      ],
      "metadata": {
        "id": "ZL-T7Gn0x1De"
      },
      "execution_count": null,
      "outputs": []
    },
    {
      "cell_type": "code",
      "source": [
        "#@title Gradient Boosting\n",
        "from xgboost import XGBClassifier # 종속변수가 숫자로 입력\n",
        "GB = XGBClassifier(random_state=3,\n",
        "                      eval_metric='logloss', # 기준이 되는 손실함수\n",
        "                      booster = 'gbtree', # 부스팅 알고리즘 (또는 dart, gblinear)\n",
        "                      objective = 'binary:logistic',\n",
        "                      max_depth = 2, # 나무의 최대깊이\n",
        "                      learning_rate = 0.05, # 학습률(최대 값 1) (강의노트 84쪽 lambda값)\n",
        "                      n_estimators = 1000, # 붓스트랩 표본추출 횟수(강의노트 84쪽 B값)\n",
        "                      subsample = 1, # 붓스트랩 표본추출 비율\n",
        "                      colsample_bytree = 1 # 독립변수의 추출 비율\n",
        ")\n",
        "GB.fit(X_train,y_train)\n",
        "y_pred = GB.predict(X_test)\n",
        "y_pred_prob = GB.predict_proba(X_test)"
      ],
      "metadata": {
        "id": "WNnDo-XbzQCW"
      },
      "execution_count": null,
      "outputs": []
    },
    {
      "cell_type": "code",
      "source": [
        "GB.score(X_train,y_train)"
      ],
      "metadata": {
        "id": "R92QGoGa40Ky"
      },
      "execution_count": null,
      "outputs": []
    },
    {
      "cell_type": "code",
      "source": [
        "GB.score(X_test,y_test)"
      ],
      "metadata": {
        "id": "vx31yFdG4129"
      },
      "execution_count": null,
      "outputs": []
    },
    {
      "cell_type": "code",
      "source": [
        "confusion_matrix(y_test, y_pred)"
      ],
      "metadata": {
        "id": "JEKN6Uda43eP"
      },
      "execution_count": null,
      "outputs": []
    },
    {
      "cell_type": "markdown",
      "source": [
        "---\n",
        "__3개 집단 분류 사례 : 붓꽃 데이터__"
      ],
      "metadata": {
        "id": "Ljsu-KiFkbbq"
      }
    },
    {
      "cell_type": "code",
      "source": [
        "import pandas as pd\n",
        "import matplotlib.pyplot as plt\n",
        "import numpy as np"
      ],
      "metadata": {
        "id": "M0wd60ih_4kK"
      },
      "execution_count": null,
      "outputs": []
    },
    {
      "cell_type": "code",
      "source": [
        "#@title 데이터 불러오기\n",
        "iris = pd.read_table('/content/BizDataAnalysis/DATA/iris.csv',sep=',')\n",
        "iris.head()"
      ],
      "metadata": {
        "id": "yUgp_7Be_ael"
      },
      "execution_count": null,
      "outputs": []
    },
    {
      "cell_type": "code",
      "source": [
        "#@title 데이터 살펴보기\n",
        "import seaborn as sns\n",
        "sns.pairplot(iris, hue=\"species\")\n",
        "plt.show()"
      ],
      "metadata": {
        "id": "27Z7TzYeANHj"
      },
      "execution_count": null,
      "outputs": []
    },
    {
      "cell_type": "code",
      "source": [
        "# @title 데이터 분리\n",
        "X = iris.iloc[:,0:-1]\n",
        "y = iris.iloc[:,-1]\n",
        "from sklearn.model_selection import train_test_split\n",
        "X_train, X_test, y_train, y_test = train_test_split(X,y,random_state=13,train_size=0.7,stratify=iris['species'])"
      ],
      "metadata": {
        "id": "SLnZ1wZu_tsK"
      },
      "execution_count": null,
      "outputs": []
    },
    {
      "cell_type": "code",
      "source": [
        "#@title 로지스틱 회귀모형\n",
        "from sklearn.linear_model import LogisticRegression\n",
        "LR = LogisticRegression(max_iter=1000)\n",
        "LR.fit(X_train,y_train)\n",
        "y_pred = LR.predict(X_test)\n",
        "y_pred_prob = LR.predict_proba(X_test)\n",
        "\n",
        "# 회귀계수에 대한 오즈비 출력\n",
        "print(\"===========================================\")\n",
        "for i in range(0,len(LR.feature_names_in_)+1):\n",
        "  if i == 0 :\n",
        "    print(f'절편 : {np.exp(LR.intercept_[0])}')\n",
        "  else :\n",
        "    print(f'{LR.feature_names_in_[i-1]} : {np.exp(LR.coef_[0,i-1])}')\n",
        "# 정확도(AR) 출력\n",
        "print(\"===========================================\")\n",
        "print(f\"- 학습데이터 : {np.round(LR.score(X_train, y_train),5)} \\n- 평가데이터 : {LR.score(X_test, y_test)}\")\n",
        "print(\"===========================================\")\n",
        "# 혼돈행렬 출력\n",
        "from sklearn.metrics import confusion_matrix\n",
        "print(confusion_matrix(y_test, y_pred))\n",
        "\n",
        "# 모형 성능 리포트 출력\n",
        "print(\"===========================================\")\n",
        "from sklearn.metrics import classification_report\n",
        "print(classification_report(y_test, y_pred, target_names=['Setosa','Versicolor','Virginica']))"
      ],
      "metadata": {
        "id": "WJB_1Z-3CUVr"
      },
      "execution_count": null,
      "outputs": []
    },
    {
      "cell_type": "code",
      "source": [
        "y = np.zeros((,1))\n",
        "for i in range(0,len(y_train)):\n",
        "  if y_train[i] == 'setosa': y_train_\n"
      ],
      "metadata": {
        "id": "FGBA9k2wItZZ"
      },
      "execution_count": null,
      "outputs": []
    },
    {
      "cell_type": "code",
      "source": [
        "#@title Gradient Boosting Machine\n",
        "from sklearn.ensemble import HistGradientBoostingClassifier\n",
        "GB = HistGradientBoostingClassifier(max_iter=100)\n",
        "GB.fit(X_train,y_train)\n",
        "y_pred = GB.predict(X_test)\n",
        "y_pred_prob = GB.predict_proba(X_test)\n",
        "\n",
        "# 정확도(AR) 출력\n",
        "print(\"===========================================\")\n",
        "print(f\"- 학습데이터 : {np.round(GB.score(X_train, y_train),5)} \\n- 평가데이터 : {GB.score(X_test, y_test)}\")\n",
        "print(\"===========================================\")\n",
        "# 혼돈행렬 출력\n",
        "from sklearn.metrics import confusion_matrix\n",
        "print(confusion_matrix(y_test, y_pred))\n",
        "\n",
        "# 모형 성능 리포트 출력\n",
        "print(\"===========================================\")\n",
        "from sklearn.metrics import classification_report\n",
        "print(classification_report(y_test, y_pred, target_names=['Setosa','Versicolor','Virginica']))"
      ],
      "metadata": {
        "id": "yKHOZ-HnFrJf"
      },
      "execution_count": null,
      "outputs": []
    }
  ]
}