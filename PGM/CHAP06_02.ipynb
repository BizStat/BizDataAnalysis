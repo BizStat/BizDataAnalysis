{
  "nbformat": 4,
  "nbformat_minor": 0,
  "metadata": {
    "colab": {
      "provenance": [],
      "private_outputs": true
    },
    "kernelspec": {
      "name": "python3",
      "display_name": "Python 3"
    },
    "language_info": {
      "name": "python"
    }
  },
  "cells": [
    {
      "cell_type": "markdown",
      "metadata": {
        "id": "_QCHrEOT2m_t"
      },
      "source": [
        "# 제 6 장 __지도학습의 이해__\n",
        "___"
      ]
    },
    {
      "cell_type": "markdown",
      "metadata": {
        "id": "HAtyJ9c721KK"
      },
      "source": [
        "## __사전설정__\n",
        "---"
      ]
    },
    {
      "cell_type": "markdown",
      "metadata": {
        "id": "uw3-Nvtm249v"
      },
      "source": [
        "(1) 저장소 데이터 가져오기"
      ]
    },
    {
      "cell_type": "code",
      "execution_count": null,
      "metadata": {
        "id": "d5LYq9gPZx8m"
      },
      "outputs": [],
      "source": [
        "!rm -rf /content/BizDataAnalysis/"
      ]
    },
    {
      "cell_type": "code",
      "execution_count": null,
      "metadata": {
        "id": "9APPiXA43PE_"
      },
      "outputs": [],
      "source": [
        "!git clone https://github.com/BizStat/BizDataAnalysis.git"
      ]
    },
    {
      "cell_type": "markdown",
      "metadata": {
        "id": "YCG2Vnoh3IG2"
      },
      "source": [
        "\n",
        "(2) matplotlib 환경에서 한글 사용"
      ]
    },
    {
      "cell_type": "code",
      "execution_count": null,
      "metadata": {
        "id": "f7Kxphw17991"
      },
      "outputs": [],
      "source": [
        "!sudo apt-get install -y fonts-nanum\n",
        "!sudo fc-cache -f -v\n",
        "!rm ~/.cache/matplotlib -rf"
      ]
    },
    {
      "cell_type": "markdown",
      "metadata": {
        "id": "fYnwWvIX46iC"
      },
      "source": [
        "런타임 메뉴에서 '세션 다시 시작' 후 다음의 명령문 실행"
      ]
    },
    {
      "cell_type": "code",
      "execution_count": null,
      "metadata": {
        "id": "T5UHjIvW7SD-"
      },
      "outputs": [],
      "source": [
        "from matplotlib import rc\n",
        "rc('font', family='NanumGothicCoding')\n",
        "rc('axes', unicode_minus=False)"
      ]
    },
    {
      "cell_type": "markdown",
      "source": [
        "(3) 구글 드라이브 연결"
      ],
      "metadata": {
        "id": "tPVKIN1vqzjx"
      }
    },
    {
      "cell_type": "code",
      "source": [
        "from google.colab import drive\n",
        "drive.mount('/content/gdrive/')"
      ],
      "metadata": {
        "id": "12BNWJ1Yq10s"
      },
      "execution_count": null,
      "outputs": []
    },
    {
      "cell_type": "markdown",
      "metadata": {
        "id": "TaT2a1PB22xv"
      },
      "source": [
        "___"
      ]
    },
    {
      "cell_type": "markdown",
      "source": [
        "## 6.3 __분류모형의 이해와 활용__"
      ],
      "metadata": {
        "id": "Hqt8GZABOYRF"
      }
    },
    {
      "cell_type": "markdown",
      "source": [
        "### (1) Default 데이터"
      ],
      "metadata": {
        "id": "PAxvOm_gSa7u"
      }
    },
    {
      "cell_type": "markdown",
      "source": [
        "* 데이터 가져오기"
      ],
      "metadata": {
        "id": "1XFXrIG-K6LY"
      }
    },
    {
      "cell_type": "code",
      "source": [
        "import pandas as pd\n",
        "import matplotlib.pyplot as plt"
      ],
      "metadata": {
        "id": "R8mmOnISLHjj"
      },
      "execution_count": null,
      "outputs": []
    },
    {
      "cell_type": "code",
      "source": [
        "default = pd.read_table('/content/BizDataAnalysis/DATA/Default.csv', sep=',')"
      ],
      "metadata": {
        "id": "eC5SMc9vK8gm"
      },
      "execution_count": null,
      "outputs": []
    },
    {
      "cell_type": "code",
      "source": [
        "default"
      ],
      "metadata": {
        "id": "PtP9_H74LQrO"
      },
      "execution_count": null,
      "outputs": []
    },
    {
      "cell_type": "markdown",
      "source": [
        "* 데이터 살펴보기"
      ],
      "metadata": {
        "id": "6Y4x1qVoMJZw"
      }
    },
    {
      "cell_type": "code",
      "source": [
        "default.iloc[:,[3,4]].describe()"
      ],
      "metadata": {
        "id": "1aJWiR5LGfDC"
      },
      "execution_count": null,
      "outputs": []
    },
    {
      "cell_type": "code",
      "source": [
        "default.iloc[:,[3,4]].hist(bins=20)"
      ],
      "metadata": {
        "id": "yi8dsyvUMLU7"
      },
      "execution_count": null,
      "outputs": []
    },
    {
      "cell_type": "code",
      "source": [
        "import seaborn as sns\n",
        "sns.pairplot(default.iloc[:,1:], hue=\"default\")\n",
        "plt.show()"
      ],
      "metadata": {
        "id": "499w9F-OPh8x"
      },
      "execution_count": null,
      "outputs": []
    },
    {
      "cell_type": "code",
      "source": [
        "pd.crosstab(index=default['default'],columns=default['student'])"
      ],
      "metadata": {
        "id": "DWmp9-NSY9FP"
      },
      "execution_count": null,
      "outputs": []
    },
    {
      "cell_type": "markdown",
      "source": [
        "* 데이터 분할 : 학습데이터와 평가데이터"
      ],
      "metadata": {
        "id": "letUDQhvL4bU"
      }
    },
    {
      "cell_type": "code",
      "source": [
        "default.iloc[:,[1]]"
      ],
      "metadata": {
        "id": "6IklmBuVrZNA"
      },
      "execution_count": null,
      "outputs": []
    },
    {
      "cell_type": "code",
      "source": [
        "default.iloc[:,2:]"
      ],
      "metadata": {
        "id": "RmnMdfIMBDgI"
      },
      "execution_count": null,
      "outputs": []
    },
    {
      "cell_type": "code",
      "source": [
        "X = default.iloc[:,2:]\n",
        "y = default.iloc[:,[1]]"
      ],
      "metadata": {
        "id": "iNBQG1JWsku4"
      },
      "execution_count": null,
      "outputs": []
    },
    {
      "cell_type": "markdown",
      "source": [
        "* 가변수로 변환"
      ],
      "metadata": {
        "id": "G1VsFXpwVmd1"
      }
    },
    {
      "cell_type": "code",
      "source": [
        "X = pd.get_dummies(X,drop_first=True,dtype=int)"
      ],
      "metadata": {
        "id": "3jGkL8WCVpfJ"
      },
      "execution_count": null,
      "outputs": []
    },
    {
      "cell_type": "code",
      "source": [
        "y = pd.get_dummies(y,drop_first=True,dtype=int)\n",
        "y"
      ],
      "metadata": {
        "id": "PS57g1y2Wkgf"
      },
      "execution_count": null,
      "outputs": []
    },
    {
      "cell_type": "code",
      "source": [
        "from sklearn.model_selection import train_test_split"
      ],
      "metadata": {
        "id": "vh1ESgTLsUhQ"
      },
      "execution_count": null,
      "outputs": []
    },
    {
      "cell_type": "code",
      "source": [
        "X_train, X_test, y_train, y_test = train_test_split(X,y,random_state=3,train_size=0.7)"
      ],
      "metadata": {
        "id": "07pmPEK9RofS"
      },
      "execution_count": null,
      "outputs": []
    },
    {
      "cell_type": "code",
      "source": [
        "print(f\"학습 데이터의 수 : {len(y_train)}, 학습 데이터에서 연체개체 수 : {y_train.sum()}\")\n",
        "print(f\"평가 데이터의 수 : {len(y_test)}, 평가 데이터에서 연체개체 수 : {y_test.sum()}\")"
      ],
      "metadata": {
        "id": "Aug2SFBcRq6u"
      },
      "execution_count": null,
      "outputs": []
    },
    {
      "cell_type": "code",
      "source": [
        "X_train, X_test, y_train, y_test = train_test_split(X,y,random_state=3,train_size=0.7,stratify=default['default'])"
      ],
      "metadata": {
        "id": "RHDGcTOqFCdF"
      },
      "execution_count": null,
      "outputs": []
    },
    {
      "cell_type": "code",
      "source": [
        "print(f\"학습 데이터의 수 : {len(y_train)}, 학습 데이터에서 연체개체 수 : {y_train.sum()}\")\n",
        "print(f\"평가 데이터의 수 : {len(y_test)}, 평가 데이터에서 연체개체 수 : {y_test.sum()}\")"
      ],
      "metadata": {
        "id": "KZk4EDJAULPp"
      },
      "execution_count": null,
      "outputs": []
    },
    {
      "cell_type": "markdown",
      "source": [
        "---\n",
        "__로지스틱 회귀모형__"
      ],
      "metadata": {
        "id": "fdq0RIoNrdop"
      }
    },
    {
      "cell_type": "markdown",
      "source": [
        "* 로지스틱 회귀모형의 적합"
      ],
      "metadata": {
        "id": "Mg99UXPqh-Ll"
      }
    },
    {
      "cell_type": "code",
      "source": [
        "from sklearn.linear_model import LogisticRegression\n",
        "LR = LogisticRegression()\n",
        "LR.fit(X_train,y_train)"
      ],
      "metadata": {
        "id": "FGZLlXnotH-S"
      },
      "execution_count": null,
      "outputs": []
    },
    {
      "cell_type": "markdown",
      "source": [
        "* 로지스틱 회귀모형의 추정 결과 살펴보기"
      ],
      "metadata": {
        "id": "pzU8XqObiIjT"
      }
    },
    {
      "cell_type": "code",
      "source": [
        "for i in range(0,len(LR.feature_names_in_)+1):\n",
        "  if i == 0 :\n",
        "    print(f'절편 : {LR.intercept_[0]}')\n",
        "  else :\n",
        "    print(f'{LR.feature_names_in_[i-1]} : {LR.coef_[0,i-1]}')"
      ],
      "metadata": {
        "id": "o6eqCM3ijv5f"
      },
      "execution_count": null,
      "outputs": []
    },
    {
      "cell_type": "code",
      "source": [
        "import numpy as np\n",
        "for i in range(0,len(LR.feature_names_in_)+1):\n",
        "  if i == 0 :\n",
        "    print(f'절편 : {np.exp(LR.intercept_[0])}')\n",
        "  else :\n",
        "    print(f'{LR.feature_names_in_[i-1]} : {np.exp(LR.coef_[0,i-1])}')"
      ],
      "metadata": {
        "id": "pliRax6vnVrm"
      },
      "execution_count": null,
      "outputs": []
    },
    {
      "cell_type": "markdown",
      "source": [
        "* 로지스틱 회귀모형 적합 결과를 이용한 예측"
      ],
      "metadata": {
        "id": "mHHW3G8BpgNK"
      }
    },
    {
      "cell_type": "code",
      "source": [
        "y_pred = LR.predict(X_test)"
      ],
      "metadata": {
        "id": "bELEoBNQpuKg"
      },
      "execution_count": null,
      "outputs": []
    },
    {
      "cell_type": "code",
      "source": [
        "y_pred"
      ],
      "metadata": {
        "id": "RYT9dnzqs4ag"
      },
      "execution_count": null,
      "outputs": []
    },
    {
      "cell_type": "code",
      "source": [
        "y_pred_prob = LR.predict_proba(X_test)"
      ],
      "metadata": {
        "id": "i3D9_M-CqB9c"
      },
      "execution_count": null,
      "outputs": []
    },
    {
      "cell_type": "code",
      "source": [
        "y_pred_prob"
      ],
      "metadata": {
        "id": "hIKVMm_Up1uS"
      },
      "execution_count": null,
      "outputs": []
    },
    {
      "cell_type": "code",
      "source": [
        "y_pred_prob[y_pred_prob[:,0]<y_pred_prob[:,1]]"
      ],
      "metadata": {
        "id": "CtVgQsZnrqF8"
      },
      "execution_count": null,
      "outputs": []
    },
    {
      "cell_type": "code",
      "source": [
        "np.transpose(y_test).to_numpy()[0,:]"
      ],
      "metadata": {
        "id": "ByK1S3envnLr"
      },
      "execution_count": null,
      "outputs": []
    },
    {
      "cell_type": "code",
      "source": [
        "y_actual = np.transpose(y_test).to_numpy()[0,:]"
      ],
      "metadata": {
        "id": "_ibDjUrIu4d_"
      },
      "execution_count": null,
      "outputs": []
    },
    {
      "cell_type": "code",
      "source": [
        "pred_df = pd.DataFrame({\n",
        "    'actual_class': y_actual,\n",
        "    'predicted_class': y_pred,\n",
        "    'probabilty_class_0': y_pred_prob[:,1]\n",
        "})"
      ],
      "metadata": {
        "id": "28z9Ux1pvXk-"
      },
      "execution_count": null,
      "outputs": []
    },
    {
      "cell_type": "code",
      "source": [
        "pred_df.head()"
      ],
      "metadata": {
        "id": "7KHUxpeNv9Li"
      },
      "execution_count": null,
      "outputs": []
    },
    {
      "cell_type": "code",
      "source": [
        "pd.crosstab(index=pred_df['actual_class'],columns=pred_df['predicted_class'])"
      ],
      "metadata": {
        "id": "9L6pkG69wEMn"
      },
      "execution_count": null,
      "outputs": []
    },
    {
      "cell_type": "markdown",
      "source": [
        "* 로지스틱 회귀모형의 성능평가"
      ],
      "metadata": {
        "id": "LCroS859qn3Z"
      }
    },
    {
      "cell_type": "code",
      "source": [
        "from sklearn.metrics import accuracy_score\n",
        "accuracy_score(y_test, y_pred)"
      ],
      "metadata": {
        "id": "WntM1fCxrSWU"
      },
      "execution_count": null,
      "outputs": []
    },
    {
      "cell_type": "code",
      "source": [
        "from sklearn.metrics import confusion_matrix\n",
        "confusion_matrix(y_test, y_pred)"
      ],
      "metadata": {
        "id": "JeZYH-sN0vj_"
      },
      "execution_count": null,
      "outputs": []
    },
    {
      "cell_type": "code",
      "source": [
        "from sklearn.metrics import classification_report\n",
        "print(classification_report(y_test, y_pred, target_names=['default_no','default_yes']))\n"
      ],
      "metadata": {
        "id": "0CI7sBj12eDD"
      },
      "execution_count": null,
      "outputs": []
    },
    {
      "cell_type": "markdown",
      "source": [
        "* 분류기준값의 변화에 따른 모형의 정확도"
      ],
      "metadata": {
        "id": "f-WIiJuZ5Y_H"
      }
    },
    {
      "cell_type": "code",
      "source": [
        "def tmp(x):\n",
        "    if x >= 0.2:\n",
        "        result = 1\n",
        "    else:\n",
        "        result = 0\n",
        "    return result\n",
        "\n",
        "pred_df['predicted_class'] = pred_df['probabilty_class_0'].apply(tmp)\n",
        "pd.crosstab(index=pred_df['actual_class'],columns=pred_df['predicted_class'])"
      ],
      "metadata": {
        "id": "69JbJ35D6BoE"
      },
      "execution_count": null,
      "outputs": []
    },
    {
      "cell_type": "code",
      "source": [
        "def tmp(x):\n",
        "    if x >= 0.8:\n",
        "        result = 1\n",
        "    else:\n",
        "        result = 0\n",
        "    return result\n",
        "\n",
        "pred_df['predicted_class'] = pred_df['probabilty_class_0'].apply(tmp)\n",
        "pd.crosstab(index=pred_df['actual_class'],columns=pred_df['predicted_class'])"
      ],
      "metadata": {
        "id": "slEcMW6i8prw"
      },
      "execution_count": null,
      "outputs": []
    },
    {
      "cell_type": "markdown",
      "source": [
        "* ROC 곡선"
      ],
      "metadata": {
        "id": "v8-hoSpF-b54"
      }
    },
    {
      "cell_type": "code",
      "source": [
        "import sklearn.metrics as sm\n",
        "fpr, tpr, threshold = sm.roc_curve(y_test, y_pred_prob[:, 0], pos_label=0)\n",
        "sm.auc(fpr,tpr)"
      ],
      "metadata": {
        "id": "KYtADdpi-fBz"
      },
      "execution_count": null,
      "outputs": []
    },
    {
      "cell_type": "code",
      "source": [
        "plt.figure(figsize = (8, 8))\n",
        "plt.plot(fpr, tpr, 'b')\n",
        "plt.plot([0, 1], [0, 1],'r--')\n",
        "plt.xlim([0, 1])\n",
        "plt.ylim([0, 1])\n",
        "plt.ylabel('True Positive Rate')\n",
        "plt.xlabel('False Positive Rate')\n",
        "plt.show()"
      ],
      "metadata": {
        "id": "YBS6xI7j-u1k"
      },
      "execution_count": null,
      "outputs": []
    }
  ]
}