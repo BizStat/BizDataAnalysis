{
  "nbformat": 4,
  "nbformat_minor": 0,
  "metadata": {
    "colab": {
      "provenance": []
    },
    "kernelspec": {
      "name": "python3",
      "display_name": "Python 3"
    },
    "language_info": {
      "name": "python"
    }
  },
  "cells": [
    {
      "cell_type": "markdown",
      "metadata": {
        "id": "_QCHrEOT2m_t"
      },
      "source": [
        "# 제 8 장 __인공신경망의 이해와 활용__\n",
        "___"
      ]
    },
    {
      "cell_type": "markdown",
      "metadata": {
        "id": "HAtyJ9c721KK"
      },
      "source": [
        "## __사전설정__\n",
        "---"
      ]
    },
    {
      "cell_type": "markdown",
      "metadata": {
        "id": "uw3-Nvtm249v"
      },
      "source": [
        "(1) 저장소 데이터 가져오기"
      ]
    },
    {
      "cell_type": "code",
      "execution_count": null,
      "metadata": {
        "id": "d5LYq9gPZx8m"
      },
      "outputs": [],
      "source": [
        "!rm -rf /content/BizDataAnalysis/"
      ]
    },
    {
      "cell_type": "code",
      "execution_count": null,
      "metadata": {
        "id": "9APPiXA43PE_"
      },
      "outputs": [],
      "source": [
        "!git clone https://github.com/BizStat/BizDataAnalysis.git"
      ]
    },
    {
      "cell_type": "markdown",
      "metadata": {
        "id": "YCG2Vnoh3IG2"
      },
      "source": [
        "\n",
        "(2) matplotlib 환경에서 한글 사용"
      ]
    },
    {
      "cell_type": "code",
      "execution_count": null,
      "metadata": {
        "id": "f7Kxphw17991"
      },
      "outputs": [],
      "source": [
        "!sudo apt-get install -y fonts-nanum\n",
        "!sudo fc-cache -f -v\n",
        "!rm ~/.cache/matplotlib -rf"
      ]
    },
    {
      "cell_type": "markdown",
      "metadata": {
        "id": "fYnwWvIX46iC"
      },
      "source": [
        "런타임 메뉴에서 '세션 다시 시작' 후 다음의 명령문 실행"
      ]
    },
    {
      "cell_type": "code",
      "execution_count": null,
      "metadata": {
        "id": "T5UHjIvW7SD-"
      },
      "outputs": [],
      "source": [
        "from matplotlib import rc\n",
        "rc('font', family='NanumGothicCoding')\n",
        "rc('axes', unicode_minus=False)"
      ]
    },
    {
      "cell_type": "markdown",
      "source": [
        "(3) 구글 드라이브 연결"
      ],
      "metadata": {
        "id": "tPVKIN1vqzjx"
      }
    },
    {
      "cell_type": "code",
      "source": [
        "from google.colab import drive\n",
        "drive.mount('/content/gdrive/')"
      ],
      "metadata": {
        "id": "12BNWJ1Yq10s"
      },
      "execution_count": null,
      "outputs": []
    },
    {
      "cell_type": "markdown",
      "metadata": {
        "id": "TaT2a1PB22xv"
      },
      "source": [
        "___"
      ]
    },
    {
      "cell_type": "markdown",
      "source": [
        "## 8.3 __신경망 모형의 활용__"
      ],
      "metadata": {
        "id": "Hqt8GZABOYRF"
      }
    },
    {
      "cell_type": "markdown",
      "source": [
        "### (1) Convolution Neural Network"
      ],
      "metadata": {
        "id": "PAxvOm_gSa7u"
      }
    },
    {
      "cell_type": "markdown",
      "source": [
        "* MNIST 데이터 가져오기"
      ],
      "metadata": {
        "id": "mu7XIhObI6eS"
      }
    },
    {
      "cell_type": "code",
      "source": [
        "import pandas as pd\n",
        "import numpy as np\n",
        "import matplotlib.pyplot as plt"
      ],
      "metadata": {
        "id": "-9B7dOwZJDuT"
      },
      "execution_count": null,
      "outputs": []
    },
    {
      "cell_type": "code",
      "source": [
        "!unzip /content/BizDataAnalysis/DATA/mnist.zip # /content 폴더에 풀림\n",
        "mnist = pd.read_table('/content/mnist.csv',header=None,sep=',')"
      ],
      "metadata": {
        "id": "jKrdu9nKJESa"
      },
      "execution_count": null,
      "outputs": []
    },
    {
      "cell_type": "markdown",
      "source": [
        "* 데이터 분리 및 변환"
      ],
      "metadata": {
        "id": "uPITwG83nIkt"
      }
    },
    {
      "cell_type": "code",
      "source": [
        "X = mnist.iloc[:,1:]  # 28 x 29 픽셀 이미지\n",
        "y = mnist.iloc[:,[0]] # 해당 이미지가 나타내는 숫자"
      ],
      "metadata": {
        "id": "XPr50fBRm2PO"
      },
      "execution_count": null,
      "outputs": []
    },
    {
      "cell_type": "code",
      "source": [
        "from sklearn.model_selection import train_test_split\n",
        "X_train, X_test, y_train, y_test = train_test_split(X,y,train_size=60000,shuffle=False)"
      ],
      "metadata": {
        "id": "QyDi4CAcnLkI"
      },
      "execution_count": null,
      "outputs": []
    },
    {
      "cell_type": "markdown",
      "source": [
        "* CNN 적용을 위해 데이터 변환"
      ],
      "metadata": {
        "id": "nLigB6QInS2o"
      }
    },
    {
      "cell_type": "code",
      "source": [
        "X_train = np.array(X_train).reshape((60000, 28 ,28, 1))\n",
        "X_test = np.array(X_test).reshape((10000, 28 ,28, 1))"
      ],
      "metadata": {
        "id": "Qu7EQpn3nPtT"
      },
      "execution_count": null,
      "outputs": []
    },
    {
      "cell_type": "markdown",
      "source": [
        "* CNN 모형 설정"
      ],
      "metadata": {
        "id": "tfdjvzLgm5Z5"
      }
    },
    {
      "cell_type": "code",
      "source": [
        "from tensorflow.keras import layers, models\n",
        "\n",
        "mnist_cnn_mod = models.Sequential([\n",
        "    layers.Conv2D(32, kernel_size=(5, 5), strides=(1, 1),\n",
        "                  padding='same', activation='relu', input_shape=(28, 28, 1)),\n",
        "    layers.MaxPooling2D(pool_size=(2, 2), strides=(2, 2)),\n",
        "    layers.Conv2D(64, kernel_size=(2, 2), activation='relu', padding='same'),\n",
        "    layers.MaxPooling2D(pool_size=(2, 2)),\n",
        "    layers.Dropout(0.25),\n",
        "    layers.Flatten(),\n",
        "    layers.Dense(1000, activation='relu'),\n",
        "    layers.Dense(10, activation='softmax')\n",
        "])"
      ],
      "metadata": {
        "id": "Fb7yxis-ndxu"
      },
      "execution_count": null,
      "outputs": []
    },
    {
      "cell_type": "code",
      "source": [
        "mnist_cnn_mod.summary()"
      ],
      "metadata": {
        "id": "u2m_MpQInjz5"
      },
      "execution_count": null,
      "outputs": []
    },
    {
      "cell_type": "code",
      "source": [
        "mnist_cnn_mod.compile(optimizer='Adam', loss = 'sparse_categorical_crossentropy', metrics=['acc'])"
      ],
      "metadata": {
        "id": "-OX_Gi6bo0R-"
      },
      "execution_count": null,
      "outputs": []
    },
    {
      "cell_type": "markdown",
      "source": [
        "* CNN 모형 학습 및 평가"
      ],
      "metadata": {
        "id": "nX_yB67fovdQ"
      }
    },
    {
      "cell_type": "code",
      "source": [
        "history = mnist_cnn_mod.fit(\n",
        "  X_train, y_train,\n",
        "  validation_data=(X_test,y_test),\n",
        "  epochs=10, batch_size=1000,\n",
        "  verbose=1\n",
        ")"
      ],
      "metadata": {
        "id": "W8LeoLxGm50T"
      },
      "execution_count": null,
      "outputs": []
    },
    {
      "cell_type": "code",
      "source": [
        "hist = pd.DataFrame(history.history)\n",
        "hist['epoch'] = history.epoch\n",
        "hist"
      ],
      "metadata": {
        "id": "AXNnSiNazDiF"
      },
      "execution_count": null,
      "outputs": []
    },
    {
      "cell_type": "code",
      "source": [
        "plt.xlabel('Epoch')\n",
        "plt.ylabel('Accuracy')\n",
        "plt.plot(hist['epoch'], hist['acc'],label='Train Error')\n",
        "plt.plot(hist['epoch'], hist['val_acc'],label = 'Test Error')\n",
        "plt.legend()\n",
        "plt.show()"
      ],
      "metadata": {
        "id": "TLMzpKZnulsr"
      },
      "execution_count": null,
      "outputs": []
    },
    {
      "cell_type": "code",
      "source": [
        "score = mnist_cnn_mod.evaluate(X_test, y_test)\n",
        "print(f'Test Loss : {score[0]}')\n",
        "print(f'Test Accuracy  : {score[1]}')"
      ],
      "metadata": {
        "id": "3t7CdYkKuugb"
      },
      "execution_count": null,
      "outputs": []
    },
    {
      "cell_type": "markdown",
      "source": [
        "* 모형의 분류 결과 살펴보기"
      ],
      "metadata": {
        "id": "ZOw3FeDNuILf"
      }
    },
    {
      "cell_type": "code",
      "source": [
        "pred_result = mnist_cnn_mod.predict(X_test)\n",
        "pred_labels = np.argmax(pred_result,  axis=1)\n",
        "y_test_pred = pd.DataFrame(pred_labels)"
      ],
      "metadata": {
        "id": "ZhBGSaMUu7MX"
      },
      "execution_count": null,
      "outputs": []
    },
    {
      "cell_type": "code",
      "source": [
        "y_test.reset_index(inplace=True)"
      ],
      "metadata": {
        "id": "mknL1jdbSQwW"
      },
      "execution_count": null,
      "outputs": []
    },
    {
      "cell_type": "code",
      "source": [
        "result = pd.concat([y_test,y_test_pred],axis=1,ignore_index=True)"
      ],
      "metadata": {
        "id": "dAPSBpviFc5J"
      },
      "execution_count": null,
      "outputs": []
    },
    {
      "cell_type": "code",
      "source": [
        "pd.crosstab(index=result.iloc[:,2],columns=result.iloc[:,3],normalize='index')"
      ],
      "metadata": {
        "id": "n8JdMUp4uV63"
      },
      "execution_count": null,
      "outputs": []
    },
    {
      "cell_type": "markdown",
      "source": [
        "---"
      ],
      "metadata": {
        "id": "r1qVKFiMRY9S"
      }
    }
  ]
}