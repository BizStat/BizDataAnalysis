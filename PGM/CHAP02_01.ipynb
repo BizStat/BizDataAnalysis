{
  "nbformat": 4,
  "nbformat_minor": 0,
  "metadata": {
    "colab": {
      "provenance": []
    },
    "kernelspec": {
      "name": "python3",
      "display_name": "Python 3"
    },
    "language_info": {
      "name": "python"
    }
  },
  "cells": [
    {
      "cell_type": "markdown",
      "source": [
        "# 제2장 데이터 요약과 시각화"
      ],
      "metadata": {
        "id": "l8zrsFUpMU1C"
      }
    },
    {
      "cell_type": "markdown",
      "source": [
        "### 사전 준비작업\n",
        "\n",
        "* 실습에 사용할 데이터를 GitHub 저장소로부터 가져오기 위하여 다음과 같은 명령을 코랩 코드 셀에서 실행"
      ],
      "metadata": {
        "id": "V-OEaw1FMYzd"
      }
    },
    {
      "cell_type": "code",
      "source": [
        "!git clone https://github.com/BizStat/BizDataAnalysis.git"
      ],
      "metadata": {
        "id": "giiJFJTLR1Mr"
      },
      "execution_count": null,
      "outputs": []
    },
    {
      "cell_type": "markdown",
      "source": [
        "* 구글 코랩의 특정 폴더와 그 내용을 삭제하기 위한 명령어"
      ],
      "metadata": {
        "id": "ROWtSTP6fGUM"
      }
    },
    {
      "cell_type": "code",
      "source": [
        "!rm -rf /content/BizDataAnalysis"
      ],
      "metadata": {
        "id": "VZIT1--PdjET"
      },
      "execution_count": null,
      "outputs": []
    },
    {
      "cell_type": "markdown",
      "source": [
        "* 한글폰트 설치"
      ],
      "metadata": {
        "id": "_8z5IBFXeZOH"
      }
    },
    {
      "cell_type": "code",
      "source": [
        "!sudo apt-get install -y fonts-nanum"
      ],
      "metadata": {
        "id": "unhVq7oFeYgn"
      },
      "execution_count": null,
      "outputs": []
    },
    {
      "cell_type": "code",
      "source": [
        "!fc-list :lang=ko"
      ],
      "metadata": {
        "id": "mrHioimZerNW"
      },
      "execution_count": null,
      "outputs": []
    },
    {
      "cell_type": "markdown",
      "source": [
        "* matplotlib 환경에서 한글 폰트를 사용하기 위한 설정"
      ],
      "metadata": {
        "id": "QS1T799OVjah"
      }
    },
    {
      "cell_type": "code",
      "source": [
        "from matplotlib import rc\n",
        "rc('font', family='NanumMyeongjo')"
      ],
      "metadata": {
        "id": "LiqJlQQzVi8i"
      },
      "execution_count": null,
      "outputs": []
    },
    {
      "cell_type": "markdown",
      "source": [
        "### 일반적인 형태의 데이터\n",
        "* Advertiser.xlsx : 2021년 9월 한 달 동안 집행한 국내 광고주별 매체 광고비 현황 (출처: www.adic.or.kr)"
      ],
      "metadata": {
        "id": "IenVFCo71Oq9"
      }
    },
    {
      "cell_type": "code",
      "source": [
        "import pandas as pd\n",
        "df = pd.read_excel('/content/BizDataAnalysis/DATA/Advertiser.xlsx')\n",
        "df.head()"
      ],
      "metadata": {
        "id": "Ped_db9f1VIY"
      },
      "execution_count": null,
      "outputs": []
    },
    {
      "cell_type": "markdown",
      "source": [
        "### 비정형 데이터"
      ],
      "metadata": {
        "id": "2KvCfgf91YyG"
      }
    },
    {
      "cell_type": "markdown",
      "source": [
        "* 문서 데이터 파일의 워드 클라우드 분석"
      ],
      "metadata": {
        "id": "jTVmisy3aXSe"
      }
    },
    {
      "cell_type": "code",
      "source": [
        "from wordcloud import WordCloud\n",
        "import matplotlib.pyplot as plt\n",
        "with open('/content/BizDataAnalysis/DATA/PresidentRho.txt', 'r') as file:\n",
        "  text = file.read()\n",
        "wordcloud = WordCloud(font_path='/usr/share/fonts/truetype/nanum/NanumSquareR.ttf').generate(text)\n",
        "plt.imshow(wordcloud, interpolation='bilinear')"
      ],
      "metadata": {
        "id": "PyGmgipa1bo2"
      },
      "execution_count": null,
      "outputs": []
    },
    {
      "cell_type": "markdown",
      "source": [
        "* 이미지 데이터"
      ],
      "metadata": {
        "id": "EJnI9pQLgUGb"
      }
    },
    {
      "cell_type": "code",
      "source": [
        "import cv2\n",
        "from matplotlib import pyplot as plt\n",
        "import pandas as pd\n",
        "image = cv2.imread('/content/BizDataAnalysis/DATA/imgKGU.jpg')\n",
        "plt.imshow(image)\n",
        "plt.show()\n",
        "gray_image = cv2.cvtColor(image, cv2.COLOR_BGR2GRAY)\n",
        "plt.imshow(gray_image)\n",
        "plt.show()\n",
        "numbers = gray_image.flatten()\n",
        "print(numbers)\n",
        "numbers = pd.DataFrame(numbers)\n",
        "numbers.head()"
      ],
      "metadata": {
        "id": "NBT8HG2RgWKR"
      },
      "execution_count": null,
      "outputs": []
    },
    {
      "cell_type": "markdown",
      "source": [
        "### 오디오 데이터\n",
        "* 음악으로부터 주파수를 측정한 사례"
      ],
      "metadata": {
        "id": "vow4WBW1wx1e"
      }
    },
    {
      "cell_type": "code",
      "source": [
        "import librosa\n",
        "import matplotlib.pyplot as plt\n",
        "y,sr = librosa.load('/content/BizDataAnalysis/DATA/pop.00041.wav' ,sr=100)\n",
        "plt.plot(y)\n",
        "plt.show()"
      ],
      "metadata": {
        "id": "uJTfqzruw74C"
      },
      "execution_count": null,
      "outputs": []
    },
    {
      "cell_type": "markdown",
      "source": [
        "### 지도 데이터\n",
        "\n",
        "* 지리정보를 포함한 shape 파일을 읽어들여 지도 그리기"
      ],
      "metadata": {
        "id": "ba5TkfiqiQ6K"
      }
    },
    {
      "cell_type": "code",
      "source": [
        "import geopandas as gpd\n",
        "#sf = gpd.read_file('/content/BizDataAnalysis/DATA/TL_SCCO_SIG.shp',encoding='CP949')\n",
        "sf.convex_hull.plot(color='gray', edgecolor=\"w\")\n",
        "sf.plot()"
      ],
      "metadata": {
        "id": "KkfoR8fqwv5H"
      },
      "execution_count": null,
      "outputs": []
    },
    {
      "cell_type": "markdown",
      "source": [
        "* 앞서 읽어 들인 지리정보데이터의 구성 내용 보기"
      ],
      "metadata": {
        "id": "_L__kpUa05_K"
      }
    },
    {
      "cell_type": "code",
      "source": [
        "sf.head()"
      ],
      "metadata": {
        "id": "KAkXLEMm0GZc"
      },
      "execution_count": null,
      "outputs": []
    }
  ]
}